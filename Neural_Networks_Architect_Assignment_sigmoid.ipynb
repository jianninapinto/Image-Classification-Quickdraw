{
  "nbformat": 4,
  "nbformat_minor": 0,
  "metadata": {
    "colab": {
      "provenance": []
    },
    "kernelspec": {
      "display_name": "Python 3",
      "language": "python",
      "name": "python3"
    },
    "language_info": {
      "codemirror_mode": {
        "name": "ipython",
        "version": 3
      },
      "file_extension": ".py",
      "mimetype": "text/x-python",
      "name": "python",
      "nbconvert_exporter": "python",
      "pygments_lexer": "ipython3",
      "version": "3.8.5"
    },
    "gpuClass": "standard"
  },
  "cells": [
    {
      "cell_type": "markdown",
      "metadata": {
        "id": "ObyHCH8HvHSf"
      },
      "source": [
        "\n",
        "# *Data Science Unit 4 Sprint 2 Assignment 1*\n",
        "\n",
        "Use TensorFlow Keras and a sample of the [Quickdraw dataset](https://github.com/googlecreativelab/quickdraw-dataset) to build a sketch classification model. The dataset has been sampled to only 10 classes and 10000 observations per class. \n",
        "\n",
        "### Objective\n",
        "\n",
        "- Build a baseline classification model then, run a few experiments with different optimizers and learning rates. \n",
        "- Don't forget to [**switch to GPU if you're running your notebook on Colab!**](https://colab.research.google.com/notebooks/gpu.ipynb)"
      ]
    },
    {
      "cell_type": "markdown",
      "metadata": {
        "id": "s-Tc3ovEyQ9b"
      },
      "source": [
        "## Load Your Data"
      ]
    },
    {
      "cell_type": "code",
      "metadata": {
        "id": "CkU0pAYCvU8o"
      },
      "source": [
        "# imports in first cell \n",
        "import seaborn as sns\n",
        "import pandas as pd\n",
        "import numpy as np\n",
        "import tensorflow as tf \n",
        "import matplotlib.pyplot as plt\n",
        "from sklearn.utils import shuffle\n",
        "\n",
        "# use Sequential to build out your model\n",
        "from tensorflow.keras.models import Sequential\n",
        "\n",
        "# Dense layer is used for Fully Connected Forward Feeding networks\n",
        "from tensorflow.keras.layers import Dense"
      ],
      "execution_count": null,
      "outputs": []
    },
    {
      "cell_type": "markdown",
      "metadata": {
        "id": "UT2HFvSgDlFQ"
      },
      "source": [
        "Note that the 28x28 quickdraw images have already been \"flattened\" into 784: dimensional vectors"
      ]
    },
    {
      "cell_type": "code",
      "metadata": {
        "id": "S1XYJRQKLj1B",
        "colab": {
          "base_uri": "https://localhost:8080/"
        },
        "outputId": "dae54042-6292-4ec1-8842-82826b171733"
      },
      "source": [
        "# load the quickdraw data set\n",
        "!git clone https://github.com/LambdaSchool/DS-Unit-4-Sprint-2-Neural-Networks\n",
        "data = np.load('/content/DS-Unit-4-Sprint-2-Neural-Networks/quickdraw10.npz')\n",
        "\n",
        "X = data['arr_0']\n",
        "y = data['arr_1']\n",
        "\n",
        "print(X.shape)\n",
        "print(y.shape)"
      ],
      "execution_count": null,
      "outputs": [
        {
          "output_type": "stream",
          "name": "stdout",
          "text": [
            "Cloning into 'DS-Unit-4-Sprint-2-Neural-Networks'...\n",
            "remote: Enumerating objects: 513, done.\u001b[K\n",
            "remote: Counting objects: 100% (148/148), done.\u001b[K\n",
            "remote: Compressing objects: 100% (80/80), done.\u001b[K\n",
            "remote: Total 513 (delta 76), reused 124 (delta 66), pack-reused 365\u001b[K\n",
            "Receiving objects: 100% (513/513), 83.34 MiB | 7.48 MiB/s, done.\n",
            "Resolving deltas: 100% (260/260), done.\n",
            "(100000, 784)\n",
            "(100000,)\n"
          ]
        }
      ]
    },
    {
      "cell_type": "markdown",
      "metadata": {
        "id": "mvMjoB_yDZTL"
      },
      "source": [
        "These are the names of the 10 image classes"
      ]
    },
    {
      "cell_type": "code",
      "metadata": {
        "id": "c8qsDqdqvHDd"
      },
      "source": [
        "class_names = ['apple',\n",
        "             'anvil',\n",
        "             'airplane',\n",
        "             'banana',\n",
        "             'The Eiffel Tower',\n",
        "             'The Mona Lisa',\n",
        "             'The Great Wall of China',\n",
        "             'alarm clock',\n",
        "             'ant',\n",
        "             'asparagus']"
      ],
      "execution_count": null,
      "outputs": []
    },
    {
      "cell_type": "markdown",
      "metadata": {
        "id": "VxuY8RYXD9S4"
      },
      "source": [
        "We can explore the data a bit by reshaping the vectors back to images and displaying them with their labels. <br>\n",
        "Turns out the data has 10 blocks of 10,000 images of each of the above labels, in order. <br>\n",
        "So the code below displays the first image of each class."
      ]
    },
    {
      "cell_type": "code",
      "metadata": {
        "id": "Owbm1EbxvA5A",
        "colab": {
          "base_uri": "https://localhost:8080/",
          "height": 293
        },
        "outputId": "06cae94d-c250-43e1-c4ac-a36f5fcd1fca"
      },
      "source": [
        "# these are your 10 unique images\n",
        "plt.figure(figsize=(10,5))\n",
        "start = 0\n",
        "\n",
        "for num, name in enumerate(class_names):\n",
        "    plt.subplot(2,5, num+1) # num+1 specifies the position of the current subplot in the figure.\n",
        "    plt.xticks([]) # remove the tick marks on both the x-axis \n",
        "    plt.yticks([]) # and y-axis of the plot.\n",
        "    plt.grid(False) # remove the grid lines \n",
        "    plt.imshow(X[start].reshape(28,28),cmap=plt.cm.binary) # show img by getting the img data and reshaping it to a 28x28 pixel array, display img in black and white\n",
        "    plt.xlabel(name) # add name of the class for each img\n",
        "    start += 10000\n",
        "plt.show()"
      ],
      "execution_count": null,
      "outputs": [
        {
          "output_type": "display_data",
          "data": {
            "text/plain": [
              "<Figure size 720x360 with 10 Axes>"
            ],
            "image/png": "[encoded data removed]"
          },
          "metadata": {}
        }
      ]
    },
    {
      "cell_type": "markdown",
      "metadata": {
        "id": "Av6i6t5QLj1D"
      },
      "source": [
        "Say hello to the Quickdraw dataset!\n",
        "\n",
        "You'll be using this dataset a lot this week as an alternative to the MNIST digits data set, which we'll use in the guided projects. The nice thing about this dataset is that it's simple, which allows us to focus on our model, its various components, and gradually come to a better understanding of how to build neural networks without worrying about cleaning and prepping our image data much."
      ]
    },
    {
      "cell_type": "code",
      "metadata": {
        "id": "c97_M1WNvTNY"
      },
      "source": [
        "# always a good idea to shuffle your dataset!\n",
        "X, y = shuffle(X, y)"
      ],
      "execution_count": null,
      "outputs": []
    },
    {
      "cell_type": "markdown",
      "metadata": {
        "id": "jb70CbLVyK65"
      },
      "source": [
        "-----\n",
        "\n",
        "## Build Your Baseline Model\n",
        "\n",
        "Make sure that you\n",
        "\n",
        "- **Determine** the dimensionality of your input data by investigating **X**\n",
        "- **Normalize** your input data to values between 0 and 1 \n",
        "- **Determine** the number of neurons in your output layer by investigating **Y**\n",
        "- **Select** `sparse_categorical_crossentropy` as your loss function.\n",
        "- **Select** `sgd` as your optimizer.\n",
        "- **Add** 3 hidden layers to your model with the following number of nodes\n",
        "    - h1 has 500 nodes\n",
        "    - h2 has 250 nodes\n",
        "    - h3 has 100 nodes\n",
        "    \n",
        "- **Set** epochs to 20 \n",
        "- **Use** the `validation_split` keyword in `model.fit()` to automatically create a training / validation dataset from within the model. Specify a percentage, such as `validation_split = 0.2`\n",
        " \n",
        "Not sure what the various parameters are for or what values to assign to them?\n",
        "\n",
        "- Reference the guided project notebook for Sprint 2 Module 1\n",
        "- Reference the [**Keras documentation**](https://keras.io/api/)\n",
        "- Google other examples\n",
        "- Discuss your results with classmates "
      ]
    },
    {
      "cell_type": "code",
      "source": [
        "# Row vector\n",
        "X[0].shape"
      ],
      "metadata": {
        "colab": {
          "base_uri": "https://localhost:8080/"
        },
        "id": "kYPdjspqs4kb",
        "outputId": "880ae1bc-a5f5-4f0d-be05-dea2fe56f19f"
      },
      "execution_count": null,
      "outputs": [
        {
          "output_type": "execute_result",
          "data": {
            "text/plain": [
              "(784,)"
            ]
          },
          "metadata": {},
          "execution_count": 6
        }
      ]
    },
    {
      "cell_type": "code",
      "source": [
        "# Flattened image\n",
        "X[0]"
      ],
      "metadata": {
        "colab": {
          "base_uri": "https://localhost:8080/"
        },
        "id": "cJjWDPEaesUr",
        "outputId": "2c9f73a6-006d-48df-be13-768b2a98618b"
      },
      "execution_count": null,
      "outputs": [
        {
          "output_type": "execute_result",
          "data": {
            "text/plain": [
              "array([  0,   0,   0,   0,   0,   0,   0,   0,   0,   0,   0,   0,   0,\n",
              "         0,   0,   0,   0,   0,   0,   0,   0,   0,   0,   0,   0,   0,\n",
              "         0,   0,   0,   0,   0,   0,   0,   0,   0,   0,   0,   0,   0,\n",
              "         0,   0,   0,   0,   0,   0,   0,   0,  31, 106,  60,   0,   0,\n",
              "         0,   0,   0,   0,   0,   0,   0,   0,   0,   0,   0,   0,   0,\n",
              "         0,   0,   0,   0,   0,   0,   0,   0,   4, 148, 252, 255, 247,\n",
              "         4,   0,   0,   0,   0,   0,   0,   0,   0,   0,   0,   0,   0,\n",
              "         0,   0,   0,   0,   0,   0,   0,   0,   0,   8, 176, 254, 138,\n",
              "        33,  43,   0,   0,   0,   0,   0,   0,   0,   0,   0,   0,   0,\n",
              "         0,   0,   0,   0,   0,   0,   0,   0,   0,   0,   3, 188, 251,\n",
              "        96,   0,   0,   0,   0,   0,   0,   0,   0,   0,   0,   0,   0,\n",
              "         0,   0,   0,   0,   0,   0,   0,   0,   0,   0,   0,   0, 113,\n",
              "       255,  88,   0,   9,   0,   0,   0,   0,   0,   0,   0,   0,   0,\n",
              "         0,   0,   0,   0,   0,   0,   0,  88, 209, 238, 231, 188,  61,\n",
              "         3, 227, 179,  22, 155, 253, 253, 196,  79,   0,   0,   0,   0,\n",
              "         0,   0,   0,   0,   0,   0,   0,   8, 161, 255, 198, 137, 145,\n",
              "       221, 254, 174, 255, 162, 240, 246, 142, 126, 208, 254, 103,   0,\n",
              "         0,   0,   0,   0,   0,   0,   0,   0,   0, 137, 252, 118,   2,\n",
              "         0,   0,   7, 187, 255, 255, 249, 189,  32,   0,   0,   4, 185,\n",
              "       228,   1,   0,   0,   0,   0,   0,   0,   0,   0,  38, 249, 148,\n",
              "         0,   0,   0,   0,   0,  77, 255, 255, 227,  18,   0,   0,   0,\n",
              "         0,  85, 255,  56,   0,   0,   0,   0,   0,   0,   0,   0, 183,\n",
              "       235,  18,   0,   0,   0,   0,   0,  38, 255, 253,  65,   0,   0,\n",
              "         0,   0,   0,  12, 249, 126,   0,   0,   0,   0,   0,   0,   0,\n",
              "        71, 255, 103,   0,   0,   0,   0,   0,   0,  79, 255, 157,   0,\n",
              "         0,   0,   0,   0,   0,   0, 241, 136,   0,   0,   0,   0,   0,\n",
              "         0,   0, 151, 234,   2,   0,   0,   0,   0,   0,   0, 120, 255,\n",
              "       132,   0,   0,   0,   0,   0,   0,   0, 245, 131,   0,   0,   0,\n",
              "         0,   0,   0,   0, 209, 176,   0,   0,   0,   0,   0,   0,   0,\n",
              "       161, 255, 129,   0,   0,   0,   0,   0,   0,   0, 249, 127,   0,\n",
              "         0,   0,   0,   0,   0,  15, 253, 118,   0,   0,   0,   0,   0,\n",
              "         0,   0, 184, 200,  25,   0,   0,   0,   0,   0,   0,   0, 254,\n",
              "       123,   0,   0,   0,   0,   0,   0,  71, 255,  59,   0,   0,   0,\n",
              "         0,   0,   0,   0,  24,  18,   0,   0,   0,   0,   0,   0,   0,\n",
              "         3, 255, 119,   0,   0,   0,   0,   0,   0, 116, 255,   9,   0,\n",
              "         0,   0,   0,   0,   0,   0,   0,   0,   0,   0,   0,   0,   0,\n",
              "         0,   0,  34, 255,  94,   0,   0,   0,   0,   0,   0, 127, 250,\n",
              "         0,   0,   0,   0,   0,   0,   0,   0,   0,   0,   0,   0,   0,\n",
              "         0,   0,   0,   0,  84, 255,  43,   0,   0,   0,   0,   0,   0,\n",
              "       134, 242,   0,   0,   0,   0,   0,   0,   0,   0,   0,   0,   0,\n",
              "         0,   0,   0,   0,   0,   0, 133, 246,   4,   0,   0,   0,   0,\n",
              "         0,   0, 125, 250,   8,   0,   0,   0,   0,   0,  83,  13,   0,\n",
              "         0,   0,   0,   0,   0,   0,   0,   0, 204, 193,   0,   0,   0,\n",
              "         0,   0,   0,   0,  69, 255,  64,   0,   0,   0,   0,  89, 255,\n",
              "       128,   0,   0,   0,   0,   0,   0,   0,   0,  49, 255, 101,   0,\n",
              "         0,   0,   0,   0,   0,   0,   7, 241, 157,   0,   0,   0,  25,\n",
              "       235, 255, 220,   1,   0,   0,   0,   0,   0,   0,   0, 180, 240,\n",
              "        13,   0,   0,   0,   0,   0,   0,   0,   0, 134, 254,  74,   0,\n",
              "        24, 214, 238, 121, 255,  59,   0,   0,   0,   0,   0,   0,  97,\n",
              "       255, 101,   0,   0,   0,   0,   0,   0,   0,   0,   0,   6, 204,\n",
              "       253, 213, 244, 239,  53,   8, 233, 217,  26,   0,   0,   0,   0,\n",
              "        29, 240, 183,   1,   0,   0,   0,   0,   0,   0,   0,   0,   0,\n",
              "         0,  14, 119, 174, 135,  44,   0,   0,  51, 238, 225, 100,  19,\n",
              "         2,  54, 214, 239,  28,   0,   0,   0,   0,   0,   0,   0,   0,\n",
              "         0,   0,   0,   0,   0,   0,   0,   0,   0,   0,   0,  47, 196,\n",
              "       255, 255, 255, 255, 230,  54,   0,   0,   0,   0,   0,   0,   0,\n",
              "         0,   0,   0,   0,   0,   0,   0,   0,   0,   0,   0,   0,   0,\n",
              "         0,   0,  58, 102, 119,  88,  13,   0,   0,   0,   0,   0,   0,\n",
              "         0,   0,   0,   0,   0,   0,   0,   0,   0,   0,   0,   0,   0,\n",
              "         0,   0,   0,   0,   0,   0,   0,   0,   0,   0,   0,   0,   0,\n",
              "         0,   0,   0,   0], dtype=uint8)"
            ]
          },
          "metadata": {},
          "execution_count": 7
        }
      ]
    },
    {
      "cell_type": "code",
      "metadata": {
        "deletable": false,
        "nbgrader": {
          "cell_type": "code",
          "checksum": "ef20dd34df6998e0a50e394d59d58659",
          "grade": false,
          "grade_id": "cell-907b9348d7a2ebb3",
          "locked": false,
          "schema_version": 3,
          "solution": true,
          "task": false
        },
        "id": "f133nwpOLj1G"
      },
      "source": [
        "# get dim of image row vectors and save to input_dim\n",
        "\n",
        "# get number of unique labels and save to n_output_labels\n",
        "\n",
        "# normalize image data to values between 0 and 1 (by dividing by max pixel value)\n",
        "\n",
        "\n",
        "# YOUR CODE HERE\n",
        "# Dimension of image row vector \n",
        "input_dim = X.shape[1]\n",
        "# Number of unique labels\n",
        "n_output_labels = len(np.unique(y))\n",
        "\n",
        "# Normalize image data to values between 0 and 1\n",
        "max_value=X.max()\n",
        "X_scaled = X/max_value\n",
        "\n",
        "\n",
        "# raise NotImplementedError()"
      ],
      "execution_count": null,
      "outputs": []
    },
    {
      "cell_type": "code",
      "metadata": {
        "id": "vOufsWS3Lj1G"
      },
      "source": [
        "# a check on your data prep \n",
        "assert  X_scaled.max(), \"Max pixel value should be 1.0, make sure you normalize your data\""
      ],
      "execution_count": null,
      "outputs": []
    },
    {
      "cell_type": "code",
      "metadata": {
        "deletable": false,
        "id": "zHWblzsMyNkU",
        "nbgrader": {
          "cell_type": "code",
          "checksum": "f0ba174cb72f491f73c3aa7df8ae7ac4",
          "grade": false,
          "grade_id": "cell-b7c96fc46d86725f",
          "locked": false,
          "schema_version": 3,
          "solution": true,
          "task": false
        }
      },
      "source": [
        "# instantiate a sequential object and call it model, then add the layers to your model\n",
        "\n",
        "# add a compile layer but don't fit your model yet \n",
        "\n",
        "# YOUR CODE HERE\n",
        "\n",
        "# Number of epochs\n",
        "epochs=20\n",
        "\n",
        "# Instantiate the Sequential class\n",
        "model = Sequential()\n",
        "\n",
        "# Hidden layer 1\n",
        "model.add(Dense(500, activation='sigmoid', input_dim=input_dim)) # the 1st layer needs an implicit declaration of the input layer\n",
        "# Hidden layer 2\n",
        "model.add(Dense(250, activation='sigmoid'))\n",
        "# Hidden layer 3\n",
        "model.add(Dense(100, activation='sigmoid'))\n",
        "# Output layer\n",
        "model.add(Dense(n_output_labels, activation='softmax')) # softmax values can be interpreted as the probability of each class given the input data\n",
        "\n",
        "model.compile(optimizer='sgd',\n",
        "              loss = 'sparse_categorical_crossentropy', \n",
        "              metrics=['accuracy'])\n",
        "\n",
        "# raise NotImplementedError()"
      ],
      "execution_count": null,
      "outputs": []
    },
    {
      "cell_type": "code",
      "metadata": {
        "id": "ojLnGDklLj1H"
      },
      "source": [
        "# a check on your model architecture \n",
        "n_layers = len(model.get_config()[\"layers\"])\n",
        "assert n_layers == 5, \"You should have 5 layers: input, h1, h2, h3, and output\""
      ],
      "execution_count": null,
      "outputs": []
    },
    {
      "cell_type": "code",
      "metadata": {
        "id": "wMK2_DtJLj1I",
        "colab": {
          "base_uri": "https://localhost:8080/"
        },
        "outputId": "439c1e68-cb48-42da-e6eb-ebadd812fc37"
      },
      "source": [
        "# check out your model summary \n",
        "model.summary()"
      ],
      "execution_count": null,
      "outputs": [
        {
          "output_type": "stream",
          "name": "stdout",
          "text": [
            "Model: \"sequential\"\n",
            "_________________________________________________________________\n",
            " Layer (type)                Output Shape              Param #   \n",
            "=================================================================\n",
            " dense (Dense)               (None, 500)               392500    \n",
            "                                                                 \n",
            " dense_1 (Dense)             (None, 250)               125250    \n",
            "                                                                 \n",
            " dense_2 (Dense)             (None, 100)               25100     \n",
            "                                                                 \n",
            " dense_3 (Dense)             (None, 10)                1010      \n",
            "                                                                 \n",
            "=================================================================\n",
            "Total params: 543,860\n",
            "Trainable params: 543,860\n",
            "Non-trainable params: 0\n",
            "_________________________________________________________________\n"
          ]
        }
      ]
    },
    {
      "cell_type": "code",
      "metadata": {
        "id": "DXTSbEiyLj1I",
        "colab": {
          "base_uri": "https://localhost:8080/"
        },
        "outputId": "6f96f085-72fa-4949-f05b-e513ab60e7ff"
      },
      "source": [
        "# fit your model and save training results to history \n",
        "history = model.fit(X_scaled, y, # passed scaled data\n",
        "                    epochs=epochs, \n",
        "                    # a held-out validation set will be generated within the model\n",
        "                    validation_split=0.2\n",
        "                   )"
      ],
      "execution_count": null,
      "outputs": [
        {
          "output_type": "stream",
          "name": "stdout",
          "text": [
            "Epoch 1/20\n",
            "2500/2500 [==============================] - 23s 9ms/step - loss: 2.2936 - accuracy: 0.1323 - val_loss: 2.2762 - val_accuracy: 0.2254\n",
            "Epoch 2/20\n",
            "2500/2500 [==============================] - 25s 10ms/step - loss: 2.2364 - accuracy: 0.2687 - val_loss: 2.1642 - val_accuracy: 0.3399\n",
            "Epoch 3/20\n",
            "2500/2500 [==============================] - 26s 10ms/step - loss: 1.9454 - accuracy: 0.4236 - val_loss: 1.7238 - val_accuracy: 0.4121\n",
            "Epoch 4/20\n",
            "2500/2500 [==============================] - 23s 9ms/step - loss: 1.5769 - accuracy: 0.5217 - val_loss: 1.4708 - val_accuracy: 0.5473\n",
            "Epoch 5/20\n",
            "2500/2500 [==============================] - 25s 10ms/step - loss: 1.3649 - accuracy: 0.5968 - val_loss: 1.2673 - val_accuracy: 0.6314\n",
            "Epoch 6/20\n",
            "2500/2500 [==============================] - 26s 10ms/step - loss: 1.1689 - accuracy: 0.6564 - val_loss: 1.0988 - val_accuracy: 0.6743\n",
            "Epoch 7/20\n",
            "2500/2500 [==============================] - 22s 9ms/step - loss: 1.0427 - accuracy: 0.6867 - val_loss: 1.0200 - val_accuracy: 0.6876\n",
            "Epoch 8/20\n",
            "2500/2500 [==============================] - 23s 9ms/step - loss: 0.9859 - accuracy: 0.7029 - val_loss: 0.9806 - val_accuracy: 0.7057\n",
            "Epoch 9/20\n",
            "2500/2500 [==============================] - 22s 9ms/step - loss: 0.9529 - accuracy: 0.7135 - val_loss: 0.9545 - val_accuracy: 0.7110\n",
            "Epoch 10/20\n",
            "2500/2500 [==============================] - 24s 10ms/step - loss: 0.9281 - accuracy: 0.7212 - val_loss: 0.9338 - val_accuracy: 0.7207\n",
            "Epoch 11/20\n",
            "2500/2500 [==============================] - 25s 10ms/step - loss: 0.9069 - accuracy: 0.7284 - val_loss: 0.9136 - val_accuracy: 0.7289\n",
            "Epoch 12/20\n",
            "2500/2500 [==============================] - 22s 9ms/step - loss: 0.8890 - accuracy: 0.7344 - val_loss: 0.8990 - val_accuracy: 0.7298\n",
            "Epoch 13/20\n",
            "2500/2500 [==============================] - 22s 9ms/step - loss: 0.8732 - accuracy: 0.7393 - val_loss: 0.8836 - val_accuracy: 0.7339\n",
            "Epoch 14/20\n",
            "2500/2500 [==============================] - 22s 9ms/step - loss: 0.8588 - accuracy: 0.7437 - val_loss: 0.8702 - val_accuracy: 0.7398\n",
            "Epoch 15/20\n",
            "2500/2500 [==============================] - 23s 9ms/step - loss: 0.8450 - accuracy: 0.7478 - val_loss: 0.8557 - val_accuracy: 0.7418\n",
            "Epoch 16/20\n",
            "2500/2500 [==============================] - 22s 9ms/step - loss: 0.8318 - accuracy: 0.7513 - val_loss: 0.8434 - val_accuracy: 0.7457\n",
            "Epoch 17/20\n",
            "2500/2500 [==============================] - 22s 9ms/step - loss: 0.8190 - accuracy: 0.7550 - val_loss: 0.8323 - val_accuracy: 0.7498\n",
            "Epoch 18/20\n",
            "2500/2500 [==============================] - 21s 8ms/step - loss: 0.8068 - accuracy: 0.7577 - val_loss: 0.8185 - val_accuracy: 0.7560\n",
            "Epoch 19/20\n",
            "2500/2500 [==============================] - 22s 9ms/step - loss: 0.7943 - accuracy: 0.7618 - val_loss: 0.8068 - val_accuracy: 0.7598\n",
            "Epoch 20/20\n",
            "2500/2500 [==============================] - 22s 9ms/step - loss: 0.7832 - accuracy: 0.7653 - val_loss: 0.7963 - val_accuracy: 0.7606\n"
          ]
        }
      ]
    },
    {
      "cell_type": "markdown",
      "metadata": {
        "id": "b0QJURWh-9uv"
      },
      "source": [
        "----\n",
        "### Visualize the Results\n",
        "\n",
        "- Move results in `history` to a dataframe. \n",
        "- Use [**Seaborn**](https://seaborn.pydata.org/generated/seaborn.lineplot.html) to create line plots for both loss and accuracy by epoch. \n",
        "- Analyze the results and write a couple of observations. \n",
        "\n",
        "At what point should we have stopped training the model and why? "
      ]
    },
    {
      "cell_type": "code",
      "source": [
        "df = pd.DataFrame.from_records(history.history)\n",
        "n_rows= df.shape[0]\n",
        "# Shift the index up by one for plotting epochs\n",
        "df.index = [i for i in range(1, n_rows+1)]"
      ],
      "metadata": {
        "id": "qJVVKYsa8FsZ"
      },
      "execution_count": null,
      "outputs": []
    },
    {
      "cell_type": "code",
      "source": [
        "df.head()"
      ],
      "metadata": {
        "colab": {
          "base_uri": "https://localhost:8080/",
          "height": 206
        },
        "id": "lmvyqQlQlw9S",
        "outputId": "20fe386a-b872-4a3a-a9f9-dca950b1c972"
      },
      "execution_count": null,
      "outputs": [
        {
          "output_type": "execute_result",
          "data": {
            "text/plain": [
              "   accuracy      loss  val_accuracy  val_loss\n",
              "1  0.132262  2.293586       0.22535  2.276233\n",
              "2  0.268737  2.236372       0.33985  2.164247\n",
              "3  0.423575  1.945413       0.41215  1.723789\n",
              "4  0.521688  1.576896       0.54735  1.470763\n",
              "5  0.596775  1.364857       0.63140  1.267288"
            ],
            "text/html": [
              "\n",
              "  <div id=\"df-ffa9920d-2ad3-4968-8782-bf89f7f608cc\">\n",
              "    <div class=\"colab-df-container\">\n",
              "      <div>\n",
              "<style scoped>\n",
              "    .dataframe tbody tr th:only-of-type {\n",
              "        vertical-align: middle;\n",
              "    }\n",
              "\n",
              "    .dataframe tbody tr th {\n",
              "        vertical-align: top;\n",
              "    }\n",
              "\n",
              "    .dataframe thead th {\n",
              "        text-align: right;\n",
              "    }\n",
              "</style>\n",
              "<table border=\"1\" class=\"dataframe\">\n",
              "  <thead>\n",
              "    <tr style=\"text-align: right;\">\n",
              "      <th></th>\n",
              "      <th>accuracy</th>\n",
              "      <th>loss</th>\n",
              "      <th>val_accuracy</th>\n",
              "      <th>val_loss</th>\n",
              "    </tr>\n",
              "  </thead>\n",
              "  <tbody>\n",
              "    <tr>\n",
              "      <th>1</th>\n",
              "      <td>0.132262</td>\n",
              "      <td>2.293586</td>\n",
              "      <td>0.22535</td>\n",
              "      <td>2.276233</td>\n",
              "    </tr>\n",
              "    <tr>\n",
              "      <th>2</th>\n",
              "      <td>0.268737</td>\n",
              "      <td>2.236372</td>\n",
              "      <td>0.33985</td>\n",
              "      <td>2.164247</td>\n",
              "    </tr>\n",
              "    <tr>\n",
              "      <th>3</th>\n",
              "      <td>0.423575</td>\n",
              "      <td>1.945413</td>\n",
              "      <td>0.41215</td>\n",
              "      <td>1.723789</td>\n",
              "    </tr>\n",
              "    <tr>\n",
              "      <th>4</th>\n",
              "      <td>0.521688</td>\n",
              "      <td>1.576896</td>\n",
              "      <td>0.54735</td>\n",
              "      <td>1.470763</td>\n",
              "    </tr>\n",
              "    <tr>\n",
              "      <th>5</th>\n",
              "      <td>0.596775</td>\n",
              "      <td>1.364857</td>\n",
              "      <td>0.63140</td>\n",
              "      <td>1.267288</td>\n",
              "    </tr>\n",
              "  </tbody>\n",
              "</table>\n",
              "</div>\n",
              "      <button class=\"colab-df-convert\" onclick=\"convertToInteractive('df-ffa9920d-2ad3-4968-8782-bf89f7f608cc')\"\n",
              "              title=\"Convert this dataframe to an interactive table.\"\n",
              "              style=\"display:none;\">\n",
              "        \n",
              "  <svg xmlns=\"http://www.w3.org/2000/svg\" height=\"24px\"viewBox=\"0 0 24 24\"\n",
              "       width=\"24px\">\n",
              "    <path d=\"M0 0h24v24H0V0z\" fill=\"none\"/>\n",
              "    <path d=\"M18.56 5.44l.94 2.06.94-2.06 2.06-.94-2.06-.94-.94-2.06-.94 2.06-2.06.94zm-11 1L8.5 8.5l.94-2.06 2.06-.94-2.06-.94L8.5 2.5l-.94 2.06-2.06.94zm10 10l.94 2.06.94-2.06 2.06-.94-2.06-.94-.94-2.06-.94 2.06-2.06.94z\"/><path d=\"M17.41 7.96l-1.37-1.37c-.4-.4-.92-.59-1.43-.59-.52 0-1.04.2-1.43.59L10.3 9.45l-7.72 7.72c-.78.78-.78 2.05 0 2.83L4 21.41c.39.39.9.59 1.41.59.51 0 1.02-.2 1.41-.59l7.78-7.78 2.81-2.81c.8-.78.8-2.07 0-2.86zM5.41 20L4 18.59l7.72-7.72 1.47 1.35L5.41 20z\"/>\n",
              "  </svg>\n",
              "      </button>\n",
              "      \n",
              "  <style>\n",
              "    .colab-df-container {\n",
              "      display:flex;\n",
              "      flex-wrap:wrap;\n",
              "      gap: 12px;\n",
              "    }\n",
              "\n",
              "    .colab-df-convert {\n",
              "      background-color: #E8F0FE;\n",
              "      border: none;\n",
              "      border-radius: 50%;\n",
              "      cursor: pointer;\n",
              "      display: none;\n",
              "      fill: #1967D2;\n",
              "      height: 32px;\n",
              "      padding: 0 0 0 0;\n",
              "      width: 32px;\n",
              "    }\n",
              "\n",
              "    .colab-df-convert:hover {\n",
              "      background-color: #E2EBFA;\n",
              "      box-shadow: 0px 1px 2px rgba(60, 64, 67, 0.3), 0px 1px 3px 1px rgba(60, 64, 67, 0.15);\n",
              "      fill: #174EA6;\n",
              "    }\n",
              "\n",
              "    [theme=dark] .colab-df-convert {\n",
              "      background-color: #3B4455;\n",
              "      fill: #D2E3FC;\n",
              "    }\n",
              "\n",
              "    [theme=dark] .colab-df-convert:hover {\n",
              "      background-color: #434B5C;\n",
              "      box-shadow: 0px 1px 3px 1px rgba(0, 0, 0, 0.15);\n",
              "      filter: drop-shadow(0px 1px 2px rgba(0, 0, 0, 0.3));\n",
              "      fill: #FFFFFF;\n",
              "    }\n",
              "  </style>\n",
              "\n",
              "      <script>\n",
              "        const buttonEl =\n",
              "          document.querySelector('#df-ffa9920d-2ad3-4968-8782-bf89f7f608cc button.colab-df-convert');\n",
              "        buttonEl.style.display =\n",
              "          google.colab.kernel.accessAllowed ? 'block' : 'none';\n",
              "\n",
              "        async function convertToInteractive(key) {\n",
              "          const element = document.querySelector('#df-ffa9920d-2ad3-4968-8782-bf89f7f608cc');\n",
              "          const dataTable =\n",
              "            await google.colab.kernel.invokeFunction('convertToInteractive',\n",
              "                                                     [key], {});\n",
              "          if (!dataTable) return;\n",
              "\n",
              "          const docLinkHtml = 'Like what you see? Visit the ' +\n",
              "            '<a target=\"_blank\" href=https://colab.research.google.com/notebooks/data_table.ipynb>data table notebook</a>'\n",
              "            + ' to learn more about interactive tables.';\n",
              "          element.innerHTML = '';\n",
              "          dataTable['output_type'] = 'display_data';\n",
              "          await google.colab.output.renderOutput(dataTable, element);\n",
              "          const docLink = document.createElement('div');\n",
              "          docLink.innerHTML = docLinkHtml;\n",
              "          element.appendChild(docLink);\n",
              "        }\n",
              "      </script>\n",
              "    </div>\n",
              "  </div>\n",
              "  "
            ]
          },
          "metadata": {},
          "execution_count": 17
        }
      ]
    },
    {
      "cell_type": "code",
      "metadata": {
        "id": "jFTzaMcALj1J"
      },
      "source": [
        "# a check on our model training\n",
        "assert df.shape[0] == 20, \"df should have the training results from 20 epochs\""
      ],
      "execution_count": null,
      "outputs": []
    },
    {
      "cell_type": "code",
      "source": [
        "# use seaborn to plot loss and accuracy metrics\n",
        "\n",
        "# YOUR CODE HERE\n",
        "plot_cols = ['loss', 'val_loss']\n",
        "df[plot_cols].plot(figsize=(20,6), grid=True);\n",
        "plt.title('Model Loss vs Epoch');\n",
        "plt.xlabel('Epochs');\n",
        "plt.ylabel('Validation Loss');\n",
        "plt.xticks(df.index);\n",
        "\n",
        "# raise NotImplementedError()"
      ],
      "metadata": {
        "colab": {
          "base_uri": "https://localhost:8080/",
          "height": 404
        },
        "id": "hQ1HXFEE92i_",
        "outputId": "8abb0b83-c03f-4195-a460-a847e16856f5"
      },
      "execution_count": null,
      "outputs": [
        {
          "output_type": "display_data",
          "data": {
            "text/plain": [
              "<Figure size 1440x432 with 1 Axes>"
            ],
            "image/png": "[encoded data removed]"
          },
          "metadata": {
            "needs_background": "light"
          }
        }
      ]
    },
    {
      "cell_type": "code",
      "source": [
        "plot_cols = ['accuracy', 'val_accuracy']\n",
        "df[plot_cols].plot(figsize=(20,6), grid=True);\n",
        "plt.title('Model Accuracy vs Epoch');\n",
        "plt.xlabel('Epochs');\n",
        "plt.ylabel('Validation Accuracy');\n",
        "plt.xticks(df.index);"
      ],
      "metadata": {
        "colab": {
          "base_uri": "https://localhost:8080/",
          "height": 404
        },
        "id": "U6l2wp5WnnLK",
        "outputId": "5c0b138d-4a8a-4272-d88c-ec4253b77b15"
      },
      "execution_count": null,
      "outputs": [
        {
          "output_type": "display_data",
          "data": {
            "text/plain": [
              "<Figure size 1440x432 with 1 Axes>"
            ],
            "image/png": "[encoded data removed]"
          },
          "metadata": {
            "needs_background": "light"
          }
        }
      ]
    },
    {
      "cell_type": "markdown",
      "metadata": {
        "id": "GmjyuTlrLj1K"
      },
      "source": [
        "### Observations \n",
        "\n",
        "Based on the plot of the training and validation loss, answer the following questions. "
      ]
    },
    {
      "cell_type": "markdown",
      "metadata": {
        "id": "NF_mrNmPLj1K"
      },
      "source": [
        "**Was our model able to learn throughout the 20 epochs? Why or why not?**"
      ]
    },
    {
      "cell_type": "markdown",
      "metadata": {
        "deletable": false,
        "nbgrader": {
          "cell_type": "markdown",
          "checksum": "b7713eb32ad3a910a58dfdb9494a9db3",
          "grade": true,
          "grade_id": "cell-820990a8232a858a",
          "locked": false,
          "points": 0,
          "schema_version": 3,
          "solution": true,
          "task": false
        },
        "id": "yL42yLWELj1K"
      },
      "source": [
        "YOUR ANSWER HERE\n",
        "\n",
        "Yes, the model was able to learn throughout the 20 epochs, as both training and validation loss decreased from about 2.3 during the first epoch down to about 0.8 in the last epoch. Also, the training accuracy increased for both training and validation sets reaching about 76%.  \n"
      ]
    },
    {
      "cell_type": "markdown",
      "metadata": {
        "id": "_xKObFanLj1K"
      },
      "source": [
        "**Is our model overfitting? Why or why not?**"
      ]
    },
    {
      "cell_type": "markdown",
      "metadata": {
        "deletable": false,
        "nbgrader": {
          "cell_type": "markdown",
          "checksum": "1d30c64465cd35081d70578c20ecf96d",
          "grade": true,
          "grade_id": "cell-33868e7ef6e401b5",
          "locked": false,
          "points": 0,
          "schema_version": 3,
          "solution": true,
          "task": false
        },
        "id": "rx7xa4Z1Lj1L"
      },
      "source": [
        "YOUR ANSWER HERE\n",
        "\n",
        "No, the model is not overfitting. The gap or difference between the training and validation curves for accuracy and loss is very narrow. There is a bigger gap in the initial epochs but after epoch 10 there is essentially no gap. These are signs that the model is generalizing well on new or unseen data."
      ]
    },
    {
      "cell_type": "markdown",
      "metadata": {
        "id": "FIvb1mftLj1L"
      },
      "source": [
        "**Could the model score benefit from additional epochs? Why or why not?**"
      ]
    },
    {
      "cell_type": "markdown",
      "metadata": {
        "deletable": false,
        "nbgrader": {
          "cell_type": "markdown",
          "checksum": "0fc2208e2c78461578fc7a05224066b8",
          "grade": true,
          "grade_id": "cell-5c883f0a3161e469",
          "locked": false,
          "points": 0,
          "schema_version": 3,
          "solution": true,
          "task": false
        },
        "id": "Ww1hBmfMLj1L"
      },
      "source": [
        "YOUR ANSWER HERE\n",
        "\n",
        "Not really. Look at the derivative (the rate of change) near the end of the training. We see that the curve is almost flat, which means that introducing more epochs would not decrease the loss by any significant amount. If we want to further decrease the loss of our model, we will have to explore other options such as using a different activation function or optimizer.\n"
      ]
    },
    {
      "cell_type": "markdown",
      "metadata": {
        "id": "MAhBrcE4yOZe"
      },
      "source": [
        "-----\n",
        "## Change Optimizers\n",
        "\n",
        "Let's compare model performance between different optimizers. \n",
        "- Build a new model, identical to the last one but using `adam` for the optimizer. \n",
        "- Train (fit) the model\n",
        "- Save the modeling results to adam_history, so we don't erase the results from the previous model run\n",
        "- Visualize the training results just as we did for the last model. \n"
      ]
    },
    {
      "cell_type": "code",
      "metadata": {
        "deletable": false,
        "id": "jIW_spOZ0cxy",
        "nbgrader": {
          "cell_type": "code",
          "checksum": "6d30d8c6f4521861a77c9ef04dbde904",
          "grade": false,
          "grade_id": "cell-56663c8a5e75b71f",
          "locked": false,
          "schema_version": 3,
          "solution": true,
          "task": false
        },
        "colab": {
          "base_uri": "https://localhost:8080/"
        },
        "outputId": "2a9b9ef1-5106-4b1d-8db7-893fc05b9817"
      },
      "source": [
        "# train the same model as above but use the sgd optimizer if you used adam previously (or use adam if you used sgd previously)\n",
        "\n",
        "# YOUR CODE HERE\n",
        "# Number of epochs\n",
        "epochs = 20\n",
        "# Instantiate the model\n",
        "model = Sequential()\n",
        "\n",
        "# Hidden layer 1\n",
        "model.add(Dense(500, activation='sigmoid', input_dim=input_dim))\n",
        "# Hidden layer 2\n",
        "model.add(Dense(250, activation='sigmoid'))\n",
        "# Hidden layer 3\n",
        "model.add(Dense(100, activation='sigmoid'))\n",
        "# Output layer\n",
        "model.add(Dense(n_output_labels, activation='softmax')) # softmax values can be interpreted as the probability of each class given the input data\n",
        "\n",
        "model.compile(optimizer='adam',\n",
        "              loss = 'sparse_categorical_crossentropy', \n",
        "              metrics=['accuracy'])\n",
        "\n",
        "# Fit your model and save training results to adam_history \n",
        "adam_history = model.fit(X_scaled, y, \n",
        "                    epochs=epochs, \n",
        "                    # a held-out validation set will be generated within the model\n",
        "                    validation_split=0.2\n",
        "                   )\n",
        "\n",
        "\n",
        "# raise NotImplementedError()"
      ],
      "execution_count": null,
      "outputs": [
        {
          "output_type": "stream",
          "name": "stdout",
          "text": [
            "Epoch 1/20\n",
            "2500/2500 [==============================] - 32s 12ms/step - loss: 0.7458 - accuracy: 0.7688 - val_loss: 0.5838 - val_accuracy: 0.8227\n",
            "Epoch 2/20\n",
            "2500/2500 [==============================] - 31s 13ms/step - loss: 0.4952 - accuracy: 0.8496 - val_loss: 0.4671 - val_accuracy: 0.8590\n",
            "Epoch 3/20\n",
            "2500/2500 [==============================] - 32s 13ms/step - loss: 0.4116 - accuracy: 0.8748 - val_loss: 0.4312 - val_accuracy: 0.8701\n",
            "Epoch 4/20\n",
            "2500/2500 [==============================] - 30s 12ms/step - loss: 0.3547 - accuracy: 0.8928 - val_loss: 0.4096 - val_accuracy: 0.8788\n",
            "Epoch 5/20\n",
            "2500/2500 [==============================] - 30s 12ms/step - loss: 0.3110 - accuracy: 0.9051 - val_loss: 0.4010 - val_accuracy: 0.8834\n",
            "Epoch 6/20\n",
            "2500/2500 [==============================] - 31s 12ms/step - loss: 0.2701 - accuracy: 0.9186 - val_loss: 0.4048 - val_accuracy: 0.8835\n",
            "Epoch 7/20\n",
            "2500/2500 [==============================] - 30s 12ms/step - loss: 0.2350 - accuracy: 0.9293 - val_loss: 0.4136 - val_accuracy: 0.8838\n",
            "Epoch 8/20\n",
            "2500/2500 [==============================] - 31s 12ms/step - loss: 0.2043 - accuracy: 0.9382 - val_loss: 0.4356 - val_accuracy: 0.8824\n",
            "Epoch 9/20\n",
            "2500/2500 [==============================] - 31s 12ms/step - loss: 0.1756 - accuracy: 0.9476 - val_loss: 0.4699 - val_accuracy: 0.8762\n",
            "Epoch 10/20\n",
            "2500/2500 [==============================] - 31s 12ms/step - loss: 0.1554 - accuracy: 0.9526 - val_loss: 0.4914 - val_accuracy: 0.8755\n",
            "Epoch 11/20\n",
            "2500/2500 [==============================] - 33s 13ms/step - loss: 0.1328 - accuracy: 0.9598 - val_loss: 0.5128 - val_accuracy: 0.8769\n",
            "Epoch 12/20\n",
            "2500/2500 [==============================] - 30s 12ms/step - loss: 0.1156 - accuracy: 0.9646 - val_loss: 0.5411 - val_accuracy: 0.8777\n",
            "Epoch 13/20\n",
            "2500/2500 [==============================] - 33s 13ms/step - loss: 0.1025 - accuracy: 0.9691 - val_loss: 0.5603 - val_accuracy: 0.8813\n",
            "Epoch 14/20\n",
            "2500/2500 [==============================] - 31s 12ms/step - loss: 0.0891 - accuracy: 0.9726 - val_loss: 0.6006 - val_accuracy: 0.8786\n",
            "Epoch 15/20\n",
            "2500/2500 [==============================] - 33s 13ms/step - loss: 0.0806 - accuracy: 0.9750 - val_loss: 0.6088 - val_accuracy: 0.8767\n",
            "Epoch 16/20\n",
            "2500/2500 [==============================] - 33s 13ms/step - loss: 0.0714 - accuracy: 0.9780 - val_loss: 0.6733 - val_accuracy: 0.8750\n",
            "Epoch 17/20\n",
            "2500/2500 [==============================] - 33s 13ms/step - loss: 0.0656 - accuracy: 0.9792 - val_loss: 0.6871 - val_accuracy: 0.8753\n",
            "Epoch 18/20\n",
            "2500/2500 [==============================] - 38s 15ms/step - loss: 0.0573 - accuracy: 0.9823 - val_loss: 0.7099 - val_accuracy: 0.8769\n",
            "Epoch 19/20\n",
            "2500/2500 [==============================] - 35s 14ms/step - loss: 0.0551 - accuracy: 0.9829 - val_loss: 0.7560 - val_accuracy: 0.8724\n",
            "Epoch 20/20\n",
            "2500/2500 [==============================] - 33s 13ms/step - loss: 0.0490 - accuracy: 0.9850 - val_loss: 0.7418 - val_accuracy: 0.8749\n"
          ]
        }
      ]
    },
    {
      "cell_type": "code",
      "source": [
        "model.summary()"
      ],
      "metadata": {
        "colab": {
          "base_uri": "https://localhost:8080/"
        },
        "id": "0fShmFCZLB0r",
        "outputId": "925ed9df-5130-495d-a57a-daaf247b708b"
      },
      "execution_count": null,
      "outputs": [
        {
          "output_type": "stream",
          "name": "stdout",
          "text": [
            "Model: \"sequential_1\"\n",
            "_________________________________________________________________\n",
            " Layer (type)                Output Shape              Param #   \n",
            "=================================================================\n",
            " dense_4 (Dense)             (None, 500)               392500    \n",
            "                                                                 \n",
            " dense_5 (Dense)             (None, 250)               125250    \n",
            "                                                                 \n",
            " dense_6 (Dense)             (None, 100)               25100     \n",
            "                                                                 \n",
            " dense_7 (Dense)             (None, 10)                1010      \n",
            "                                                                 \n",
            "=================================================================\n",
            "Total params: 543,860\n",
            "Trainable params: 543,860\n",
            "Non-trainable params: 0\n",
            "_________________________________________________________________\n"
          ]
        }
      ]
    },
    {
      "cell_type": "code",
      "source": [
        "# YOUR CODE HERE\n",
        "\n",
        "adam_df = pd.DataFrame.from_records(adam_history.history)\n",
        "n_rows= adam_df.shape[0]\n",
        "# Shift the index up by one for plotting epochs\n",
        "adam_df.index = [i for i in range(1, n_rows+1)]\n",
        "adam_df.head()\n",
        "\n",
        "# raise NotImplementedError()"
      ],
      "metadata": {
        "colab": {
          "base_uri": "https://localhost:8080/",
          "height": 206
        },
        "id": "9Ywmo9XyM4Dq",
        "outputId": "933b9f8d-24be-4f64-e725-2727d51d0476"
      },
      "execution_count": null,
      "outputs": [
        {
          "output_type": "execute_result",
          "data": {
            "text/plain": [
              "   accuracy      loss  val_accuracy  val_loss\n",
              "1  0.768825  0.745753       0.82270  0.583763\n",
              "2  0.849563  0.495238       0.85900  0.467111\n",
              "3  0.874800  0.411643       0.87010  0.431202\n",
              "4  0.892788  0.354737       0.87875  0.409575\n",
              "5  0.905137  0.311014       0.88345  0.400980"
            ],
            "text/html": [
              "\n",
              "  <div id=\"df-792f7f74-e76b-4a75-9a4c-f1eac1be4482\">\n",
              "    <div class=\"colab-df-container\">\n",
              "      <div>\n",
              "<style scoped>\n",
              "    .dataframe tbody tr th:only-of-type {\n",
              "        vertical-align: middle;\n",
              "    }\n",
              "\n",
              "    .dataframe tbody tr th {\n",
              "        vertical-align: top;\n",
              "    }\n",
              "\n",
              "    .dataframe thead th {\n",
              "        text-align: right;\n",
              "    }\n",
              "</style>\n",
              "<table border=\"1\" class=\"dataframe\">\n",
              "  <thead>\n",
              "    <tr style=\"text-align: right;\">\n",
              "      <th></th>\n",
              "      <th>accuracy</th>\n",
              "      <th>loss</th>\n",
              "      <th>val_accuracy</th>\n",
              "      <th>val_loss</th>\n",
              "    </tr>\n",
              "  </thead>\n",
              "  <tbody>\n",
              "    <tr>\n",
              "      <th>1</th>\n",
              "      <td>0.768825</td>\n",
              "      <td>0.745753</td>\n",
              "      <td>0.82270</td>\n",
              "      <td>0.583763</td>\n",
              "    </tr>\n",
              "    <tr>\n",
              "      <th>2</th>\n",
              "      <td>0.849563</td>\n",
              "      <td>0.495238</td>\n",
              "      <td>0.85900</td>\n",
              "      <td>0.467111</td>\n",
              "    </tr>\n",
              "    <tr>\n",
              "      <th>3</th>\n",
              "      <td>0.874800</td>\n",
              "      <td>0.411643</td>\n",
              "      <td>0.87010</td>\n",
              "      <td>0.431202</td>\n",
              "    </tr>\n",
              "    <tr>\n",
              "      <th>4</th>\n",
              "      <td>0.892788</td>\n",
              "      <td>0.354737</td>\n",
              "      <td>0.87875</td>\n",
              "      <td>0.409575</td>\n",
              "    </tr>\n",
              "    <tr>\n",
              "      <th>5</th>\n",
              "      <td>0.905137</td>\n",
              "      <td>0.311014</td>\n",
              "      <td>0.88345</td>\n",
              "      <td>0.400980</td>\n",
              "    </tr>\n",
              "  </tbody>\n",
              "</table>\n",
              "</div>\n",
              "      <button class=\"colab-df-convert\" onclick=\"convertToInteractive('df-792f7f74-e76b-4a75-9a4c-f1eac1be4482')\"\n",
              "              title=\"Convert this dataframe to an interactive table.\"\n",
              "              style=\"display:none;\">\n",
              "        \n",
              "  <svg xmlns=\"http://www.w3.org/2000/svg\" height=\"24px\"viewBox=\"0 0 24 24\"\n",
              "       width=\"24px\">\n",
              "    <path d=\"M0 0h24v24H0V0z\" fill=\"none\"/>\n",
              "    <path d=\"M18.56 5.44l.94 2.06.94-2.06 2.06-.94-2.06-.94-.94-2.06-.94 2.06-2.06.94zm-11 1L8.5 8.5l.94-2.06 2.06-.94-2.06-.94L8.5 2.5l-.94 2.06-2.06.94zm10 10l.94 2.06.94-2.06 2.06-.94-2.06-.94-.94-2.06-.94 2.06-2.06.94z\"/><path d=\"M17.41 7.96l-1.37-1.37c-.4-.4-.92-.59-1.43-.59-.52 0-1.04.2-1.43.59L10.3 9.45l-7.72 7.72c-.78.78-.78 2.05 0 2.83L4 21.41c.39.39.9.59 1.41.59.51 0 1.02-.2 1.41-.59l7.78-7.78 2.81-2.81c.8-.78.8-2.07 0-2.86zM5.41 20L4 18.59l7.72-7.72 1.47 1.35L5.41 20z\"/>\n",
              "  </svg>\n",
              "      </button>\n",
              "      \n",
              "  <style>\n",
              "    .colab-df-container {\n",
              "      display:flex;\n",
              "      flex-wrap:wrap;\n",
              "      gap: 12px;\n",
              "    }\n",
              "\n",
              "    .colab-df-convert {\n",
              "      background-color: #E8F0FE;\n",
              "      border: none;\n",
              "      border-radius: 50%;\n",
              "      cursor: pointer;\n",
              "      display: none;\n",
              "      fill: #1967D2;\n",
              "      height: 32px;\n",
              "      padding: 0 0 0 0;\n",
              "      width: 32px;\n",
              "    }\n",
              "\n",
              "    .colab-df-convert:hover {\n",
              "      background-color: #E2EBFA;\n",
              "      box-shadow: 0px 1px 2px rgba(60, 64, 67, 0.3), 0px 1px 3px 1px rgba(60, 64, 67, 0.15);\n",
              "      fill: #174EA6;\n",
              "    }\n",
              "\n",
              "    [theme=dark] .colab-df-convert {\n",
              "      background-color: #3B4455;\n",
              "      fill: #D2E3FC;\n",
              "    }\n",
              "\n",
              "    [theme=dark] .colab-df-convert:hover {\n",
              "      background-color: #434B5C;\n",
              "      box-shadow: 0px 1px 3px 1px rgba(0, 0, 0, 0.15);\n",
              "      filter: drop-shadow(0px 1px 2px rgba(0, 0, 0, 0.3));\n",
              "      fill: #FFFFFF;\n",
              "    }\n",
              "  </style>\n",
              "\n",
              "      <script>\n",
              "        const buttonEl =\n",
              "          document.querySelector('#df-792f7f74-e76b-4a75-9a4c-f1eac1be4482 button.colab-df-convert');\n",
              "        buttonEl.style.display =\n",
              "          google.colab.kernel.accessAllowed ? 'block' : 'none';\n",
              "\n",
              "        async function convertToInteractive(key) {\n",
              "          const element = document.querySelector('#df-792f7f74-e76b-4a75-9a4c-f1eac1be4482');\n",
              "          const dataTable =\n",
              "            await google.colab.kernel.invokeFunction('convertToInteractive',\n",
              "                                                     [key], {});\n",
              "          if (!dataTable) return;\n",
              "\n",
              "          const docLinkHtml = 'Like what you see? Visit the ' +\n",
              "            '<a target=\"_blank\" href=https://colab.research.google.com/notebooks/data_table.ipynb>data table notebook</a>'\n",
              "            + ' to learn more about interactive tables.';\n",
              "          element.innerHTML = '';\n",
              "          dataTable['output_type'] = 'display_data';\n",
              "          await google.colab.output.renderOutput(dataTable, element);\n",
              "          const docLink = document.createElement('div');\n",
              "          docLink.innerHTML = docLinkHtml;\n",
              "          element.appendChild(docLink);\n",
              "        }\n",
              "      </script>\n",
              "    </div>\n",
              "  </div>\n",
              "  "
            ]
          },
          "metadata": {},
          "execution_count": 26
        }
      ]
    },
    {
      "cell_type": "code",
      "source": [
        "# use seaborn to plot loss and accuracy metrics\n",
        "\n",
        "# YOUR CODE HERE\n",
        "plot_cols = ['loss', 'val_loss']\n",
        "adam_df[plot_cols].plot(figsize=(20,6), grid=True);\n",
        "plt.title('Model Loss vs Epoch');\n",
        "plt.xlabel('Epochs');\n",
        "plt.ylabel('Validation Loss');\n",
        "plt.xticks(df.index);"
      ],
      "metadata": {
        "colab": {
          "base_uri": "https://localhost:8080/",
          "height": 404
        },
        "id": "BfosyoZDMr0w",
        "outputId": "fdf13473-0036-4eba-cf84-e9772863a712"
      },
      "execution_count": null,
      "outputs": [
        {
          "output_type": "display_data",
          "data": {
            "text/plain": [
              "<Figure size 1440x432 with 1 Axes>"
            ],
            "image/png": "[encoded data removed]"
          },
          "metadata": {
            "needs_background": "light"
          }
        }
      ]
    },
    {
      "cell_type": "code",
      "source": [
        "plot_cols = ['accuracy', 'val_accuracy']\n",
        "adam_df[plot_cols].plot(figsize=(20,6), grid=True);\n",
        "plt.title('Model Accuracy vs Epoch');\n",
        "plt.xlabel('Epochs');\n",
        "plt.ylabel('Validation Accuracy');\n",
        "plt.xticks(df.index);"
      ],
      "metadata": {
        "colab": {
          "base_uri": "https://localhost:8080/",
          "height": 404
        },
        "id": "loppYvAIxB1V",
        "outputId": "39b84547-0a98-473a-cb22-19c16c8f7d79"
      },
      "execution_count": null,
      "outputs": [
        {
          "output_type": "display_data",
          "data": {
            "text/plain": [
              "<Figure size 1440x432 with 1 Axes>"
            ],
            "image/png": "[encoded data removed]"
          },
          "metadata": {
            "needs_background": "light"
          }
        }
      ]
    },
    {
      "cell_type": "code",
      "metadata": {
        "id": "u9DQypQOLj1L"
      },
      "source": [
        "# a check that we're using the correct optimizer in this model\n",
        "opt_name = model.optimizer.get_config()[\"name\"]\n",
        "assert opt_name == \"Adam\", \"you need to use adam for the optimizer in this model.\""
      ],
      "execution_count": null,
      "outputs": []
    },
    {
      "cell_type": "markdown",
      "metadata": {
        "id": "XECc5OtzLj1M"
      },
      "source": [
        "### Observations \n",
        "\n",
        "This plot should look very different from the previous plot. Based on the plot of the training and validation loss, answer the following questions. "
      ]
    },
    {
      "cell_type": "markdown",
      "metadata": {
        "id": "tK8B5CszLj1M"
      },
      "source": [
        "**Is our model overfitting? Why or why not?**"
      ]
    },
    {
      "cell_type": "markdown",
      "metadata": {
        "deletable": false,
        "nbgrader": {
          "cell_type": "markdown",
          "checksum": "fa4141497af675d227aa510feb8db732",
          "grade": true,
          "grade_id": "cell-7e524ccac970c33e",
          "locked": false,
          "points": 0,
          "schema_version": 3,
          "solution": true,
          "task": false
        },
        "id": "Fn6C8NWTLj1M"
      },
      "source": [
        "YOUR ANSWER HERE\n",
        "\n",
        "Yes, this model is overfitting. This is evident by the huge gap between the training and validation loss curve, as well as the gap between the training and validation accuracy curve. As the number of epochs increases beyond 3, the gap steadily increases. There is also a plateau of the validation accuracy while the training accuracy continues to improve, indicating that the model may not be able to generalize well to new data."
      ]
    },
    {
      "cell_type": "markdown",
      "metadata": {
        "id": "ygXQYH8ILj1M"
      },
      "source": [
        "**Could our model's performance improve by training on more than 20 epochs? Why or why not?**"
      ]
    },
    {
      "cell_type": "markdown",
      "metadata": {
        "deletable": false,
        "nbgrader": {
          "cell_type": "markdown",
          "checksum": "ae03b8b897eb5d052590574ab3bba839",
          "grade": true,
          "grade_id": "cell-456c40e885652955",
          "locked": false,
          "points": 0,
          "schema_version": 3,
          "solution": true,
          "task": false
        },
        "id": "Sa5SRkB1Lj1M"
      },
      "source": [
        "YOUR ANSWER HERE\n",
        "\n",
        "No, since the model is already overfitting, increasing the number of epochs beyond 20 may only exacerbate the problem. It would cause the loss to increase and the overfitting to increase as well."
      ]
    },
    {
      "cell_type": "markdown",
      "metadata": {
        "id": "bNxtLggeLj1M"
      },
      "source": [
        "**Assuming that you want to stick to this model architecture, what can you do to avoid overfitting?**"
      ]
    },
    {
      "cell_type": "markdown",
      "metadata": {
        "deletable": false,
        "nbgrader": {
          "cell_type": "markdown",
          "checksum": "9f5a9393314231d3ce253363c1df1223",
          "grade": true,
          "grade_id": "cell-74d7def19c66702b",
          "locked": false,
          "points": 0,
          "schema_version": 3,
          "solution": true,
          "task": false
        },
        "id": "tfztMm3rLj1M"
      },
      "source": [
        "YOUR ANSWER HERE\n",
        "\n",
        "To help prevent or mitigate overfitting in the model we could cut off the training at about 3 epoch were the validation loss is actually lower than the lowest loss in our previous model and where the model has essentially no overfitting as indicated in the overlap in the training and loss curves."
      ]
    },
    {
      "cell_type": "code",
      "metadata": {
        "id": "5F1VQLmALj1N"
      },
      "source": [],
      "execution_count": null,
      "outputs": []
    }
  ]
}