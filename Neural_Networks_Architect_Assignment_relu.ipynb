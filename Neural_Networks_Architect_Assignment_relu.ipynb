{
  "cells": [
    {
      "cell_type": "markdown",
      "metadata": {
        "id": "ObyHCH8HvHSf"
      },
      "source": [
        "\n",
        "# *Data Science Unit 4 Sprint 2 Assignment 1*\n",
        "\n",
        "Use TensorFlow Keras and a sample of the [Quickdraw dataset](https://github.com/googlecreativelab/quickdraw-dataset) to build a sketch classification model. The dataset has been sampled to only 10 classes and 10000 observations per class. \n",
        "\n",
        "### Objective\n",
        "\n",
        "- Build a baseline classification model then, run a few experiments with different optimizers and learning rates. \n",
        "- Don't forget to [**switch to GPU if you're running your notebook on Colab!**](https://colab.research.google.com/notebooks/gpu.ipynb)"
      ]
    },
    {
      "cell_type": "markdown",
      "metadata": {
        "id": "s-Tc3ovEyQ9b"
      },
      "source": [
        "## Load Your Data"
      ]
    },
    {
      "cell_type": "code",
      "execution_count": null,
      "metadata": {
        "id": "CkU0pAYCvU8o",
        "outputId": "b93318a1-4ea0-49ad-d13a-9359959ced36"
      },
      "outputs": [
        {
          "ename": "ModuleNotFoundError",
          "evalue": "No module named 'tensorflow'",
          "output_type": "error",
          "traceback": [
            "\u001b[0;31m---------------------------------------------------------------------------\u001b[0m",
            "\u001b[0;31mModuleNotFoundError\u001b[0m                       Traceback (most recent call last)",
            "Cell \u001b[0;32mIn [1], line 5\u001b[0m\n\u001b[1;32m      3\u001b[0m \u001b[38;5;28;01mimport\u001b[39;00m \u001b[38;5;21;01mpandas\u001b[39;00m \u001b[38;5;28;01mas\u001b[39;00m \u001b[38;5;21;01mpd\u001b[39;00m\n\u001b[1;32m      4\u001b[0m \u001b[38;5;28;01mimport\u001b[39;00m \u001b[38;5;21;01mnumpy\u001b[39;00m \u001b[38;5;28;01mas\u001b[39;00m \u001b[38;5;21;01mnp\u001b[39;00m\n\u001b[0;32m----> 5\u001b[0m \u001b[38;5;28;01mimport\u001b[39;00m \u001b[38;5;21;01mtensorflow\u001b[39;00m \u001b[38;5;28;01mas\u001b[39;00m \u001b[38;5;21;01mtf\u001b[39;00m \n\u001b[1;32m      6\u001b[0m \u001b[38;5;28;01mimport\u001b[39;00m \u001b[38;5;21;01mmatplotlib\u001b[39;00m\u001b[38;5;21;01m.\u001b[39;00m\u001b[38;5;21;01mpyplot\u001b[39;00m \u001b[38;5;28;01mas\u001b[39;00m \u001b[38;5;21;01mplt\u001b[39;00m\n\u001b[1;32m      7\u001b[0m \u001b[38;5;28;01mfrom\u001b[39;00m \u001b[38;5;21;01msklearn\u001b[39;00m\u001b[38;5;21;01m.\u001b[39;00m\u001b[38;5;21;01mutils\u001b[39;00m \u001b[38;5;28;01mimport\u001b[39;00m shuffle\n",
            "\u001b[0;31mModuleNotFoundError\u001b[0m: No module named 'tensorflow'"
          ]
        }
      ],
      "source": [
        "# imports in first cell \n",
        "import seaborn as sns\n",
        "import pandas as pd\n",
        "import numpy as np\n",
        "import tensorflow as tf \n",
        "import matplotlib.pyplot as plt\n",
        "from sklearn.utils import shuffle\n",
        "\n",
        "# use Sequential to build out your model\n",
        "from tensorflow.keras.models import Sequential\n",
        "\n",
        "# Dense layer is used for Fully Connected Forward Feeding networks\n",
        "from tensorflow.keras.layers import Dense"
      ]
    },
    {
      "cell_type": "markdown",
      "metadata": {
        "id": "UT2HFvSgDlFQ"
      },
      "source": [
        "Note that the 28x28 quickdraw images have already been \"flattened\" into 784: dimensional vectors"
      ]
    },
    {
      "cell_type": "code",
      "execution_count": null,
      "metadata": {
        "colab": {
          "base_uri": "https://localhost:8080/"
        },
        "id": "S1XYJRQKLj1B",
        "outputId": "449d27c8-3f2d-4d84-ca66-529001290787"
      },
      "outputs": [
        {
          "name": "stdout",
          "output_type": "stream",
          "text": [
            "fatal: destination path 'DS-Unit-4-Sprint-2-Neural-Networks' already exists and is not an empty directory.\n",
            "(100000, 784)\n",
            "(100000,)\n"
          ]
        }
      ],
      "source": [
        "# load the quickdraw data set\n",
        "!git clone https://github.com/LambdaSchool/DS-Unit-4-Sprint-2-Neural-Networks\n",
        "data = np.load('/content/DS-Unit-4-Sprint-2-Neural-Networks/quickdraw10.npz')\n",
        "\n",
        "X = data['arr_0']\n",
        "y = data['arr_1']\n",
        "\n",
        "print(X.shape)\n",
        "print(y.shape)"
      ]
    },
    {
      "cell_type": "markdown",
      "metadata": {
        "id": "mvMjoB_yDZTL"
      },
      "source": [
        "These are the names of the 10 image classes"
      ]
    },
    {
      "cell_type": "code",
      "execution_count": null,
      "metadata": {
        "id": "c8qsDqdqvHDd"
      },
      "outputs": [],
      "source": [
        "class_names = ['apple',\n",
        "             'anvil',\n",
        "             'airplane',\n",
        "             'banana',\n",
        "             'The Eiffel Tower',\n",
        "             'The Mona Lisa',\n",
        "             'The Great Wall of China',\n",
        "             'alarm clock',\n",
        "             'ant',\n",
        "             'asparagus']"
      ]
    },
    {
      "cell_type": "markdown",
      "metadata": {
        "id": "VxuY8RYXD9S4"
      },
      "source": [
        "We can explore the data a bit by reshaping the vectors back to images and displaying them with their labels. <br>\n",
        "Turns out the data has 10 blocks of 10,000 images of each of the above labels, in order. <br>\n",
        "So the code below displays the first image of each class."
      ]
    },
    {
      "cell_type": "code",
      "execution_count": null,
      "metadata": {
        "colab": {
          "base_uri": "https://localhost:8080/",
          "height": 293
        },
        "id": "Owbm1EbxvA5A",
        "outputId": "ea3a9a29-ce6f-46f4-e211-74262f550ffc"
      },
      "outputs": [
        {
          "data": {
            "image/png": "[encoded data removed]",
            "text/plain": [
              "<Figure size 720x360 with 10 Axes>"
            ]
          },
          "metadata": {},
          "output_type": "display_data"
        }
      ],
      "source": [
        "# these are your 10 unique images\n",
        "plt.figure(figsize=(10,5))\n",
        "start = 0\n",
        "\n",
        "for num, name in enumerate(class_names):\n",
        "    plt.subplot(2,5, num+1) # num+1 specifies the position of the current subplot in the figure.\n",
        "    plt.xticks([]) # remove the tick marks on both the x-axis \n",
        "    plt.yticks([]) # and y-axis of the plot.\n",
        "    plt.grid(False) # remove the grid lines \n",
        "    plt.imshow(X[start].reshape(28,28),cmap=plt.cm.binary) # show img by getting the img data and reshaping it to a 28x28 pixel array, display img in black and white\n",
        "    plt.xlabel(name) # add name of the class for each img\n",
        "    start += 10000\n",
        "plt.show()"
      ]
    },
    {
      "cell_type": "markdown",
      "metadata": {
        "id": "Av6i6t5QLj1D"
      },
      "source": [
        "Say hello to the Quickdraw dataset!\n",
        "\n",
        "You'll be using this dataset a lot this week as an alternative to the MNIST digits data set, which we'll use in the guided projects. The nice thing about this dataset is that it's simple, which allows us to focus on our model, its various components, and gradually come to a better understanding of how to build neural networks without worrying about cleaning and prepping our image data much."
      ]
    },
    {
      "cell_type": "code",
      "execution_count": null,
      "metadata": {
        "id": "c97_M1WNvTNY"
      },
      "outputs": [],
      "source": [
        "# always a good idea to shuffle your dataset!\n",
        "X, y = shuffle(X, y)"
      ]
    },
    {
      "cell_type": "markdown",
      "metadata": {
        "id": "jb70CbLVyK65"
      },
      "source": [
        "-----\n",
        "\n",
        "## Build Your Baseline Model\n",
        "\n",
        "Make sure that you\n",
        "\n",
        "- **Determine** the dimensionality of your input data by investigating **X**\n",
        "- **Normalize** your input data to values between 0 and 1 \n",
        "- **Determine** the number of neurons in your output layer by investigating **Y**\n",
        "- **Select** `sparse_categorical_crossentropy` as your loss function.\n",
        "- **Select** `sgd` as your optimizer.\n",
        "- **Add** 3 hidden layers to your model with the following number of nodes\n",
        "    - h1 has 500 nodes\n",
        "    - h2 has 250 nodes\n",
        "    - h3 has 100 nodes\n",
        "    \n",
        "- **Set** epochs to 20 \n",
        "- **Use** the `validation_split` keyword in `model.fit()` to automatically create a training / validation dataset from within the model. Specify a percentage, such as `validation_split = 0.2`\n",
        " \n",
        "Not sure what the various parameters are for or what values to assign to them?\n",
        "\n",
        "- Reference the guided project notebook for Sprint 2 Module 1\n",
        "- Reference the [**Keras documentation**](https://keras.io/api/)\n",
        "- Google other examples\n",
        "- Discuss your results with classmates "
      ]
    },
    {
      "cell_type": "code",
      "execution_count": null,
      "metadata": {
        "colab": {
          "base_uri": "https://localhost:8080/"
        },
        "id": "kYPdjspqs4kb",
        "outputId": "21ed1062-545a-4e3d-8370-27d39e49e9f3"
      },
      "outputs": [
        {
          "data": {
            "text/plain": [
              "(100000, 784)"
            ]
          },
          "execution_count": 51,
          "metadata": {},
          "output_type": "execute_result"
        }
      ],
      "source": [
        "X.shape"
      ]
    },
    {
      "cell_type": "code",
      "execution_count": null,
      "metadata": {
        "deletable": false,
        "id": "f133nwpOLj1G",
        "nbgrader": {
          "cell_type": "code",
          "checksum": "ef20dd34df6998e0a50e394d59d58659",
          "grade": false,
          "grade_id": "cell-907b9348d7a2ebb3",
          "locked": false,
          "schema_version": 3,
          "solution": true,
          "task": false
        }
      },
      "outputs": [],
      "source": [
        "# get dim of image row vectors and save to input_dim\n",
        "\n",
        "# get number of unique labels and save to n_output_labels\n",
        "\n",
        "# normalize image data to values between 0 and 1 (by dividing by max pixel value)\n",
        "\n",
        "\n",
        "# YOUR CODE HERE\n",
        "input_dim = 784\n",
        "n_output_labels = len(np.unique(y))\n",
        "epochs=20\n",
        "# The maximum value that can be stored in 8 bits is  2^8 − 1 = 255\n",
        "max_value=255\n",
        "X_scaled = X.astype('float32') / max_value\n",
        "# raise NotImplementedError()"
      ]
    },
    {
      "cell_type": "code",
      "execution_count": null,
      "metadata": {
        "id": "vOufsWS3Lj1G"
      },
      "outputs": [],
      "source": [
        "# a check on your data prep \n",
        "assert  X_scaled.max(), \"Max pixel value should be 1.0, make sure you normalize your data\""
      ]
    },
    {
      "cell_type": "code",
      "execution_count": null,
      "metadata": {
        "deletable": false,
        "id": "zHWblzsMyNkU",
        "nbgrader": {
          "cell_type": "code",
          "checksum": "f0ba174cb72f491f73c3aa7df8ae7ac4",
          "grade": false,
          "grade_id": "cell-b7c96fc46d86725f",
          "locked": false,
          "schema_version": 3,
          "solution": true,
          "task": false
        }
      },
      "outputs": [],
      "source": [
        "# instantiate a sequential object and call it model, then add the layers to your model\n",
        "\n",
        "# add a compile layer but don't fit your model yet \n",
        "\n",
        "# YOUR CODE HERE\n",
        "model = Sequential()\n",
        "\n",
        "# Hidden layer 1\n",
        "model.add(Dense(500, activation='relu', input_dim=input_dim))\n",
        "# Hidden layer 2\n",
        "model.add(Dense(250, activation='relu'))\n",
        "# Hidden layer 3\n",
        "model.add(Dense(100, activation='relu'))\n",
        "# Output layer\n",
        "model.add(Dense(n_output_labels, activation='softmax')) # softmax values can be interpreted as the probability of each class given the input data\n",
        "\n",
        "model.compile(optimizer='sgd',\n",
        "              loss = 'sparse_categorical_crossentropy', \n",
        "              metrics=['accuracy'])\n",
        "\n",
        "# raise NotImplementedError()"
      ]
    },
    {
      "cell_type": "code",
      "execution_count": null,
      "metadata": {
        "id": "ojLnGDklLj1H"
      },
      "outputs": [],
      "source": [
        "# a check on your model architecture \n",
        "n_layers = len(model.get_config()[\"layers\"])\n",
        "assert n_layers == 5, \"You should have 5 layers: input, h1, h2, h3, and output\""
      ]
    },
    {
      "cell_type": "code",
      "execution_count": null,
      "metadata": {
        "colab": {
          "base_uri": "https://localhost:8080/"
        },
        "id": "wMK2_DtJLj1I",
        "outputId": "3e4c4b8e-d695-435e-d580-1a8993fc8d05"
      },
      "outputs": [
        {
          "name": "stdout",
          "output_type": "stream",
          "text": [
            "Model: \"sequential_5\"\n",
            "_________________________________________________________________\n",
            " Layer (type)                Output Shape              Param #   \n",
            "=================================================================\n",
            " dense_15 (Dense)            (None, 500)               392500    \n",
            "                                                                 \n",
            " dense_16 (Dense)            (None, 250)               125250    \n",
            "                                                                 \n",
            " dense_17 (Dense)            (None, 100)               25100     \n",
            "                                                                 \n",
            " dense_18 (Dense)            (None, 10)                1010      \n",
            "                                                                 \n",
            "=================================================================\n",
            "Total params: 543,860\n",
            "Trainable params: 543,860\n",
            "Non-trainable params: 0\n",
            "_________________________________________________________________\n"
          ]
        }
      ],
      "source": [
        "# check out your model summary \n",
        "model.summary()"
      ]
    },
    {
      "cell_type": "code",
      "execution_count": null,
      "metadata": {
        "colab": {
          "base_uri": "https://localhost:8080/"
        },
        "id": "DXTSbEiyLj1I",
        "outputId": "9d9dc252-2640-4f5e-a611-0fd114d61e23"
      },
      "outputs": [
        {
          "name": "stdout",
          "output_type": "stream",
          "text": [
            "Epoch 1/20\n",
            "2500/2500 [==============================] - 21s 8ms/step - loss: 0.9860 - accuracy: 0.7078 - val_loss: 0.7497 - val_accuracy: 0.7800\n",
            "Epoch 2/20\n",
            "2500/2500 [==============================] - 21s 9ms/step - loss: 0.6744 - accuracy: 0.8035 - val_loss: 0.6277 - val_accuracy: 0.8129\n",
            "Epoch 3/20\n",
            "2500/2500 [==============================] - 20s 8ms/step - loss: 0.5735 - accuracy: 0.8311 - val_loss: 0.5559 - val_accuracy: 0.8353\n",
            "Epoch 4/20\n",
            "2500/2500 [==============================] - 22s 9ms/step - loss: 0.5064 - accuracy: 0.8499 - val_loss: 0.5122 - val_accuracy: 0.8495\n",
            "Epoch 5/20\n",
            "2500/2500 [==============================] - 23s 9ms/step - loss: 0.4559 - accuracy: 0.8655 - val_loss: 0.4913 - val_accuracy: 0.8555\n",
            "Epoch 6/20\n",
            "2500/2500 [==============================] - 24s 10ms/step - loss: 0.4156 - accuracy: 0.8775 - val_loss: 0.4581 - val_accuracy: 0.8670\n",
            "Epoch 7/20\n",
            "2500/2500 [==============================] - 20s 8ms/step - loss: 0.3823 - accuracy: 0.8877 - val_loss: 0.4427 - val_accuracy: 0.8692\n",
            "Epoch 8/20\n",
            "2500/2500 [==============================] - 21s 9ms/step - loss: 0.3524 - accuracy: 0.8963 - val_loss: 0.4367 - val_accuracy: 0.8737\n",
            "Epoch 9/20\n",
            "2500/2500 [==============================] - 26s 11ms/step - loss: 0.3257 - accuracy: 0.9047 - val_loss: 0.4313 - val_accuracy: 0.8736\n",
            "Epoch 10/20\n",
            "2500/2500 [==============================] - 22s 9ms/step - loss: 0.3016 - accuracy: 0.9118 - val_loss: 0.4300 - val_accuracy: 0.8766\n",
            "Epoch 11/20\n",
            "2500/2500 [==============================] - 19s 8ms/step - loss: 0.2787 - accuracy: 0.9195 - val_loss: 0.4260 - val_accuracy: 0.8776\n",
            "Epoch 12/20\n",
            "2500/2500 [==============================] - 21s 9ms/step - loss: 0.2569 - accuracy: 0.9257 - val_loss: 0.4377 - val_accuracy: 0.8760\n",
            "Epoch 13/20\n",
            "2500/2500 [==============================] - 20s 8ms/step - loss: 0.2365 - accuracy: 0.9313 - val_loss: 0.4312 - val_accuracy: 0.8788\n",
            "Epoch 14/20\n",
            "2500/2500 [==============================] - 21s 9ms/step - loss: 0.2169 - accuracy: 0.9375 - val_loss: 0.4363 - val_accuracy: 0.8804\n",
            "Epoch 15/20\n",
            "2500/2500 [==============================] - 20s 8ms/step - loss: 0.1995 - accuracy: 0.9426 - val_loss: 0.4427 - val_accuracy: 0.8794\n",
            "Epoch 16/20\n",
            "2500/2500 [==============================] - 21s 8ms/step - loss: 0.1820 - accuracy: 0.9477 - val_loss: 0.4558 - val_accuracy: 0.8763\n",
            "Epoch 17/20\n",
            "2500/2500 [==============================] - 21s 9ms/step - loss: 0.1654 - accuracy: 0.9528 - val_loss: 0.4618 - val_accuracy: 0.8796\n",
            "Epoch 18/20\n",
            "2500/2500 [==============================] - 21s 8ms/step - loss: 0.1499 - accuracy: 0.9578 - val_loss: 0.5135 - val_accuracy: 0.8691\n",
            "Epoch 19/20\n",
            "2500/2500 [==============================] - 22s 9ms/step - loss: 0.1351 - accuracy: 0.9624 - val_loss: 0.4925 - val_accuracy: 0.8781\n",
            "Epoch 20/20\n",
            "2500/2500 [==============================] - 21s 9ms/step - loss: 0.1227 - accuracy: 0.9662 - val_loss: 0.5023 - val_accuracy: 0.8759\n"
          ]
        }
      ],
      "source": [
        "# fit your model and save training results to history \n",
        "history = model.fit(X_scaled, y, \n",
        "                    epochs=epochs, \n",
        "                    # a held-out validation set will be generated within the model\n",
        "                    validation_split=0.2\n",
        "                   )"
      ]
    },
    {
      "cell_type": "markdown",
      "metadata": {
        "id": "b0QJURWh-9uv"
      },
      "source": [
        "----\n",
        "### Visualize the Results\n",
        "\n",
        "- Move results in `history` to a dataframe. \n",
        "- Use [**Seaborn**](https://seaborn.pydata.org/generated/seaborn.lineplot.html) to create line plots for both loss and accuracy by epoch. \n",
        "- Analyze the results and write a couple of observations. \n",
        "\n",
        "At what point should we have stopped training the model and why? "
      ]
    },
    {
      "cell_type": "code",
      "execution_count": null,
      "metadata": {
        "colab": {
          "base_uri": "https://localhost:8080/",
          "height": 676
        },
        "id": "qJVVKYsa8FsZ",
        "outputId": "51b2a41f-ce21-4a44-f883-3ed78b50782a"
      },
      "outputs": [
        {
          "data": {
            "text/html": [
              "\n",
              "  <div id=\"df-acb798ca-9f9d-44f5-9ecd-c16c3738265f\">\n",
              "    <div class=\"colab-df-container\">\n",
              "      <div>\n",
              "<style scoped>\n",
              "    .dataframe tbody tr th:only-of-type {\n",
              "        vertical-align: middle;\n",
              "    }\n",
              "\n",
              "    .dataframe tbody tr th {\n",
              "        vertical-align: top;\n",
              "    }\n",
              "\n",
              "    .dataframe thead th {\n",
              "        text-align: right;\n",
              "    }\n",
              "</style>\n",
              "<table border=\"1\" class=\"dataframe\">\n",
              "  <thead>\n",
              "    <tr style=\"text-align: right;\">\n",
              "      <th></th>\n",
              "      <th>loss</th>\n",
              "      <th>accuracy</th>\n",
              "      <th>val_loss</th>\n",
              "      <th>val_accuracy</th>\n",
              "    </tr>\n",
              "  </thead>\n",
              "  <tbody>\n",
              "    <tr>\n",
              "      <th>0</th>\n",
              "      <td>0.985989</td>\n",
              "      <td>0.707825</td>\n",
              "      <td>0.749731</td>\n",
              "      <td>0.78000</td>\n",
              "    </tr>\n",
              "    <tr>\n",
              "      <th>1</th>\n",
              "      <td>0.674362</td>\n",
              "      <td>0.803525</td>\n",
              "      <td>0.627654</td>\n",
              "      <td>0.81290</td>\n",
              "    </tr>\n",
              "    <tr>\n",
              "      <th>2</th>\n",
              "      <td>0.573487</td>\n",
              "      <td>0.831075</td>\n",
              "      <td>0.555861</td>\n",
              "      <td>0.83530</td>\n",
              "    </tr>\n",
              "    <tr>\n",
              "      <th>3</th>\n",
              "      <td>0.506445</td>\n",
              "      <td>0.849875</td>\n",
              "      <td>0.512219</td>\n",
              "      <td>0.84950</td>\n",
              "    </tr>\n",
              "    <tr>\n",
              "      <th>4</th>\n",
              "      <td>0.455854</td>\n",
              "      <td>0.865488</td>\n",
              "      <td>0.491333</td>\n",
              "      <td>0.85550</td>\n",
              "    </tr>\n",
              "    <tr>\n",
              "      <th>5</th>\n",
              "      <td>0.415579</td>\n",
              "      <td>0.877500</td>\n",
              "      <td>0.458148</td>\n",
              "      <td>0.86700</td>\n",
              "    </tr>\n",
              "    <tr>\n",
              "      <th>6</th>\n",
              "      <td>0.382259</td>\n",
              "      <td>0.887725</td>\n",
              "      <td>0.442723</td>\n",
              "      <td>0.86920</td>\n",
              "    </tr>\n",
              "    <tr>\n",
              "      <th>7</th>\n",
              "      <td>0.352422</td>\n",
              "      <td>0.896250</td>\n",
              "      <td>0.436707</td>\n",
              "      <td>0.87365</td>\n",
              "    </tr>\n",
              "    <tr>\n",
              "      <th>8</th>\n",
              "      <td>0.325653</td>\n",
              "      <td>0.904737</td>\n",
              "      <td>0.431253</td>\n",
              "      <td>0.87360</td>\n",
              "    </tr>\n",
              "    <tr>\n",
              "      <th>9</th>\n",
              "      <td>0.301645</td>\n",
              "      <td>0.911775</td>\n",
              "      <td>0.429998</td>\n",
              "      <td>0.87665</td>\n",
              "    </tr>\n",
              "    <tr>\n",
              "      <th>10</th>\n",
              "      <td>0.278747</td>\n",
              "      <td>0.919463</td>\n",
              "      <td>0.425972</td>\n",
              "      <td>0.87755</td>\n",
              "    </tr>\n",
              "    <tr>\n",
              "      <th>11</th>\n",
              "      <td>0.256859</td>\n",
              "      <td>0.925713</td>\n",
              "      <td>0.437697</td>\n",
              "      <td>0.87600</td>\n",
              "    </tr>\n",
              "    <tr>\n",
              "      <th>12</th>\n",
              "      <td>0.236517</td>\n",
              "      <td>0.931275</td>\n",
              "      <td>0.431165</td>\n",
              "      <td>0.87880</td>\n",
              "    </tr>\n",
              "    <tr>\n",
              "      <th>13</th>\n",
              "      <td>0.216861</td>\n",
              "      <td>0.937525</td>\n",
              "      <td>0.436289</td>\n",
              "      <td>0.88040</td>\n",
              "    </tr>\n",
              "    <tr>\n",
              "      <th>14</th>\n",
              "      <td>0.199533</td>\n",
              "      <td>0.942625</td>\n",
              "      <td>0.442701</td>\n",
              "      <td>0.87940</td>\n",
              "    </tr>\n",
              "    <tr>\n",
              "      <th>15</th>\n",
              "      <td>0.181977</td>\n",
              "      <td>0.947662</td>\n",
              "      <td>0.455814</td>\n",
              "      <td>0.87630</td>\n",
              "    </tr>\n",
              "    <tr>\n",
              "      <th>16</th>\n",
              "      <td>0.165363</td>\n",
              "      <td>0.952750</td>\n",
              "      <td>0.461776</td>\n",
              "      <td>0.87965</td>\n",
              "    </tr>\n",
              "    <tr>\n",
              "      <th>17</th>\n",
              "      <td>0.149906</td>\n",
              "      <td>0.957825</td>\n",
              "      <td>0.513502</td>\n",
              "      <td>0.86905</td>\n",
              "    </tr>\n",
              "    <tr>\n",
              "      <th>18</th>\n",
              "      <td>0.135127</td>\n",
              "      <td>0.962438</td>\n",
              "      <td>0.492549</td>\n",
              "      <td>0.87805</td>\n",
              "    </tr>\n",
              "    <tr>\n",
              "      <th>19</th>\n",
              "      <td>0.122722</td>\n",
              "      <td>0.966163</td>\n",
              "      <td>0.502325</td>\n",
              "      <td>0.87595</td>\n",
              "    </tr>\n",
              "  </tbody>\n",
              "</table>\n",
              "</div>\n",
              "      <button class=\"colab-df-convert\" onclick=\"convertToInteractive('df-acb798ca-9f9d-44f5-9ecd-c16c3738265f')\"\n",
              "              title=\"Convert this dataframe to an interactive table.\"\n",
              "              style=\"display:none;\">\n",
              "        \n",
              "  <svg xmlns=\"http://www.w3.org/2000/svg\" height=\"24px\"viewBox=\"0 0 24 24\"\n",
              "       width=\"24px\">\n",
              "    <path d=\"M0 0h24v24H0V0z\" fill=\"none\"/>\n",
              "    <path d=\"M18.56 5.44l.94 2.06.94-2.06 2.06-.94-2.06-.94-.94-2.06-.94 2.06-2.06.94zm-11 1L8.5 8.5l.94-2.06 2.06-.94-2.06-.94L8.5 2.5l-.94 2.06-2.06.94zm10 10l.94 2.06.94-2.06 2.06-.94-2.06-.94-.94-2.06-.94 2.06-2.06.94z\"/><path d=\"M17.41 7.96l-1.37-1.37c-.4-.4-.92-.59-1.43-.59-.52 0-1.04.2-1.43.59L10.3 9.45l-7.72 7.72c-.78.78-.78 2.05 0 2.83L4 21.41c.39.39.9.59 1.41.59.51 0 1.02-.2 1.41-.59l7.78-7.78 2.81-2.81c.8-.78.8-2.07 0-2.86zM5.41 20L4 18.59l7.72-7.72 1.47 1.35L5.41 20z\"/>\n",
              "  </svg>\n",
              "      </button>\n",
              "      \n",
              "  <style>\n",
              "    .colab-df-container {\n",
              "      display:flex;\n",
              "      flex-wrap:wrap;\n",
              "      gap: 12px;\n",
              "    }\n",
              "\n",
              "    .colab-df-convert {\n",
              "      background-color: #E8F0FE;\n",
              "      border: none;\n",
              "      border-radius: 50%;\n",
              "      cursor: pointer;\n",
              "      display: none;\n",
              "      fill: #1967D2;\n",
              "      height: 32px;\n",
              "      padding: 0 0 0 0;\n",
              "      width: 32px;\n",
              "    }\n",
              "\n",
              "    .colab-df-convert:hover {\n",
              "      background-color: #E2EBFA;\n",
              "      box-shadow: 0px 1px 2px rgba(60, 64, 67, 0.3), 0px 1px 3px 1px rgba(60, 64, 67, 0.15);\n",
              "      fill: #174EA6;\n",
              "    }\n",
              "\n",
              "    [theme=dark] .colab-df-convert {\n",
              "      background-color: #3B4455;\n",
              "      fill: #D2E3FC;\n",
              "    }\n",
              "\n",
              "    [theme=dark] .colab-df-convert:hover {\n",
              "      background-color: #434B5C;\n",
              "      box-shadow: 0px 1px 3px 1px rgba(0, 0, 0, 0.15);\n",
              "      filter: drop-shadow(0px 1px 2px rgba(0, 0, 0, 0.3));\n",
              "      fill: #FFFFFF;\n",
              "    }\n",
              "  </style>\n",
              "\n",
              "      <script>\n",
              "        const buttonEl =\n",
              "          document.querySelector('#df-acb798ca-9f9d-44f5-9ecd-c16c3738265f button.colab-df-convert');\n",
              "        buttonEl.style.display =\n",
              "          google.colab.kernel.accessAllowed ? 'block' : 'none';\n",
              "\n",
              "        async function convertToInteractive(key) {\n",
              "          const element = document.querySelector('#df-acb798ca-9f9d-44f5-9ecd-c16c3738265f');\n",
              "          const dataTable =\n",
              "            await google.colab.kernel.invokeFunction('convertToInteractive',\n",
              "                                                     [key], {});\n",
              "          if (!dataTable) return;\n",
              "\n",
              "          const docLinkHtml = 'Like what you see? Visit the ' +\n",
              "            '<a target=\"_blank\" href=https://colab.research.google.com/notebooks/data_table.ipynb>data table notebook</a>'\n",
              "            + ' to learn more about interactive tables.';\n",
              "          element.innerHTML = '';\n",
              "          dataTable['output_type'] = 'display_data';\n",
              "          await google.colab.output.renderOutput(dataTable, element);\n",
              "          const docLink = document.createElement('div');\n",
              "          docLink.innerHTML = docLinkHtml;\n",
              "          element.appendChild(docLink);\n",
              "        }\n",
              "      </script>\n",
              "    </div>\n",
              "  </div>\n",
              "  "
            ],
            "text/plain": [
              "        loss  accuracy  val_loss  val_accuracy\n",
              "0   0.985989  0.707825  0.749731       0.78000\n",
              "1   0.674362  0.803525  0.627654       0.81290\n",
              "2   0.573487  0.831075  0.555861       0.83530\n",
              "3   0.506445  0.849875  0.512219       0.84950\n",
              "4   0.455854  0.865488  0.491333       0.85550\n",
              "5   0.415579  0.877500  0.458148       0.86700\n",
              "6   0.382259  0.887725  0.442723       0.86920\n",
              "7   0.352422  0.896250  0.436707       0.87365\n",
              "8   0.325653  0.904737  0.431253       0.87360\n",
              "9   0.301645  0.911775  0.429998       0.87665\n",
              "10  0.278747  0.919463  0.425972       0.87755\n",
              "11  0.256859  0.925713  0.437697       0.87600\n",
              "12  0.236517  0.931275  0.431165       0.87880\n",
              "13  0.216861  0.937525  0.436289       0.88040\n",
              "14  0.199533  0.942625  0.442701       0.87940\n",
              "15  0.181977  0.947662  0.455814       0.87630\n",
              "16  0.165363  0.952750  0.461776       0.87965\n",
              "17  0.149906  0.957825  0.513502       0.86905\n",
              "18  0.135127  0.962438  0.492549       0.87805\n",
              "19  0.122722  0.966163  0.502325       0.87595"
            ]
          },
          "execution_count": 99,
          "metadata": {},
          "output_type": "execute_result"
        }
      ],
      "source": [
        "df = pd.DataFrame(history.history)\n",
        "df"
      ]
    },
    {
      "cell_type": "code",
      "execution_count": null,
      "metadata": {
        "id": "jFTzaMcALj1J"
      },
      "outputs": [],
      "source": [
        "# a check on our model training\n",
        "assert df.shape[0] == 20, \"df should have the training results from 20 epochs\""
      ]
    },
    {
      "cell_type": "code",
      "execution_count": null,
      "metadata": {
        "colab": {
          "base_uri": "https://localhost:8080/",
          "height": 297
        },
        "id": "hQ1HXFEE92i_",
        "outputId": "af3b7878-c800-424d-a5ef-7043a7563b65"
      },
      "outputs": [
        {
          "data": {
            "image/png": "[encoded data removed]",
            "text/plain": [
              "<Figure size 432x288 with 2 Axes>"
            ]
          },
          "metadata": {
            "needs_background": "light"
          },
          "output_type": "display_data"
        }
      ],
      "source": [
        "# use seaborn to plot loss and accuracy metrics\n",
        "\n",
        "# YOUR CODE HERE\n",
        "plt.subplot(1, 2, 1)\n",
        "epoch= [i for i in range(len(df['loss']))]\n",
        "sns.lineplot(x=epoch, y=df['loss'], label='train')\n",
        "sns.lineplot(x=epoch, y=df['val_loss'], label='validation')\n",
        "plt.title('Loss')\n",
        "plt.grid()\n",
        "\n",
        "plt.subplot(1, 2, 2)\n",
        "epoch= [i for i in range(len(df['accuracy']))]\n",
        "sns.lineplot(x=epochs, y=df['accuracy'], label='train')\n",
        "sns.lineplot(x=epochs, y=df['val_accuracy'], label='validation')\n",
        "plt.title('Accuracy')\n",
        "plt.grid()\n",
        "\n",
        "plt.tight_layout()\n",
        "\n",
        "# raise NotImplementedError()"
      ]
    },
    {
      "cell_type": "markdown",
      "metadata": {
        "id": "GmjyuTlrLj1K"
      },
      "source": [
        "### Observations \n",
        "\n",
        "Based on the plot of the training and validation loss, answer the following questions. "
      ]
    },
    {
      "cell_type": "markdown",
      "metadata": {
        "id": "NF_mrNmPLj1K"
      },
      "source": [
        "**Was our model able to learn throughout the 20 epochs? Why or why not?**"
      ]
    },
    {
      "cell_type": "markdown",
      "metadata": {
        "deletable": false,
        "id": "yL42yLWELj1K",
        "nbgrader": {
          "cell_type": "markdown",
          "checksum": "b7713eb32ad3a910a58dfdb9494a9db3",
          "grade": true,
          "grade_id": "cell-820990a8232a858a",
          "locked": false,
          "points": 0,
          "schema_version": 3,
          "solution": true,
          "task": false
        }
      },
      "source": [
        "YOUR ANSWER HERE\n",
        "\n",
        "It seems like the model was able to learn throughout the 20 epochs, as both training and validation accuracy increased, while the training and validation loss decreased overtime.\n",
        "\n",
        "The training accuracy started at 70.78% and reached 96.62% by the end of the 20 epochs, while the validation accuracy started at 78% and reached 87.60%. Similarly, the training loss started at 98.60% and reached 12.27%, while the validation loss started at 74.97% and reached 50.23%.\n",
        "\n",
        "These trends suggest that the model was improving and learning as it was trained over the 20 epochs."
      ]
    },
    {
      "cell_type": "markdown",
      "metadata": {
        "id": "_xKObFanLj1K"
      },
      "source": [
        "**Is our model overfitting? Why or why not?**"
      ]
    },
    {
      "cell_type": "markdown",
      "metadata": {
        "deletable": false,
        "id": "rx7xa4Z1Lj1L",
        "nbgrader": {
          "cell_type": "markdown",
          "checksum": "1d30c64465cd35081d70578c20ecf96d",
          "grade": true,
          "grade_id": "cell-33868e7ef6e401b5",
          "locked": false,
          "points": 0,
          "schema_version": 3,
          "solution": true,
          "task": false
        }
      },
      "source": [
        "YOUR ANSWER HERE\n",
        "\n",
        "It seems like the model is overfitting, as the training accuracy is higher than the validation accuracy in a significant part of the epochs. The degree of overfitting is not severe because the difference between training and validation accuracy is not big. However, if we look at the curves in the plot, the validation accuracy starts to plateau while the training accuracy continues to increase. Additionally, we see that the validation loss begins to plateau and then increase while the training loss continues to decrease. Both of these situations are signs that the model has learned the noise in the training data and is fitting the data too closely, which causes it to not generalize as well on new or unseen data."
      ]
    },
    {
      "cell_type": "markdown",
      "metadata": {
        "id": "FIvb1mftLj1L"
      },
      "source": [
        "**Could the model score benefit from additional epochs? Why or why not?**"
      ]
    },
    {
      "cell_type": "markdown",
      "metadata": {
        "deletable": false,
        "id": "Ww1hBmfMLj1L",
        "nbgrader": {
          "cell_type": "markdown",
          "checksum": "0fc2208e2c78461578fc7a05224066b8",
          "grade": true,
          "grade_id": "cell-5c883f0a3161e469",
          "locked": false,
          "points": 0,
          "schema_version": 3,
          "solution": true,
          "task": false
        }
      },
      "source": [
        "YOUR ANSWER HERE\n",
        "\n",
        "Given that both the validation accuracy and validation loss have plateaued after a certain epoch, I don't think additional training would improve the model's ability to generalize to new or unseen data. In fact, continuing to train the model could result in overfitting to the training data and ultimately lead to worse performance on new data."
      ]
    },
    {
      "cell_type": "markdown",
      "metadata": {
        "id": "MAhBrcE4yOZe"
      },
      "source": [
        "-----\n",
        "## Change Optimizers\n",
        "\n",
        "Let's compare model performance between different optimizers. \n",
        "- Build a new model, identical to the last one but using `adam` for the optimizer. \n",
        "- Train (fit) the model\n",
        "- Save the modeling results to adam_history, so we don't erase the results from the previous model run\n",
        "- Visualize the training results just as we did for the last model. \n"
      ]
    },
    {
      "cell_type": "code",
      "execution_count": null,
      "metadata": {
        "colab": {
          "base_uri": "https://localhost:8080/"
        },
        "deletable": false,
        "id": "jIW_spOZ0cxy",
        "nbgrader": {
          "cell_type": "code",
          "checksum": "6d30d8c6f4521861a77c9ef04dbde904",
          "grade": false,
          "grade_id": "cell-56663c8a5e75b71f",
          "locked": false,
          "schema_version": 3,
          "solution": true,
          "task": false
        },
        "outputId": "b6ff06aa-f891-40b9-9818-bda9de84320e"
      },
      "outputs": [
        {
          "name": "stdout",
          "output_type": "stream",
          "text": [
            "Epoch 1/20\n",
            "2500/2500 [==============================] - 32s 12ms/step - loss: 0.5946 - accuracy: 0.8176 - val_loss: 0.4742 - val_accuracy: 0.8562\n",
            "Epoch 2/20\n",
            "2500/2500 [==============================] - 36s 14ms/step - loss: 0.4210 - accuracy: 0.8722 - val_loss: 0.4460 - val_accuracy: 0.8660\n",
            "Epoch 3/20\n",
            "2500/2500 [==============================] - 28s 11ms/step - loss: 0.3498 - accuracy: 0.8933 - val_loss: 0.4205 - val_accuracy: 0.8751\n",
            "Epoch 4/20\n",
            "2500/2500 [==============================] - 30s 12ms/step - loss: 0.2968 - accuracy: 0.9078 - val_loss: 0.4147 - val_accuracy: 0.8799\n",
            "Epoch 5/20\n",
            "2500/2500 [==============================] - 30s 12ms/step - loss: 0.2551 - accuracy: 0.9207 - val_loss: 0.4352 - val_accuracy: 0.8759\n",
            "Epoch 6/20\n",
            "2500/2500 [==============================] - 30s 12ms/step - loss: 0.2174 - accuracy: 0.9320 - val_loss: 0.4602 - val_accuracy: 0.8794\n",
            "Epoch 7/20\n",
            "2500/2500 [==============================] - 28s 11ms/step - loss: 0.1888 - accuracy: 0.9398 - val_loss: 0.4903 - val_accuracy: 0.8777\n",
            "Epoch 8/20\n",
            "2500/2500 [==============================] - 30s 12ms/step - loss: 0.1637 - accuracy: 0.9474 - val_loss: 0.5370 - val_accuracy: 0.8770\n",
            "Epoch 9/20\n",
            "2500/2500 [==============================] - 30s 12ms/step - loss: 0.1438 - accuracy: 0.9540 - val_loss: 0.6161 - val_accuracy: 0.8784\n",
            "Epoch 10/20\n",
            "2500/2500 [==============================] - 28s 11ms/step - loss: 0.1299 - accuracy: 0.9579 - val_loss: 0.5881 - val_accuracy: 0.8788\n",
            "Epoch 11/20\n",
            "2500/2500 [==============================] - 30s 12ms/step - loss: 0.1159 - accuracy: 0.9625 - val_loss: 0.6464 - val_accuracy: 0.8809\n",
            "Epoch 12/20\n",
            "2500/2500 [==============================] - 29s 12ms/step - loss: 0.1044 - accuracy: 0.9663 - val_loss: 0.6595 - val_accuracy: 0.8718\n",
            "Epoch 13/20\n",
            "2500/2500 [==============================] - 30s 12ms/step - loss: 0.0973 - accuracy: 0.9683 - val_loss: 0.7055 - val_accuracy: 0.8701\n",
            "Epoch 14/20\n",
            "2500/2500 [==============================] - 31s 12ms/step - loss: 0.0902 - accuracy: 0.9710 - val_loss: 0.7093 - val_accuracy: 0.8794\n",
            "Epoch 15/20\n",
            "2500/2500 [==============================] - 29s 12ms/step - loss: 0.0864 - accuracy: 0.9728 - val_loss: 0.7588 - val_accuracy: 0.8799\n",
            "Epoch 16/20\n",
            "2500/2500 [==============================] - 29s 12ms/step - loss: 0.0773 - accuracy: 0.9749 - val_loss: 0.7800 - val_accuracy: 0.8734\n",
            "Epoch 17/20\n",
            "2500/2500 [==============================] - 37s 15ms/step - loss: 0.0728 - accuracy: 0.9767 - val_loss: 0.8332 - val_accuracy: 0.8781\n",
            "Epoch 18/20\n",
            "2500/2500 [==============================] - 36s 15ms/step - loss: 0.0714 - accuracy: 0.9771 - val_loss: 0.8184 - val_accuracy: 0.8798\n",
            "Epoch 19/20\n",
            "2500/2500 [==============================] - 37s 15ms/step - loss: 0.0662 - accuracy: 0.9796 - val_loss: 0.8644 - val_accuracy: 0.8766\n",
            "Epoch 20/20\n",
            "2500/2500 [==============================] - 44s 17ms/step - loss: 0.0630 - accuracy: 0.9801 - val_loss: 0.9267 - val_accuracy: 0.8770\n"
          ]
        }
      ],
      "source": [
        "# train the same model as above but use the sgd optimizer if you used adam previously (or use adam if you used sgd previously)\n",
        "\n",
        "# YOUR CODE HERE\n",
        "model = Sequential()\n",
        "\n",
        "# Hidden layer 1\n",
        "model.add(Dense(500, activation='relu', input_dim=input_dim))\n",
        "# Hidden layer 2\n",
        "model.add(Dense(250, activation='relu'))\n",
        "# Hidden layer 3\n",
        "model.add(Dense(100, activation='relu'))\n",
        "# Output layer\n",
        "model.add(Dense(n_output_labels, activation='softmax')) # softmax values can be interpreted as the probability of each class given the input data\n",
        "\n",
        "model.compile(optimizer='adam',\n",
        "              loss = 'sparse_categorical_crossentropy', \n",
        "              metrics=['accuracy'])\n",
        "\n",
        "# Fit your model and save training results to adam_history \n",
        "adam_history = model.fit(X_scaled, y, \n",
        "                    epochs=epochs, \n",
        "                    # a held-out validation set will be generated within the model\n",
        "                    validation_split=0.2\n",
        "                   )\n",
        "\n",
        "\n",
        "# raise NotImplementedError()"
      ]
    },
    {
      "cell_type": "code",
      "execution_count": null,
      "metadata": {
        "colab": {
          "base_uri": "https://localhost:8080/"
        },
        "id": "0fShmFCZLB0r",
        "outputId": "e241440c-4552-49ba-9cbb-31612ac5dd9e"
      },
      "outputs": [
        {
          "name": "stdout",
          "output_type": "stream",
          "text": [
            "Model: \"sequential_8\"\n",
            "_________________________________________________________________\n",
            " Layer (type)                Output Shape              Param #   \n",
            "=================================================================\n",
            " dense_27 (Dense)            (None, 500)               392500    \n",
            "                                                                 \n",
            " dense_28 (Dense)            (None, 250)               125250    \n",
            "                                                                 \n",
            " dense_29 (Dense)            (None, 100)               25100     \n",
            "                                                                 \n",
            " dense_30 (Dense)            (None, 10)                1010      \n",
            "                                                                 \n",
            "=================================================================\n",
            "Total params: 543,860\n",
            "Trainable params: 543,860\n",
            "Non-trainable params: 0\n",
            "_________________________________________________________________\n"
          ]
        }
      ],
      "source": [
        "model.summary()"
      ]
    },
    {
      "cell_type": "code",
      "execution_count": null,
      "metadata": {
        "colab": {
          "base_uri": "https://localhost:8080/",
          "height": 676
        },
        "id": "9Ywmo9XyM4Dq",
        "outputId": "0bf6380f-277e-4e6d-a700-aacb6a286b29"
      },
      "outputs": [
        {
          "data": {
            "text/html": [
              "\n",
              "  <div id=\"df-09608412-41e6-4adf-aa08-e3bdbb1c56af\">\n",
              "    <div class=\"colab-df-container\">\n",
              "      <div>\n",
              "<style scoped>\n",
              "    .dataframe tbody tr th:only-of-type {\n",
              "        vertical-align: middle;\n",
              "    }\n",
              "\n",
              "    .dataframe tbody tr th {\n",
              "        vertical-align: top;\n",
              "    }\n",
              "\n",
              "    .dataframe thead th {\n",
              "        text-align: right;\n",
              "    }\n",
              "</style>\n",
              "<table border=\"1\" class=\"dataframe\">\n",
              "  <thead>\n",
              "    <tr style=\"text-align: right;\">\n",
              "      <th></th>\n",
              "      <th>loss</th>\n",
              "      <th>accuracy</th>\n",
              "      <th>val_loss</th>\n",
              "      <th>val_accuracy</th>\n",
              "    </tr>\n",
              "  </thead>\n",
              "  <tbody>\n",
              "    <tr>\n",
              "      <th>0</th>\n",
              "      <td>0.594564</td>\n",
              "      <td>0.817638</td>\n",
              "      <td>0.474247</td>\n",
              "      <td>0.85625</td>\n",
              "    </tr>\n",
              "    <tr>\n",
              "      <th>1</th>\n",
              "      <td>0.420957</td>\n",
              "      <td>0.872187</td>\n",
              "      <td>0.446005</td>\n",
              "      <td>0.86600</td>\n",
              "    </tr>\n",
              "    <tr>\n",
              "      <th>2</th>\n",
              "      <td>0.349789</td>\n",
              "      <td>0.893287</td>\n",
              "      <td>0.420462</td>\n",
              "      <td>0.87510</td>\n",
              "    </tr>\n",
              "    <tr>\n",
              "      <th>3</th>\n",
              "      <td>0.296834</td>\n",
              "      <td>0.907812</td>\n",
              "      <td>0.414673</td>\n",
              "      <td>0.87995</td>\n",
              "    </tr>\n",
              "    <tr>\n",
              "      <th>4</th>\n",
              "      <td>0.255129</td>\n",
              "      <td>0.920663</td>\n",
              "      <td>0.435152</td>\n",
              "      <td>0.87590</td>\n",
              "    </tr>\n",
              "    <tr>\n",
              "      <th>5</th>\n",
              "      <td>0.217373</td>\n",
              "      <td>0.931975</td>\n",
              "      <td>0.460168</td>\n",
              "      <td>0.87940</td>\n",
              "    </tr>\n",
              "    <tr>\n",
              "      <th>6</th>\n",
              "      <td>0.188798</td>\n",
              "      <td>0.939825</td>\n",
              "      <td>0.490280</td>\n",
              "      <td>0.87770</td>\n",
              "    </tr>\n",
              "    <tr>\n",
              "      <th>7</th>\n",
              "      <td>0.163677</td>\n",
              "      <td>0.947350</td>\n",
              "      <td>0.536996</td>\n",
              "      <td>0.87705</td>\n",
              "    </tr>\n",
              "    <tr>\n",
              "      <th>8</th>\n",
              "      <td>0.143804</td>\n",
              "      <td>0.953987</td>\n",
              "      <td>0.616123</td>\n",
              "      <td>0.87840</td>\n",
              "    </tr>\n",
              "    <tr>\n",
              "      <th>9</th>\n",
              "      <td>0.129925</td>\n",
              "      <td>0.957862</td>\n",
              "      <td>0.588060</td>\n",
              "      <td>0.87875</td>\n",
              "    </tr>\n",
              "    <tr>\n",
              "      <th>10</th>\n",
              "      <td>0.115860</td>\n",
              "      <td>0.962488</td>\n",
              "      <td>0.646368</td>\n",
              "      <td>0.88090</td>\n",
              "    </tr>\n",
              "    <tr>\n",
              "      <th>11</th>\n",
              "      <td>0.104417</td>\n",
              "      <td>0.966263</td>\n",
              "      <td>0.659450</td>\n",
              "      <td>0.87180</td>\n",
              "    </tr>\n",
              "    <tr>\n",
              "      <th>12</th>\n",
              "      <td>0.097349</td>\n",
              "      <td>0.968313</td>\n",
              "      <td>0.705539</td>\n",
              "      <td>0.87005</td>\n",
              "    </tr>\n",
              "    <tr>\n",
              "      <th>13</th>\n",
              "      <td>0.090242</td>\n",
              "      <td>0.970987</td>\n",
              "      <td>0.709343</td>\n",
              "      <td>0.87935</td>\n",
              "    </tr>\n",
              "    <tr>\n",
              "      <th>14</th>\n",
              "      <td>0.086405</td>\n",
              "      <td>0.972787</td>\n",
              "      <td>0.758826</td>\n",
              "      <td>0.87995</td>\n",
              "    </tr>\n",
              "    <tr>\n",
              "      <th>15</th>\n",
              "      <td>0.077262</td>\n",
              "      <td>0.974925</td>\n",
              "      <td>0.779979</td>\n",
              "      <td>0.87345</td>\n",
              "    </tr>\n",
              "    <tr>\n",
              "      <th>16</th>\n",
              "      <td>0.072807</td>\n",
              "      <td>0.976713</td>\n",
              "      <td>0.833178</td>\n",
              "      <td>0.87815</td>\n",
              "    </tr>\n",
              "    <tr>\n",
              "      <th>17</th>\n",
              "      <td>0.071434</td>\n",
              "      <td>0.977050</td>\n",
              "      <td>0.818420</td>\n",
              "      <td>0.87975</td>\n",
              "    </tr>\n",
              "    <tr>\n",
              "      <th>18</th>\n",
              "      <td>0.066210</td>\n",
              "      <td>0.979550</td>\n",
              "      <td>0.864399</td>\n",
              "      <td>0.87655</td>\n",
              "    </tr>\n",
              "    <tr>\n",
              "      <th>19</th>\n",
              "      <td>0.062959</td>\n",
              "      <td>0.980088</td>\n",
              "      <td>0.926749</td>\n",
              "      <td>0.87705</td>\n",
              "    </tr>\n",
              "  </tbody>\n",
              "</table>\n",
              "</div>\n",
              "      <button class=\"colab-df-convert\" onclick=\"convertToInteractive('df-09608412-41e6-4adf-aa08-e3bdbb1c56af')\"\n",
              "              title=\"Convert this dataframe to an interactive table.\"\n",
              "              style=\"display:none;\">\n",
              "        \n",
              "  <svg xmlns=\"http://www.w3.org/2000/svg\" height=\"24px\"viewBox=\"0 0 24 24\"\n",
              "       width=\"24px\">\n",
              "    <path d=\"M0 0h24v24H0V0z\" fill=\"none\"/>\n",
              "    <path d=\"M18.56 5.44l.94 2.06.94-2.06 2.06-.94-2.06-.94-.94-2.06-.94 2.06-2.06.94zm-11 1L8.5 8.5l.94-2.06 2.06-.94-2.06-.94L8.5 2.5l-.94 2.06-2.06.94zm10 10l.94 2.06.94-2.06 2.06-.94-2.06-.94-.94-2.06-.94 2.06-2.06.94z\"/><path d=\"M17.41 7.96l-1.37-1.37c-.4-.4-.92-.59-1.43-.59-.52 0-1.04.2-1.43.59L10.3 9.45l-7.72 7.72c-.78.78-.78 2.05 0 2.83L4 21.41c.39.39.9.59 1.41.59.51 0 1.02-.2 1.41-.59l7.78-7.78 2.81-2.81c.8-.78.8-2.07 0-2.86zM5.41 20L4 18.59l7.72-7.72 1.47 1.35L5.41 20z\"/>\n",
              "  </svg>\n",
              "      </button>\n",
              "      \n",
              "  <style>\n",
              "    .colab-df-container {\n",
              "      display:flex;\n",
              "      flex-wrap:wrap;\n",
              "      gap: 12px;\n",
              "    }\n",
              "\n",
              "    .colab-df-convert {\n",
              "      background-color: #E8F0FE;\n",
              "      border: none;\n",
              "      border-radius: 50%;\n",
              "      cursor: pointer;\n",
              "      display: none;\n",
              "      fill: #1967D2;\n",
              "      height: 32px;\n",
              "      padding: 0 0 0 0;\n",
              "      width: 32px;\n",
              "    }\n",
              "\n",
              "    .colab-df-convert:hover {\n",
              "      background-color: #E2EBFA;\n",
              "      box-shadow: 0px 1px 2px rgba(60, 64, 67, 0.3), 0px 1px 3px 1px rgba(60, 64, 67, 0.15);\n",
              "      fill: #174EA6;\n",
              "    }\n",
              "\n",
              "    [theme=dark] .colab-df-convert {\n",
              "      background-color: #3B4455;\n",
              "      fill: #D2E3FC;\n",
              "    }\n",
              "\n",
              "    [theme=dark] .colab-df-convert:hover {\n",
              "      background-color: #434B5C;\n",
              "      box-shadow: 0px 1px 3px 1px rgba(0, 0, 0, 0.15);\n",
              "      filter: drop-shadow(0px 1px 2px rgba(0, 0, 0, 0.3));\n",
              "      fill: #FFFFFF;\n",
              "    }\n",
              "  </style>\n",
              "\n",
              "      <script>\n",
              "        const buttonEl =\n",
              "          document.querySelector('#df-09608412-41e6-4adf-aa08-e3bdbb1c56af button.colab-df-convert');\n",
              "        buttonEl.style.display =\n",
              "          google.colab.kernel.accessAllowed ? 'block' : 'none';\n",
              "\n",
              "        async function convertToInteractive(key) {\n",
              "          const element = document.querySelector('#df-09608412-41e6-4adf-aa08-e3bdbb1c56af');\n",
              "          const dataTable =\n",
              "            await google.colab.kernel.invokeFunction('convertToInteractive',\n",
              "                                                     [key], {});\n",
              "          if (!dataTable) return;\n",
              "\n",
              "          const docLinkHtml = 'Like what you see? Visit the ' +\n",
              "            '<a target=\"_blank\" href=https://colab.research.google.com/notebooks/data_table.ipynb>data table notebook</a>'\n",
              "            + ' to learn more about interactive tables.';\n",
              "          element.innerHTML = '';\n",
              "          dataTable['output_type'] = 'display_data';\n",
              "          await google.colab.output.renderOutput(dataTable, element);\n",
              "          const docLink = document.createElement('div');\n",
              "          docLink.innerHTML = docLinkHtml;\n",
              "          element.appendChild(docLink);\n",
              "        }\n",
              "      </script>\n",
              "    </div>\n",
              "  </div>\n",
              "  "
            ],
            "text/plain": [
              "        loss  accuracy  val_loss  val_accuracy\n",
              "0   0.594564  0.817638  0.474247       0.85625\n",
              "1   0.420957  0.872187  0.446005       0.86600\n",
              "2   0.349789  0.893287  0.420462       0.87510\n",
              "3   0.296834  0.907812  0.414673       0.87995\n",
              "4   0.255129  0.920663  0.435152       0.87590\n",
              "5   0.217373  0.931975  0.460168       0.87940\n",
              "6   0.188798  0.939825  0.490280       0.87770\n",
              "7   0.163677  0.947350  0.536996       0.87705\n",
              "8   0.143804  0.953987  0.616123       0.87840\n",
              "9   0.129925  0.957862  0.588060       0.87875\n",
              "10  0.115860  0.962488  0.646368       0.88090\n",
              "11  0.104417  0.966263  0.659450       0.87180\n",
              "12  0.097349  0.968313  0.705539       0.87005\n",
              "13  0.090242  0.970987  0.709343       0.87935\n",
              "14  0.086405  0.972787  0.758826       0.87995\n",
              "15  0.077262  0.974925  0.779979       0.87345\n",
              "16  0.072807  0.976713  0.833178       0.87815\n",
              "17  0.071434  0.977050  0.818420       0.87975\n",
              "18  0.066210  0.979550  0.864399       0.87655\n",
              "19  0.062959  0.980088  0.926749       0.87705"
            ]
          },
          "execution_count": 111,
          "metadata": {},
          "output_type": "execute_result"
        }
      ],
      "source": [
        "# YOUR CODE HERE\n",
        "\n",
        "adam_df = pd.DataFrame(adam_history.history)\n",
        "adam_df\n",
        "\n",
        "# raise NotImplementedError()"
      ]
    },
    {
      "cell_type": "code",
      "execution_count": null,
      "metadata": {
        "colab": {
          "base_uri": "https://localhost:8080/",
          "height": 297
        },
        "id": "BfosyoZDMr0w",
        "outputId": "d351358f-0f6c-4610-aa97-349ea617a522"
      },
      "outputs": [
        {
          "data": {
            "image/png": "[encoded data removed]",
            "text/plain": [
              "<Figure size 432x288 with 2 Axes>"
            ]
          },
          "metadata": {
            "needs_background": "light"
          },
          "output_type": "display_data"
        }
      ],
      "source": [
        "# use seaborn to plot loss and accuracy metrics using Adam as the optimizer\n",
        "\n",
        "# YOUR CODE HERE\n",
        "plt.subplot(1, 2, 1)\n",
        "epoch= [i for i in range(len(adam_df['loss']))]\n",
        "sns.lineplot(x=epoch, y=adam_df['loss'], label='train')\n",
        "sns.lineplot(x=epoch, y=adam_df['val_loss'], label='validation')\n",
        "plt.title('Loss')\n",
        "plt.grid()\n",
        "\n",
        "plt.subplot(1, 2, 2)\n",
        "epoch= [i for i in range(len(adam_df['accuracy']))]\n",
        "sns.lineplot(x=epoch, y=adam_df['accuracy'], label='train')\n",
        "sns.lineplot(x=epoch, y=adam_df['val_accuracy'], label='validation')\n",
        "plt.title('Accuracy')\n",
        "plt.grid()\n",
        "\n",
        "plt.tight_layout()"
      ]
    },
    {
      "cell_type": "code",
      "execution_count": null,
      "metadata": {
        "id": "u9DQypQOLj1L"
      },
      "outputs": [],
      "source": [
        "# a check that we're using the correct optimizer in this model\n",
        "opt_name = model.optimizer.get_config()[\"name\"]\n",
        "assert opt_name == \"Adam\", \"you need to use adam for the optimizer in this model.\""
      ]
    },
    {
      "cell_type": "markdown",
      "metadata": {
        "id": "XECc5OtzLj1M"
      },
      "source": [
        "### Observations \n",
        "\n",
        "This plot should look very different from the previous plot. Based on the plot of the training and validation loss, answer the following questions. "
      ]
    },
    {
      "cell_type": "markdown",
      "metadata": {
        "id": "tK8B5CszLj1M"
      },
      "source": [
        "**Is our model overfitting? Why or why not?**"
      ]
    },
    {
      "cell_type": "markdown",
      "metadata": {
        "deletable": false,
        "id": "Fn6C8NWTLj1M",
        "nbgrader": {
          "cell_type": "markdown",
          "checksum": "fa4141497af675d227aa510feb8db732",
          "grade": true,
          "grade_id": "cell-7e524ccac970c33e",
          "locked": false,
          "points": 0,
          "schema_version": 3,
          "solution": true,
          "task": false
        }
      },
      "source": [
        "YOUR ANSWER HERE\n",
        "\n",
        "The model's training and validation accuracy both improve over time, suggesting that it is learning and generalizing well to new data. Even though the gap between the two accuracies is relatively small, we could say the model is overfitting. If we look at the data or the plot, starting from the third epoch the model appears to be overfitting to the training data, as evidenced by the plateauing of the validation accuracy while the training accuracy continues to improve. \n",
        "\n",
        "Furthermore, when we examine the loss, we see that it decreases over time in the training set, but increases significantly for the validation set. This indicates that the model may not be able to generalize well to new data."
      ]
    },
    {
      "cell_type": "markdown",
      "metadata": {
        "id": "ygXQYH8ILj1M"
      },
      "source": [
        "**Could our model's performance improve by training on more than 20 epochs? Why or why not?**"
      ]
    },
    {
      "cell_type": "markdown",
      "metadata": {
        "deletable": false,
        "id": "Sa5SRkB1Lj1M",
        "nbgrader": {
          "cell_type": "markdown",
          "checksum": "ae03b8b897eb5d052590574ab3bba839",
          "grade": true,
          "grade_id": "cell-456c40e885652955",
          "locked": false,
          "points": 0,
          "schema_version": 3,
          "solution": true,
          "task": false
        }
      },
      "source": [
        "YOUR ANSWER HERE\n",
        "\n",
        "Since the model is already overfitting, increasing the number of epochs may only exacerbate the problem and cause the validation accuracy to decrease."
      ]
    },
    {
      "cell_type": "markdown",
      "metadata": {
        "id": "bNxtLggeLj1M"
      },
      "source": [
        "**Assuming that you want to stick to this model architecture, what can you do to avoid overfitting?**"
      ]
    },
    {
      "cell_type": "markdown",
      "metadata": {
        "deletable": false,
        "id": "tfztMm3rLj1M",
        "nbgrader": {
          "cell_type": "markdown",
          "checksum": "9f5a9393314231d3ce253363c1df1223",
          "grade": true,
          "grade_id": "cell-74d7def19c66702b",
          "locked": false,
          "points": 0,
          "schema_version": 3,
          "solution": true,
          "task": false
        }
      },
      "source": [
        "YOUR ANSWER HERE\n",
        "\n",
        "To help prevent or mitigate overfitting in the model we could use the early stopping technique, which consists in monitoring the validation loss during training, and stopping training when the validation loss stops improving or starts to increase. "
      ]
    },
    {
      "cell_type": "code",
      "execution_count": null,
      "metadata": {
        "id": "5F1VQLmALj1N"
      },
      "outputs": [],
      "source": []
    }
  ],
  "metadata": {
    "colab": {
      "provenance": []
    },
    "gpuClass": "standard",
    "kernelspec": {
      "display_name": "Python 3 (ipykernel)",
      "language": "python",
      "name": "python3"
    },
    "language_info": {
      "codemirror_mode": {
        "name": "ipython",
        "version": 3
      },
      "file_extension": ".py",
      "mimetype": "text/x-python",
      "name": "python",
      "nbconvert_exporter": "python",
      "pygments_lexer": "ipython3",
      "version": "3.8.9"
    }
  },
  "nbformat": 4,
  "nbformat_minor": 0
}