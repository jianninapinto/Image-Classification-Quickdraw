{
  "nbformat": 4,
  "nbformat_minor": 0,
  "metadata": {
    "celltoolbar": "Create Assignment",
    "colab": {
      "provenance": []
    },
    "kernelspec": {
      "display_name": "py37  (Python3)",
      "language": "python",
      "name": "py37"
    },
    "language_info": {
      "codemirror_mode": {
        "name": "ipython",
        "version": 3
      },
      "file_extension": ".py",
      "mimetype": "text/x-python",
      "name": "python",
      "nbconvert_exporter": "python",
      "pygments_lexer": "ipython3",
      "version": "3.7.0"
    },
    "nteract": {
      "version": "0.22.4"
    }
  },
  "cells": [
    {
      "cell_type": "markdown",
      "metadata": {
        "id": "NGGrt9EYlCqY"
      },
      "source": [
        "\n",
        "\n",
        "# Train Practice\n",
        "\n",
        "## *Data Science Unit 4 Sprint 2 Assignment 2*\n",
        "\n",
        "Continue to use TensorFlow Keras & a sample of the [Quickdraw dataset](https://github.com/googlecreativelab/quickdraw-dataset) to build a sketch classification model. The dataset has been sampled to only 10 classes and 10000 observations per class. Please build a baseline classification model then run a few experiments with different optimizers and learning rates. \n",
        "\n",
        "*Don't forget to switch to GPU on Colab!*\n",
        "\n",
        "\n",
        "------\n",
        "\n",
        "# Objective \n",
        "\n",
        "We are going to run a few experiments today\n",
        "\n",
        "- Train a model with and without normalized data and investigate the weight values and learning outcomes\n",
        "- Train a model with varying values for batch_size, learning_rate, and optimizers\n",
        "\n",
        "We are essentially running mannual gridsearches on our models. In module 3, we'll learn a few different ways to automate gridseach for deep learning. "
      ]
    },
    {
      "cell_type": "code",
      "metadata": {
        "id": "OKaRCgExKCuy"
      },
      "source": [
        "# Import Statements\n",
        "import os\n",
        "import datetime\n",
        "import random\n",
        "\n",
        "import numpy as np\n",
        "import pandas as pd\n",
        "import matplotlib.pyplot as plt\n",
        "\n",
        "import tensorflow as tf\n",
        "from tensorflow.keras import Sequential\n",
        "from tensorflow.keras.layers import Dense, ReLU\n",
        "from sklearn.model_selection import train_test_split\n",
        "\n",
        "from tensorflow.keras.optimizers import Adam, SGD\n",
        "from tensorflow.keras.activations import relu\n",
        "from tensorflow.keras.callbacks import TensorBoard"
      ],
      "execution_count": null,
      "outputs": []
    },
    {
      "cell_type": "code",
      "metadata": {
        "id": "rUwzM8EsKCu0"
      },
      "source": [
        "%matplotlib inline\n",
        "%load_ext tensorboard"
      ],
      "execution_count": null,
      "outputs": []
    },
    {
      "cell_type": "markdown",
      "metadata": {
        "id": "mXKp4dx_KCu1"
      },
      "source": [
        "### Load data\n",
        "\n",
        "- Don't normalize your data just yet!"
      ]
    },
    {
      "cell_type": "code",
      "metadata": {
        "id": "nJsIsrvp7O3e"
      },
      "source": [
        "# Fill out the doc string\n",
        "\n",
        "def load_quickdraw10():\n",
        "    \"\"\"\n",
        "    Loads the Quickdraw-10 dataset and splits it into training and testing sets.\n",
        "\n",
        "    The Quickdraw-10 dataset consists of drawings of 10 different classes:\n",
        "    - apple\n",
        "    - anvil\n",
        "    - airplane\n",
        "    - banana\n",
        "    - The Eiffel Tower\n",
        "    - The Mona Lisa\n",
        "    - The Great Wall of China\n",
        "    - alarm clock\n",
        "    - ant\n",
        "    - asparagus\n",
        "\n",
        "    Returns\n",
        "    -------\n",
        "      A tuple of four Numpy arrays: (X_train, X_test, y_train, y_test)\n",
        "\n",
        "      X_train : A 2D Numpy array of shape (num_train_samples, num_features) representing the\n",
        "             training data, where each row corresponds to a drawing and each column\n",
        "             corresponds to a feature.\n",
        "\n",
        "      X_test: A 2D Numpy array of shape (num_test_samples, num_features) representing the\n",
        "            testing data, where each row corresponds to a drawing and each column\n",
        "            corresponds to a feature.\n",
        "            \n",
        "      y_train: A 1D Numpy array of shape (num_train_samples,) representing the labels\n",
        "             of the training data.\n",
        "             \n",
        "      y_test: A 1D Numpy array of shape (num_test_samples,) representing the labels\n",
        "            of the testing data.\n",
        "    \"\"\"\n",
        "    \n",
        "    URL_ = \"https://github.com/LambdaSchool/DS-Unit-4-Sprint-2-Neural-Networks/blob/main/quickdraw10.npz?raw=true\"\n",
        "    \n",
        "    path_to_zip = tf.keras.utils.get_file('./quickdraw10.npz', origin=URL_, extract=False)\n",
        "\n",
        "    data = np.load(path_to_zip)\n",
        "\n",
        "    X = data['arr_0']\n",
        "    Y = data['arr_1']\n",
        "        \n",
        "    return train_test_split(X, Y, shuffle=True)"
      ],
      "execution_count": null,
      "outputs": []
    },
    {
      "cell_type": "code",
      "metadata": {
        "id": "e_a-FSTuKCu3",
        "colab": {
          "base_uri": "https://localhost:8080/"
        },
        "outputId": "a1cbbdec-c8df-47ab-b675-8e6aa36f3743"
      },
      "source": [
        "X_train, X_test, y_train, y_test = load_quickdraw10()"
      ],
      "execution_count": null,
      "outputs": [
        {
          "output_type": "stream",
          "name": "stdout",
          "text": [
            "Downloading data from https://github.com/LambdaSchool/DS-Unit-4-Sprint-2-Neural-Networks/blob/main/quickdraw10.npz?raw=true\n",
            "25421363/25421363 [==============================] - 1s 0us/step\n"
          ]
        }
      ]
    },
    {
      "cell_type": "code",
      "metadata": {
        "id": "RETUyom_KCu3"
      },
      "source": [
        "n_labels = len(np.unique(y_train))"
      ],
      "execution_count": null,
      "outputs": []
    },
    {
      "cell_type": "code",
      "source": [
        "(np.unique(y_train))"
      ],
      "metadata": {
        "colab": {
          "base_uri": "https://localhost:8080/"
        },
        "id": "WGWVPhbEweY0",
        "outputId": "4982642b-5856-4d0f-8e94-cd6fa3e12d10"
      },
      "execution_count": null,
      "outputs": [
        {
          "output_type": "execute_result",
          "data": {
            "text/plain": [
              "array([0, 1, 2, 3, 4, 5, 6, 7, 8, 9])"
            ]
          },
          "metadata": {},
          "execution_count": 6
        }
      ]
    },
    {
      "cell_type": "markdown",
      "metadata": {
        "id": "l-6PxI6H5__2"
      },
      "source": [
        "----\n",
        "### Write a Model Function\n",
        "- Write a function called `create_model` which returns a compiled TensorFlow Keras Sequential Model suitable for classifying the QuickDraw-10 dataset. \n",
        "\n",
        "Your function `create_model` should accept the following parameters\n",
        "\n",
        "- Learning Rate `lr`\n",
        "- Optimizer `opt`\n",
        "\n",
        "\n",
        "Build a model with the following architecture and parameter values\n",
        "\n",
        "- Use `1 hidden layer` \n",
        "- Use `sigmoid` activation function in hidden layer\n",
        "- Use `250 nodes` in hidden layer \n",
        "- Use `10 nodes` in output layer\n",
        "- Use `softmax` activation function in output layer\n",
        "- Use `sparse_categorical_crossentropy` loss function\n",
        "- Use `accuracy` as your metric \n",
        "\n",
        "We will use this function to build all the models that we'll need to run our experiments. "
      ]
    },
    {
      "cell_type": "code",
      "metadata": {
        "id": "nEREYT-3wI1f",
        "nbgrader": {
          "grade": false,
          "grade_id": "cell-355125ca910bfedb",
          "locked": false,
          "schema_version": 3,
          "solution": true,
          "task": false
        }
      },
      "source": [
        "def create_model(lr=.01, opt=\"adam\"):\n",
        "    \"\"\"\n",
        "    \n",
        "    Build and returns a compiled Keras model with the following architecture:\n",
        "    \n",
        "    - Two fully connected layers with 250 and 10 neurons, respectively.\n",
        "    - Sigmoid activation function for the first layer and softmax for the second.  \n",
        "    \n",
        "    Parameters\n",
        "    ----------\n",
        "    lr: float\n",
        "        Learning rate parameter used for Stochastic Gradient Descent \n",
        "        \n",
        "    opt: string\n",
        "        Name of optimizer to use\n",
        "        Valid options are \"adam\" and \"sgd\"\n",
        "        \n",
        "    Returns\n",
        "    -------\n",
        "    model: keras object \n",
        "        A compiled keras model \n",
        "    \"\"\"\n",
        "\n",
        "    if opt == \"adam\":\n",
        "        opt = Adam(learning_rate=lr)\n",
        "    elif opt == \"sgd\":\n",
        "        opt = SGD(learning_rate=lr)\n",
        "    else:\n",
        "        print (\"{} is not a valid option. Defaulting to Adam optimizer\".format(opt))\n",
        "        opt = Adam(learning_rate=lr)\n",
        "\n",
        "### BEGIN SOLUTION\n",
        "    # build model here\n",
        "    model = Sequential([\n",
        "        # Hidden layer 1\n",
        "        Dense(250, activation='sigmoid', input_dim=X_train.shape[1]),\n",
        "        # Output layer\n",
        "        Dense(10, activation='softmax')\n",
        "        ])\n",
        "    \n",
        "    model.compile(optimizer=opt,\n",
        "                  loss='sparse_categorical_crossentropy',\n",
        "                  metrics=['accuracy'])\n",
        "    return model\n",
        "### END SOLUTION "
      ],
      "execution_count": null,
      "outputs": []
    },
    {
      "cell_type": "code",
      "source": [
        "# check model architecture\n",
        "model = create_model()\n",
        "model.get_config()"
      ],
      "metadata": {
        "colab": {
          "base_uri": "https://localhost:8080/"
        },
        "id": "-L1UATJ80rFw",
        "outputId": "a43636b2-fcdb-46d2-a0a7-a746b12ef63e"
      },
      "execution_count": null,
      "outputs": [
        {
          "output_type": "execute_result",
          "data": {
            "text/plain": [
              "{'name': 'sequential',\n",
              " 'layers': [{'class_name': 'InputLayer',\n",
              "   'config': {'batch_input_shape': (None, 784),\n",
              "    'dtype': 'float32',\n",
              "    'sparse': False,\n",
              "    'ragged': False,\n",
              "    'name': 'dense_input'}},\n",
              "  {'class_name': 'Dense',\n",
              "   'config': {'name': 'dense',\n",
              "    'trainable': True,\n",
              "    'dtype': 'float32',\n",
              "    'batch_input_shape': (None, 784),\n",
              "    'units': 250,\n",
              "    'activation': 'sigmoid',\n",
              "    'use_bias': True,\n",
              "    'kernel_initializer': {'class_name': 'GlorotUniform',\n",
              "     'config': {'seed': None}},\n",
              "    'bias_initializer': {'class_name': 'Zeros', 'config': {}},\n",
              "    'kernel_regularizer': None,\n",
              "    'bias_regularizer': None,\n",
              "    'activity_regularizer': None,\n",
              "    'kernel_constraint': None,\n",
              "    'bias_constraint': None}},\n",
              "  {'class_name': 'Dense',\n",
              "   'config': {'name': 'dense_1',\n",
              "    'trainable': True,\n",
              "    'dtype': 'float32',\n",
              "    'units': 10,\n",
              "    'activation': 'softmax',\n",
              "    'use_bias': True,\n",
              "    'kernel_initializer': {'class_name': 'GlorotUniform',\n",
              "     'config': {'seed': None}},\n",
              "    'bias_initializer': {'class_name': 'Zeros', 'config': {}},\n",
              "    'kernel_regularizer': None,\n",
              "    'bias_regularizer': None,\n",
              "    'activity_regularizer': None,\n",
              "    'kernel_constraint': None,\n",
              "    'bias_constraint': None}}]}"
            ]
          },
          "metadata": {},
          "execution_count": 8
        }
      ]
    },
    {
      "cell_type": "code",
      "metadata": {
        "id": "Se3fcaQgKCu5"
      },
      "source": [
        "# check the number of layers\n",
        "n_layers = len(model.get_config()[\"layers\"])\n",
        "\n",
        "# check the activation function of the last layer\n",
        "output_act_funct =  model.get_config()[\"layers\"][-1][\"config\"][\"activation\"]\n",
        "\n",
        "# test for expected output\n",
        "assert n_layers == 3, \"You should have an input, one hidden, and an output layer\"\n",
        "assert output_act_funct == \"softmax\", \"Output activation function should be softmax\""
      ],
      "execution_count": null,
      "outputs": []
    },
    {
      "cell_type": "markdown",
      "metadata": {
        "id": "bnupNP7qKCu6"
      },
      "source": [
        "------\n",
        "\n",
        "# Experiment #1: How does normalized input data affect our model's learning outcome?\n",
        "\n",
        "In this experiment we are going to answer the above question by training a model on both a normalized data set and on a non-normalized data set. \n",
        "\n",
        "Then we will compare and analyze the trained weight values for the two cases."
      ]
    },
    {
      "cell_type": "code",
      "metadata": {
        "id": "upvoyAN6KCu7"
      },
      "source": [
        "# Clear any logs from previous runs\n",
        "!rm -rf ./logs/"
      ],
      "execution_count": null,
      "outputs": []
    },
    {
      "cell_type": "markdown",
      "metadata": {
        "id": "yBccdSQ-KCu7"
      },
      "source": [
        "### Fit Model on Non-Normalized data"
      ]
    },
    {
      "cell_type": "code",
      "metadata": {
        "id": "109DmKCLKCu7",
        "colab": {
          "base_uri": "https://localhost:8080/"
        },
        "outputId": "76964a80-b38b-4673-b522-6df39c861181"
      },
      "source": [
        "%%time\n",
        "# Fit model on non-normalized data using keras API with tensorflow backend\n",
        "\n",
        "# Define the directory where the logs for the TensorBoard callback will be stored\n",
        "now = datetime.datetime.now().strftime(\"%Y%m%d-%H%M%S\") # generates a unique log directory name for each experiment run\n",
        "logdir = os.path.join(\"logs\", f\"No_Normalization-{now}\")\n",
        "# Create the TensorBoard callback object\n",
        "tensorboard = TensorBoard(log_dir=logdir,  histogram_freq=1) # histograms will be computed at every epoch\n",
        "# Create the architecture of the neural network model \n",
        "model = create_model(lr=.001, opt=\"adam\") \n",
        "# Train the model using the non-normalized training data and validation data\n",
        "model.fit(X_train, y_train,\n",
        "          validation_data=(X_test, y_test),\n",
        "          workers=-2, # keras will use all available CPUs except for one that will be for the operating system\n",
        "          epochs=10, \n",
        "          batch_size=32, \n",
        "          verbose=1, \n",
        "          callbacks=[tensorboard]) # logs metrics like loss and accuracy during training"
      ],
      "execution_count": null,
      "outputs": [
        {
          "output_type": "stream",
          "name": "stdout",
          "text": [
            "Epoch 1/10\n",
            "2344/2344 [==============================] - 36s 14ms/step - loss: 0.9538 - accuracy: 0.7032 - val_loss: 0.8562 - val_accuracy: 0.7416\n",
            "Epoch 2/10\n",
            "2344/2344 [==============================] - 15s 7ms/step - loss: 0.8188 - accuracy: 0.7446 - val_loss: 0.7888 - val_accuracy: 0.7610\n",
            "Epoch 3/10\n",
            "2344/2344 [==============================] - 17s 7ms/step - loss: 0.7671 - accuracy: 0.7608 - val_loss: 0.7682 - val_accuracy: 0.7553\n",
            "Epoch 4/10\n",
            "2344/2344 [==============================] - 18s 8ms/step - loss: 0.7458 - accuracy: 0.7685 - val_loss: 0.7603 - val_accuracy: 0.7696\n",
            "Epoch 5/10\n",
            "2344/2344 [==============================] - 20s 8ms/step - loss: 0.7397 - accuracy: 0.7692 - val_loss: 0.7502 - val_accuracy: 0.7706\n",
            "Epoch 6/10\n",
            "2344/2344 [==============================] - 16s 7ms/step - loss: 0.7271 - accuracy: 0.7737 - val_loss: 0.7192 - val_accuracy: 0.7790\n",
            "Epoch 7/10\n",
            "2344/2344 [==============================] - 16s 7ms/step - loss: 0.7092 - accuracy: 0.7802 - val_loss: 0.7270 - val_accuracy: 0.7790\n",
            "Epoch 8/10\n",
            "2344/2344 [==============================] - 18s 8ms/step - loss: 0.7084 - accuracy: 0.7809 - val_loss: 0.7403 - val_accuracy: 0.7730\n",
            "Epoch 9/10\n",
            "2344/2344 [==============================] - 16s 7ms/step - loss: 0.6947 - accuracy: 0.7844 - val_loss: 0.6984 - val_accuracy: 0.7896\n",
            "Epoch 10/10\n",
            "2344/2344 [==============================] - 16s 7ms/step - loss: 0.6806 - accuracy: 0.7889 - val_loss: 0.6948 - val_accuracy: 0.7842\n",
            "CPU times: user 3min 7s, sys: 12.2 s, total: 3min 19s\n",
            "Wall time: 3min 25s\n"
          ]
        },
        {
          "output_type": "execute_result",
          "data": {
            "text/plain": [
              "<keras.callbacks.History at 0x7f36ba01e310>"
            ]
          },
          "metadata": {},
          "execution_count": 11
        }
      ]
    },
    {
      "cell_type": "markdown",
      "metadata": {
        "id": "5mayGmaPKCu8"
      },
      "source": [
        "---------\n",
        "\n",
        "### Fit Model on Normalized data"
      ]
    },
    {
      "cell_type": "code",
      "metadata": {
        "nbgrader": {
          "grade": false,
          "grade_id": "cell-2792e5f1fbf02c67",
          "locked": false,
          "schema_version": 3,
          "solution": true,
          "task": false
        },
        "id": "nMaI9a0IKCu9"
      },
      "source": [
        "# Normalize your training and test sets \n",
        "# save normalized data to variables X_train_scaled and X_test_scaled\n",
        "\n",
        "###BEGIN SOLUTION\n",
        "\n",
        "# Calculate max_value for both the training and test sets separately\n",
        "max_value_train = X_train.max()\n",
        "max_value_test = X_test.max()\n",
        "\n",
        "# Normalize data to values between 0 and 1\n",
        "X_train_scaled = X_train / max_value_train\n",
        "X_test_scaled = X_test / max_value_test\n",
        "\n",
        "###END SOLUTION"
      ],
      "execution_count": null,
      "outputs": []
    },
    {
      "cell_type": "code",
      "metadata": {
        "id": "blTsx1SVKCu9",
        "colab": {
          "base_uri": "https://localhost:8080/"
        },
        "outputId": "4e9060ee-6c80-4888-9332-d83c4772fd92"
      },
      "source": [
        "%%time\n",
        "# Train model on normalized data\n",
        "\n",
        "# Define the directory where the logs for the TensorBoard callback will be stored\n",
        "now = datetime.datetime.now().strftime(\"%Y%m%d-%H%M%S\")\n",
        "logdir = os.path.join(\"logs\", f\"Normalization-{now}\")\n",
        "# Create the TensorBoard callback object\n",
        "tensorboard = TensorBoard(log_dir=logdir,  histogram_freq=1)\n",
        "# Create the architecture of the neural network model \n",
        "norm_model = create_model(lr=0.001, opt=\"adam\")\n",
        "# Train the model using the normalized training data and validation data\n",
        "norm_model.fit(X_train_scaled, y_train, \n",
        "          validation_data=(X_test_scaled, y_test),\n",
        "          workers=-2, \n",
        "          epochs=10, \n",
        "          batch_size=32, \n",
        "          verbose=1, \n",
        "          callbacks=[tensorboard])"
      ],
      "execution_count": null,
      "outputs": [
        {
          "output_type": "stream",
          "name": "stdout",
          "text": [
            "Epoch 1/10\n",
            "2344/2344 [==============================] - 16s 6ms/step - loss: 0.7745 - accuracy: 0.7704 - val_loss: 0.6252 - val_accuracy: 0.8158\n",
            "Epoch 2/10\n",
            "2344/2344 [==============================] - 17s 7ms/step - loss: 0.5550 - accuracy: 0.8351 - val_loss: 0.5327 - val_accuracy: 0.8443\n",
            "Epoch 3/10\n",
            "2344/2344 [==============================] - 17s 7ms/step - loss: 0.4707 - accuracy: 0.8602 - val_loss: 0.4828 - val_accuracy: 0.8554\n",
            "Epoch 4/10\n",
            "2344/2344 [==============================] - 17s 7ms/step - loss: 0.4151 - accuracy: 0.8771 - val_loss: 0.4593 - val_accuracy: 0.8636\n",
            "Epoch 5/10\n",
            "2344/2344 [==============================] - 17s 7ms/step - loss: 0.3718 - accuracy: 0.8891 - val_loss: 0.4470 - val_accuracy: 0.8699\n",
            "Epoch 6/10\n",
            "2344/2344 [==============================] - 15s 6ms/step - loss: 0.3377 - accuracy: 0.8999 - val_loss: 0.4350 - val_accuracy: 0.8724\n",
            "Epoch 7/10\n",
            "2344/2344 [==============================] - 16s 7ms/step - loss: 0.3075 - accuracy: 0.9086 - val_loss: 0.4276 - val_accuracy: 0.8735\n",
            "Epoch 8/10\n",
            "2344/2344 [==============================] - 17s 7ms/step - loss: 0.2799 - accuracy: 0.9173 - val_loss: 0.4287 - val_accuracy: 0.8752\n",
            "Epoch 9/10\n",
            "2344/2344 [==============================] - 17s 7ms/step - loss: 0.2551 - accuracy: 0.9252 - val_loss: 0.4334 - val_accuracy: 0.8752\n",
            "Epoch 10/10\n",
            "2344/2344 [==============================] - 19s 8ms/step - loss: 0.2322 - accuracy: 0.9325 - val_loss: 0.4365 - val_accuracy: 0.8742\n",
            "CPU times: user 3min 7s, sys: 12.3 s, total: 3min 19s\n",
            "Wall time: 2min 49s\n"
          ]
        },
        {
          "output_type": "execute_result",
          "data": {
            "text/plain": [
              "<keras.callbacks.History at 0x7f36a1989490>"
            ]
          },
          "metadata": {},
          "execution_count": 13
        }
      ]
    },
    {
      "cell_type": "markdown",
      "metadata": {
        "id": "WSqziDWiKCu-"
      },
      "source": [
        "### Each layer is labeled\n",
        "\n",
        "Take note of the label for each layer in the network. It is these labels that will help you identify the corresponding bias and weight distributions on tensorboard. \n",
        "\n",
        "Assuming that you've run `create_model` 3 times: once for the model check, once to create `model`, and once to create `norm_model`:\n",
        "\n",
        "The name of the layers for `model` should be \n",
        "- dense_2\n",
        "- dense_3\n",
        "\n",
        "The name of the layers for `norm_model` should be \n",
        "- dense_4\n",
        "- dense_5\n",
        "\n",
        "\n",
        "If you keep retraining one or both of these models, tensorflow will increment the integer used in the layer names.  But that doesn't really matter, just take notice of the layer names so you can find their corresponding bias and weight distribtuions in tensorboard.\n",
        "\n",
        "**Pro Tip:** If you want to reset the integer incrementation that tensorflow uses, you'll need to restart your notebook's kernel. "
      ]
    },
    {
      "cell_type": "code",
      "source": [
        "model.summary()"
      ],
      "metadata": {
        "colab": {
          "base_uri": "https://localhost:8080/"
        },
        "id": "dazQa17W8umx",
        "outputId": "e6986460-e77c-497c-d0bd-a4fce85ab111"
      },
      "execution_count": null,
      "outputs": [
        {
          "output_type": "stream",
          "name": "stdout",
          "text": [
            "Model: \"sequential_1\"\n",
            "_________________________________________________________________\n",
            " Layer (type)                Output Shape              Param #   \n",
            "=================================================================\n",
            " dense_2 (Dense)             (None, 250)               196250    \n",
            "                                                                 \n",
            " dense_3 (Dense)             (None, 10)                2510      \n",
            "                                                                 \n",
            "=================================================================\n",
            "Total params: 198,760\n",
            "Trainable params: 198,760\n",
            "Non-trainable params: 0\n",
            "_________________________________________________________________\n"
          ]
        }
      ]
    },
    {
      "cell_type": "code",
      "source": [
        "norm_model.summary()"
      ],
      "metadata": {
        "colab": {
          "base_uri": "https://localhost:8080/"
        },
        "id": "Qf5JYv_g830W",
        "outputId": "6b01b5ab-a56a-480c-f579-36c016a1509c"
      },
      "execution_count": null,
      "outputs": [
        {
          "output_type": "stream",
          "name": "stdout",
          "text": [
            "Model: \"sequential_2\"\n",
            "_________________________________________________________________\n",
            " Layer (type)                Output Shape              Param #   \n",
            "=================================================================\n",
            " dense_4 (Dense)             (None, 250)               196250    \n",
            "                                                                 \n",
            " dense_5 (Dense)             (None, 10)                2510      \n",
            "                                                                 \n",
            "=================================================================\n",
            "Total params: 198,760\n",
            "Trainable params: 198,760\n",
            "Non-trainable params: 0\n",
            "_________________________________________________________________\n"
          ]
        }
      ]
    },
    {
      "cell_type": "markdown",
      "metadata": {
        "id": "kCt6xMIog0Pk"
      },
      "source": [
        "### How to calculate the number of parameters in a neural network layer\n",
        "Let's verify that the `dense_2` layer has 196250 parameters.<br>\n",
        "The `dense_2` layer has $250$ neurons (also called units or nodes).<br>\n",
        "Each neuron has a weights vector and a scalar bias.<br><br>\n",
        "**Question:** How many weights does each neuron have?<br><br>\n",
        "**Answer:** The number of a neuron's weights is equal to its number of inputs. <br>\n",
        "The input to each neuron in this layer is a $28\\times 28$ image, <br>composed of $784~(=~28^2)$ pixel values. <br>\n",
        "Each neuron has $784$ inputs, and therefore $784$ weights.<br><br>\n",
        "So the total number of parameters in the `dense_2` layer is<br><br>\n",
        "$N_{dense\\_2} = 250~~\\text{neurons} \\times (784~\\text{weights per neuron} + 1 ~ \\text{bias per neuron}) = 196250$"
      ]
    },
    {
      "cell_type": "code",
      "metadata": {
        "colab": {
          "base_uri": "https://localhost:8080/"
        },
        "id": "Qow3iN0NWf-t",
        "outputId": "fa5a6261-de8a-4b52-b898-7da16186e47d"
      },
      "source": [
        "# neurons * (weights per neuron + bias per neuron)\n",
        "250 * (784 + 1)"
      ],
      "execution_count": null,
      "outputs": [
        {
          "output_type": "execute_result",
          "data": {
            "text/plain": [
              "196250"
            ]
          },
          "metadata": {},
          "execution_count": 16
        }
      ]
    },
    {
      "cell_type": "markdown",
      "metadata": {
        "id": "lytQz0ZnpSVJ"
      },
      "source": [
        "### Now your turn: can you verify that the number of parameters in the `dense_3` layer is $2510$?"
      ]
    },
    {
      "cell_type": "markdown",
      "metadata": {
        "id": "Bd71Zn9D4Bsp"
      },
      "source": [
        "### Your Explanation Here\n",
        "\n",
        "To calculate the number of parameters in the `dense_3` layer, we add up the number of weights and biases. The input weights are determined by the output dimension of the previous layer, which is 250, and the number of neurons in the current layer, which is 10. The bias term is just 1 for each neuron. Therefore, the total number of parameters in the dense_3 layer is given by the formula (250 + 1) x 10, which equals 2510.\n",
        "\n",
        "$N_{dense\\_3} = (250\\ neurons \\ input \\ from \\ previous \\ output \\ layer + 1\\ bias \\ per \\ neuron)\\ x\\ (10\\ neurons) = 2510$\n"
      ]
    },
    {
      "cell_type": "code",
      "source": [
        "# (output_dim of previous layer + 1 bias) * output_dim of layer \n",
        "(250 + 1) * 10"
      ],
      "metadata": {
        "colab": {
          "base_uri": "https://localhost:8080/"
        },
        "id": "gOu2AYfZ-aq_",
        "outputId": "96147abc-4b82-4e3f-be01-845c2071100c"
      },
      "execution_count": null,
      "outputs": [
        {
          "output_type": "execute_result",
          "data": {
            "text/plain": [
              "2510"
            ]
          },
          "metadata": {},
          "execution_count": 17
        }
      ]
    },
    {
      "cell_type": "markdown",
      "metadata": {
        "id": "DRvgR5r7KCvA"
      },
      "source": [
        "### Tensorboard \n",
        "\n",
        "- Run the cell below to launch tensorboard \n",
        "- Click on the `SCALARS` tab to see plots that compare the loss and accuracy between the two models\n",
        "- Cick on the `HISTOGRAMS` tab to see the distribution of the learned weights "
      ]
    },
    {
      "cell_type": "code",
      "source": [
        "%tensorboard --logdir logs"
      ],
      "metadata": {
        "id": "EyyRbaiCDywJ"
      },
      "execution_count": null,
      "outputs": []
    },
    {
      "cell_type": "markdown",
      "metadata": {
        "id": "-1IvsxUrKCvA"
      },
      "source": [
        "### Tensorboard \n",
        "\n",
        "Check out the loss and accuracy plots on the `SCALARS` tab. \n",
        "\n",
        "What you should see is that the accuracy is much higher for the model that was given normalized data; conversely, the loss is much lower for the model that was given normalized data. \n",
        "\n",
        "Recall that during training, the model is adjusting the value of the bias and weights in each layer. For simplicity of analysis, we only trained two layers: a hidden layer and the output layer. \n",
        "\n",
        "Now click on the `HISTOGRAM` tab. \n",
        "\n",
        "You should see both of your model's layer names. \n",
        "\n",
        "### Hidden Layer Distributions\n",
        "\n",
        "Collapse the charts that correspond to the output layer so only the distributions for the weights and bias in the hidden layer are showing. (i.e. Only expand `dense_2` and `dense_4`). \n",
        "\n",
        "Also don't be confused by the word `kernel`, that's just the word that Tensorflow uses instead of weights. So, to be clear, **the kernel distributions are the weight values.** \n",
        "\n",
        "The `bias` distributions are the bias values. \n",
        "\n",
        "You should see 10 distributions stacked next to each other, **one distribution per epoch.**\n",
        "\n",
        "The distribution at the far back corresponds to the weight values at epoch 1 (tensorflow starts the count at 0, like the index for a list). The distribution at the very front corresponds to the weight values at the 10th epoch (tensorflow indexing shows 9 instead of 10).\n",
        "\n",
        "Notice how the shape of the distribution changes accross epochs? That's because their **values are being updated via Gradient Descent.**!\n",
        "\n",
        "The distributions that you see are direclty responsible for the validation accuracy of our models. The reason why they look different between the two models is because one model was given normalized data and one wasn't. So you can conclude that the weight distributions in `dense_4` produce a higher validation accuracy than the weight distributions in `dense_2`. \n",
        "\n",
        "Now it's time to analyze those weight values more closely. "
      ]
    },
    {
      "cell_type": "markdown",
      "metadata": {
        "id": "NllljtrTKCvB"
      },
      "source": [
        "----------\n",
        "### Analyze Weights in Each Layer"
      ]
    },
    {
      "cell_type": "code",
      "metadata": {
        "id": "J0rwoPTnKCvB"
      },
      "source": [
        "# get the final bias and weight matrices for model\n",
        "layer = model.get_layer(name=\"dense_2\")\n",
        "bias, weights = layer.get_weights()"
      ],
      "execution_count": null,
      "outputs": []
    },
    {
      "cell_type": "code",
      "metadata": {
        "id": "vU_TieroKCvC"
      },
      "source": [
        "# get the final  value bias and weight matrices for norm_model\n",
        "layer = norm_model.get_layer(name=\"dense_4\")\n",
        "bias_norm, weights_norm = layer.get_weights()"
      ],
      "execution_count": null,
      "outputs": []
    },
    {
      "cell_type": "code",
      "metadata": {
        "id": "v221BWniKCvC"
      },
      "source": [
        "# this line of code should not throw an error if the number of weights is the same for the hidden layer of both models\n",
        "# this line of code is known as a Unit Test \n",
        "assert weights.shape[0] == weights_norm.shape[0]"
      ],
      "execution_count": null,
      "outputs": []
    },
    {
      "cell_type": "markdown",
      "metadata": {
        "id": "XLXYu_skKCvC"
      },
      "source": [
        "### Initial Weight Values\n",
        "\n",
        "By default, Keras dense layers randomly initialize the weight values using [**GlorotUniform**](https://keras.io/api/layers/initializers/). \n",
        "\n",
        "The cell below is sampling values from the `GlorotUniform` distribution. Let's sample from the `GlorotUniform` distribution and plot it in order to get a sense of the initial distribution of our weights - before Gradient Descent starts updating their values at training time. "
      ]
    },
    {
      "cell_type": "code",
      "metadata": {
        "id": "zqxqmcEQKCvC"
      },
      "source": [
        "# let's take 250 random samples from GlorotUniform\n",
        "# because they are random samples their exact values might have been a little different for model and norm_model - but we will assume that they were not statistically different \n",
        "# 250 because that's how many weights are in the hidden layer for both of our models\n",
        "initializer = tf.keras.initializers.GlorotUniform(seed=42)\n",
        "initial_weight_values = initializer(shape=(1, 250))"
      ],
      "execution_count": null,
      "outputs": []
    },
    {
      "cell_type": "code",
      "source": [
        "plt.figure(figsize=(20,6))\n",
        "plt.title(\"Learned Weights in Hidden Layers\", fontsize=14)\n",
        "plt.xlabel(\"Weight Values\", fontsize=14)\n",
        "plt.grid()\n",
        "\n",
        "# By setting density=True, we are transforming our plots into probability distributions \n",
        "plt.hist(weights, bins=20, alpha=0.5, label=\"weights from model\", density=True);\n",
        "plt.hist(weights_norm, bins=20, alpha=0.5, label=\"weights from norm_model\", density=True);\n",
        "plt.hist(initial_weight_values, bins=20, alpha=0.5, label=\"Glorot Uniform initial weight values\", density=True);\n",
        "plt.legend(fontsize=\"x-large\");"
      ],
      "metadata": {
        "colab": {
          "base_uri": "https://localhost:8080/",
          "height": 409
        },
        "id": "YUjkIkGuHnRL",
        "outputId": "e7865714-523c-4eed-c594-39eef2cde8e2"
      },
      "execution_count": null,
      "outputs": [
        {
          "output_type": "display_data",
          "data": {
            "text/plain": [
              "<Figure size 1440x432 with 1 Axes>"
            ],
            "image/png": "[encoded data removed]"
          },
          "metadata": {
            "needs_background": "light"
          }
        }
      ]
    },
    {
      "cell_type": "markdown",
      "metadata": {
        "id": "tj8vd8TgKCvD"
      },
      "source": [
        "### Observations\n",
        "\n",
        "Your plot should have 3 distributions\n",
        "\n",
        "- weights from model trained on non-normalized data\n",
        "- weights from model trained on normalized data\n",
        "- initial weight values sampled from a Glorot Uniform distributions \n",
        "\n",
        "Use the plot to answer the following questions."
      ]
    },
    {
      "cell_type": "markdown",
      "metadata": {
        "id": "r0O95iHvKCvD"
      },
      "source": [
        "**Comparing the initial weights with weights_from_model, what was the effect of not using normalized data?**"
      ]
    },
    {
      "cell_type": "markdown",
      "source": [
        "YOUR ANSWER:\n",
        "\n",
        "These two distributions have different ranges. In the distribution of weights from the non-normalized model (blue distribution) the input values to the model may have different magnitudes, leading to gradient updates that are too large or too small. The blue distribution has a wider range and longer tail to the right compared to the distribution of initial weights (green distribution). This suggests that some of the weights have become much larger in magnitude during training, which may cause instability or poor generalization performance.\n",
        "\n",
        "Therefore, one potential effect of not using normalized data is that the weight values tend to becoming unbalanced and unstable during training."
      ],
      "metadata": {
        "id": "ztARpEmUJhYv"
      }
    },
    {
      "cell_type": "markdown",
      "metadata": {
        "id": "vPBN8OE0KCvD"
      },
      "source": [
        "**Comparing the initial weights with weights_from_norm_model, what was the effect of using normalized data?**"
      ]
    },
    {
      "cell_type": "markdown",
      "source": [
        "YOUR ANSWER:\n",
        "\n",
        "From the plot, we can see that the Glorot Uniform initial weight values (green distribution) have a narrower range and smaller standard deviation compared to the orange distribution which represents the normalized data. The weights in the normalized model are spread out across a wider range, resembling a Gaussian distribution. \n"
      ],
      "metadata": {
        "id": "ardThrpAKwMM"
      }
    },
    {
      "cell_type": "markdown",
      "metadata": {
        "id": "NHCIHDxyKCvF"
      },
      "source": [
        "----\n",
        "\n",
        "# Additional Experiments\n",
        "\n",
        "The previous experiment demonstrated the importance of normalizing our data in order to maximize model accuracy. In the next few experiments, we are going to explore the effects of varying Batch Size, Learning Rate, choice of Optimizer on model accuracy. \n",
        "\n",
        "Using our `create_model` model building function, conduct the following experiments. "
      ]
    },
    {
      "cell_type": "markdown",
      "metadata": {
        "id": "f0pCkh8C7eGL"
      },
      "source": [
        "### Experiment with Batch Size\n",
        "* Run 5 experiments with various batch sizes of your choice. \n",
        "* Visualize the results\n",
        "* Write up an analysis of the experiments and select the \"best\" performing model among your experiments. Make sure to compare against your model's performance yesterday. "
      ]
    },
    {
      "cell_type": "code",
      "metadata": {
        "id": "USXjs7Hk71Hy",
        "colab": {
          "base_uri": "https://localhost:8080/"
        },
        "outputId": "fad3a13a-fdc9-4997-f236-8a46f09e70e8"
      },
      "source": [
        "%%time\n",
        "# Batch size = 8 (small)\n",
        "# tf.keras.backend.clear_session()\n",
        "# Instantiate a model and fit it with batch size of 8\n",
        "norm_model = create_model()\n",
        "bt_small_8 = norm_model.fit(X_train_scaled, y_train, \n",
        "                  validation_data=(X_test_scaled, y_test),\n",
        "                  workers=-2, \n",
        "                  epochs=10, \n",
        "                  batch_size=8, \n",
        "                  verbose=1, \n",
        "                  callbacks=[tensorboard])\n"
      ],
      "execution_count": null,
      "outputs": [
        {
          "output_type": "stream",
          "name": "stdout",
          "text": [
            "Epoch 1/10\n",
            "9375/9375 [==============================] - 49s 5ms/step - loss: 0.7635 - accuracy: 0.7688 - val_loss: 0.7091 - val_accuracy: 0.7905\n",
            "Epoch 2/10\n",
            "9375/9375 [==============================] - 52s 6ms/step - loss: 0.6652 - accuracy: 0.8029 - val_loss: 0.6663 - val_accuracy: 0.8054\n",
            "Epoch 3/10\n",
            "9375/9375 [==============================] - 55s 6ms/step - loss: 0.6289 - accuracy: 0.8149 - val_loss: 0.6613 - val_accuracy: 0.8130\n",
            "Epoch 4/10\n",
            "9375/9375 [==============================] - 51s 5ms/step - loss: 0.6101 - accuracy: 0.8211 - val_loss: 0.6393 - val_accuracy: 0.8203\n",
            "Epoch 5/10\n",
            "9375/9375 [==============================] - 48s 5ms/step - loss: 0.5820 - accuracy: 0.8280 - val_loss: 0.6373 - val_accuracy: 0.8203\n",
            "Epoch 6/10\n",
            "9375/9375 [==============================] - 47s 5ms/step - loss: 0.5693 - accuracy: 0.8319 - val_loss: 0.6214 - val_accuracy: 0.8247\n",
            "Epoch 7/10\n",
            "9375/9375 [==============================] - 48s 5ms/step - loss: 0.5555 - accuracy: 0.8363 - val_loss: 0.6299 - val_accuracy: 0.8244\n",
            "Epoch 8/10\n",
            "9375/9375 [==============================] - 47s 5ms/step - loss: 0.5471 - accuracy: 0.8383 - val_loss: 0.6362 - val_accuracy: 0.8238\n",
            "Epoch 9/10\n",
            "9375/9375 [==============================] - 55s 6ms/step - loss: 0.5350 - accuracy: 0.8424 - val_loss: 0.6077 - val_accuracy: 0.8388\n",
            "Epoch 10/10\n",
            "9375/9375 [==============================] - 47s 5ms/step - loss: 0.5186 - accuracy: 0.8473 - val_loss: 0.6244 - val_accuracy: 0.8262\n",
            "CPU times: user 9min 16s, sys: 39 s, total: 9min 55s\n",
            "Wall time: 8min 23s\n"
          ]
        }
      ]
    },
    {
      "cell_type": "code",
      "source": [
        "norm_model.summary()"
      ],
      "metadata": {
        "colab": {
          "base_uri": "https://localhost:8080/"
        },
        "id": "4vmE5G2-Q8X1",
        "outputId": "15bc45d0-8879-4556-dabb-e70357e0a346"
      },
      "execution_count": null,
      "outputs": [
        {
          "output_type": "stream",
          "name": "stdout",
          "text": [
            "Model: \"sequential_3\"\n",
            "_________________________________________________________________\n",
            " Layer (type)                Output Shape              Param #   \n",
            "=================================================================\n",
            " dense_6 (Dense)             (None, 250)               196250    \n",
            "                                                                 \n",
            " dense_7 (Dense)             (None, 10)                2510      \n",
            "                                                                 \n",
            "=================================================================\n",
            "Total params: 198,760\n",
            "Trainable params: 198,760\n",
            "Non-trainable params: 0\n",
            "_________________________________________________________________\n"
          ]
        }
      ]
    },
    {
      "cell_type": "code",
      "source": [
        "%tensorboard --logdir logs"
      ],
      "metadata": {
        "id": "r6QS0yxxSkaY"
      },
      "execution_count": null,
      "outputs": []
    },
    {
      "cell_type": "code",
      "source": [
        "%%time\n",
        "# Batch size = 15 (small)\n",
        "tf.keras.backend.clear_session()\n",
        "# Instantiate a model and fit it with batch size of 15\n",
        "norm_model = create_model()\n",
        "bt_small_15 = norm_model.fit(X_train_scaled, y_train, \n",
        "                  validation_data=(X_test_scaled, y_test),\n",
        "                  workers=-2, \n",
        "                  epochs=10, \n",
        "                  batch_size=15, \n",
        "                  verbose=1, \n",
        "                  callbacks=[tensorboard])"
      ],
      "metadata": {
        "colab": {
          "base_uri": "https://localhost:8080/"
        },
        "id": "1HjtOuctNIix",
        "outputId": "bb2919fe-e5b4-44d4-87f0-48580b821431"
      },
      "execution_count": null,
      "outputs": [
        {
          "output_type": "stream",
          "name": "stdout",
          "text": [
            "Epoch 1/10\n",
            "5000/5000 [==============================] - 34s 7ms/step - loss: 0.6978 - accuracy: 0.7859 - val_loss: 0.6311 - val_accuracy: 0.8091\n",
            "Epoch 2/10\n",
            "5000/5000 [==============================] - 29s 6ms/step - loss: 0.5958 - accuracy: 0.8199 - val_loss: 0.6129 - val_accuracy: 0.8149\n",
            "Epoch 3/10\n",
            "5000/5000 [==============================] - 29s 6ms/step - loss: 0.5615 - accuracy: 0.8307 - val_loss: 0.6505 - val_accuracy: 0.8103\n",
            "Epoch 4/10\n",
            "5000/5000 [==============================] - 30s 6ms/step - loss: 0.5480 - accuracy: 0.8355 - val_loss: 0.6033 - val_accuracy: 0.8238\n",
            "Epoch 5/10\n",
            "5000/5000 [==============================] - 30s 6ms/step - loss: 0.5251 - accuracy: 0.8407 - val_loss: 0.5928 - val_accuracy: 0.8310\n",
            "Epoch 6/10\n",
            "5000/5000 [==============================] - 29s 6ms/step - loss: 0.5100 - accuracy: 0.8467 - val_loss: 0.6192 - val_accuracy: 0.8212\n",
            "Epoch 7/10\n",
            "5000/5000 [==============================] - 31s 6ms/step - loss: 0.4953 - accuracy: 0.8497 - val_loss: 0.5840 - val_accuracy: 0.8311\n",
            "Epoch 8/10\n",
            "5000/5000 [==============================] - 29s 6ms/step - loss: 0.4879 - accuracy: 0.8533 - val_loss: 0.5781 - val_accuracy: 0.8387\n",
            "Epoch 9/10\n",
            "5000/5000 [==============================] - 30s 6ms/step - loss: 0.4751 - accuracy: 0.8569 - val_loss: 0.5818 - val_accuracy: 0.8389\n",
            "Epoch 10/10\n",
            "5000/5000 [==============================] - 31s 6ms/step - loss: 0.4596 - accuracy: 0.8607 - val_loss: 0.5834 - val_accuracy: 0.8392\n",
            "CPU times: user 5min 19s, sys: 23.4 s, total: 5min 42s\n",
            "Wall time: 5min 2s\n"
          ]
        }
      ]
    },
    {
      "cell_type": "code",
      "source": [
        "norm_model.summary()"
      ],
      "metadata": {
        "colab": {
          "base_uri": "https://localhost:8080/"
        },
        "id": "U7WSL2KGQ9hx",
        "outputId": "b4eebb5d-086d-4cfc-ecd3-d8b943d0ea2b"
      },
      "execution_count": null,
      "outputs": [
        {
          "output_type": "stream",
          "name": "stdout",
          "text": [
            "Model: \"sequential\"\n",
            "_________________________________________________________________\n",
            " Layer (type)                Output Shape              Param #   \n",
            "=================================================================\n",
            " dense (Dense)               (None, 250)               196250    \n",
            "                                                                 \n",
            " dense_1 (Dense)             (None, 10)                2510      \n",
            "                                                                 \n",
            "=================================================================\n",
            "Total params: 198,760\n",
            "Trainable params: 198,760\n",
            "Non-trainable params: 0\n",
            "_________________________________________________________________\n"
          ]
        }
      ]
    },
    {
      "cell_type": "code",
      "source": [
        "%tensorboard --logdir logs"
      ],
      "metadata": {
        "id": "A17W_SzXSllY"
      },
      "execution_count": null,
      "outputs": []
    },
    {
      "cell_type": "code",
      "source": [
        "%%time\n",
        "# Batch size = 30 (close to default)\n",
        "# Instantiate a model and fit it with batch size of 30\n",
        "norm_model = create_model()\n",
        "bt_30 = norm_model.fit(X_train_scaled, y_train, \n",
        "                  validation_data=(X_test_scaled, y_test),\n",
        "                  workers=-2, \n",
        "                  epochs=10, \n",
        "                  batch_size=30, \n",
        "                  verbose=1, \n",
        "                  callbacks=[tensorboard])"
      ],
      "metadata": {
        "colab": {
          "base_uri": "https://localhost:8080/"
        },
        "id": "OSZMV_ScNic0",
        "outputId": "5fd4929e-19df-4428-9f82-f96ce1e388f5"
      },
      "execution_count": null,
      "outputs": [
        {
          "output_type": "stream",
          "name": "stdout",
          "text": [
            "Epoch 1/10\n",
            "2500/2500 [==============================] - 18s 7ms/step - loss: 0.6607 - accuracy: 0.7969 - val_loss: 0.5713 - val_accuracy: 0.8311\n",
            "Epoch 2/10\n",
            "2500/2500 [==============================] - 16s 6ms/step - loss: 0.5521 - accuracy: 0.8338 - val_loss: 0.5801 - val_accuracy: 0.8232\n",
            "Epoch 3/10\n",
            "2500/2500 [==============================] - 16s 6ms/step - loss: 0.5197 - accuracy: 0.8431 - val_loss: 0.5622 - val_accuracy: 0.8356\n",
            "Epoch 4/10\n",
            "2500/2500 [==============================] - 20s 8ms/step - loss: 0.4874 - accuracy: 0.8524 - val_loss: 0.5542 - val_accuracy: 0.8384\n",
            "Epoch 5/10\n",
            "2500/2500 [==============================] - 17s 7ms/step - loss: 0.4666 - accuracy: 0.8590 - val_loss: 0.5425 - val_accuracy: 0.8399\n",
            "Epoch 6/10\n",
            "2500/2500 [==============================] - 15s 6ms/step - loss: 0.4494 - accuracy: 0.8639 - val_loss: 0.5458 - val_accuracy: 0.8438\n",
            "Epoch 7/10\n",
            "2500/2500 [==============================] - 17s 7ms/step - loss: 0.4288 - accuracy: 0.8690 - val_loss: 0.5549 - val_accuracy: 0.8448\n",
            "Epoch 8/10\n",
            "2500/2500 [==============================] - 16s 6ms/step - loss: 0.4129 - accuracy: 0.8732 - val_loss: 0.5472 - val_accuracy: 0.8464\n",
            "Epoch 9/10\n",
            "2500/2500 [==============================] - 17s 7ms/step - loss: 0.4016 - accuracy: 0.8766 - val_loss: 0.5464 - val_accuracy: 0.8464\n",
            "Epoch 10/10\n",
            "2497/2500 [============================>.] - ETA: 0s - loss: 0.3856 - accuracy: 0.8817"
          ]
        }
      ]
    },
    {
      "cell_type": "code",
      "source": [
        "norm_model.summary()"
      ],
      "metadata": {
        "id": "AXbphOwXQ-eR"
      },
      "execution_count": null,
      "outputs": []
    },
    {
      "cell_type": "code",
      "source": [
        "%tensorboard --logdir logs"
      ],
      "metadata": {
        "id": "UiktHXKzSms2"
      },
      "execution_count": null,
      "outputs": []
    },
    {
      "cell_type": "code",
      "source": [
        "%%time\n",
        "# Batch size = 120 (large)\n",
        "# Instantiate a model and fit it with batch size of 120\n",
        "norm_model = create_model()\n",
        "bt_large_120 = norm_model.fit(X_train_scaled, y_train, \n",
        "                  validation_data=(X_test_scaled, y_test),\n",
        "                  workers=-2, \n",
        "                  epochs=10, \n",
        "                  batch_size=120, \n",
        "                  verbose=1, \n",
        "                  callbacks=[tensorboard])"
      ],
      "metadata": {
        "colab": {
          "base_uri": "https://localhost:8080/"
        },
        "id": "Nmshl_K0NxZ2",
        "outputId": "5b6d2515-77ca-4d6c-e023-0e96bb1becb6"
      },
      "execution_count": null,
      "outputs": [
        {
          "output_type": "stream",
          "name": "stdout",
          "text": [
            "Epoch 1/10\n",
            "625/625 [==============================] - 6s 8ms/step - loss: 0.6679 - accuracy: 0.7966 - val_loss: 0.5442 - val_accuracy: 0.8358\n",
            "Epoch 2/10\n",
            "625/625 [==============================] - 5s 8ms/step - loss: 0.4799 - accuracy: 0.8554 - val_loss: 0.4866 - val_accuracy: 0.8544\n",
            "Epoch 3/10\n",
            "625/625 [==============================] - 5s 8ms/step - loss: 0.4172 - accuracy: 0.8736 - val_loss: 0.4943 - val_accuracy: 0.8546\n",
            "Epoch 4/10\n",
            "625/625 [==============================] - 5s 8ms/step - loss: 0.3791 - accuracy: 0.8847 - val_loss: 0.4959 - val_accuracy: 0.8575\n",
            "Epoch 5/10\n",
            "625/625 [==============================] - 5s 9ms/step - loss: 0.3442 - accuracy: 0.8933 - val_loss: 0.5002 - val_accuracy: 0.8566\n",
            "Epoch 6/10\n",
            "625/625 [==============================] - 5s 8ms/step - loss: 0.3149 - accuracy: 0.9031 - val_loss: 0.5004 - val_accuracy: 0.8583\n",
            "Epoch 7/10\n",
            "625/625 [==============================] - 6s 9ms/step - loss: 0.2867 - accuracy: 0.9107 - val_loss: 0.5303 - val_accuracy: 0.8538\n",
            "Epoch 8/10\n",
            "625/625 [==============================] - 6s 10ms/step - loss: 0.2637 - accuracy: 0.9175 - val_loss: 0.5442 - val_accuracy: 0.8572\n",
            "Epoch 9/10\n",
            "625/625 [==============================] - 6s 10ms/step - loss: 0.2450 - accuracy: 0.9225 - val_loss: 0.5484 - val_accuracy: 0.8598\n",
            "Epoch 10/10\n",
            "625/625 [==============================] - 5s 8ms/step - loss: 0.2226 - accuracy: 0.9300 - val_loss: 0.5748 - val_accuracy: 0.8527\n",
            "CPU times: user 1min 6s, sys: 3.93 s, total: 1min 10s\n",
            "Wall time: 54.1 s\n"
          ]
        }
      ]
    },
    {
      "cell_type": "code",
      "source": [
        "model.summary()"
      ],
      "metadata": {
        "id": "WB786DS9RACz",
        "colab": {
          "base_uri": "https://localhost:8080/"
        },
        "outputId": "316baebf-e05b-4f34-d3d8-fc64cc750ecd"
      },
      "execution_count": null,
      "outputs": [
        {
          "output_type": "stream",
          "name": "stdout",
          "text": [
            "Model: \"sequential_1\"\n",
            "_________________________________________________________________\n",
            " Layer (type)                Output Shape              Param #   \n",
            "=================================================================\n",
            " dense_2 (Dense)             (None, 250)               196250    \n",
            "                                                                 \n",
            " dense_3 (Dense)             (None, 10)                2510      \n",
            "                                                                 \n",
            "=================================================================\n",
            "Total params: 198,760\n",
            "Trainable params: 198,760\n",
            "Non-trainable params: 0\n",
            "_________________________________________________________________\n"
          ]
        }
      ]
    },
    {
      "cell_type": "code",
      "source": [
        "%tensorboard --logdir logs"
      ],
      "metadata": {
        "id": "ZtpyuxyNSn48"
      },
      "execution_count": null,
      "outputs": []
    },
    {
      "cell_type": "code",
      "source": [
        "%%time\n",
        "# Batch size = 300 (large)\n",
        "# Instantiate a model and fit it with batch size of 300\n",
        "norm_model = create_model()\n",
        "bt_large_300 = norm_model.fit(X_train_scaled, y_train, \n",
        "                  validation_data=(X_test_scaled, y_test),\n",
        "                  workers=-2, \n",
        "                  epochs=10, \n",
        "                  batch_size=300, \n",
        "                  verbose=1, \n",
        "                  callbacks=[tensorboard])"
      ],
      "metadata": {
        "colab": {
          "base_uri": "https://localhost:8080/"
        },
        "id": "c6Z2EA4NN4yf",
        "outputId": "b8e1012c-b806-4947-c97a-82b288e6dde6"
      },
      "execution_count": null,
      "outputs": [
        {
          "output_type": "stream",
          "name": "stdout",
          "text": [
            "Epoch 1/10\n",
            "250/250 [==============================] - 4s 14ms/step - loss: 0.7384 - accuracy: 0.7777 - val_loss: 0.5609 - val_accuracy: 0.8324\n",
            "Epoch 2/10\n",
            "250/250 [==============================] - 4s 15ms/step - loss: 0.4967 - accuracy: 0.8510 - val_loss: 0.4937 - val_accuracy: 0.8540\n",
            "Epoch 3/10\n",
            "250/250 [==============================] - 3s 13ms/step - loss: 0.4194 - accuracy: 0.8737 - val_loss: 0.4620 - val_accuracy: 0.8626\n",
            "Epoch 4/10\n",
            "250/250 [==============================] - 3s 14ms/step - loss: 0.3662 - accuracy: 0.8888 - val_loss: 0.4542 - val_accuracy: 0.8662\n",
            "Epoch 5/10\n",
            "250/250 [==============================] - 4s 16ms/step - loss: 0.3213 - accuracy: 0.9026 - val_loss: 0.4596 - val_accuracy: 0.8668\n",
            "Epoch 6/10\n",
            "250/250 [==============================] - 3s 14ms/step - loss: 0.2827 - accuracy: 0.9150 - val_loss: 0.4819 - val_accuracy: 0.8614\n",
            "Epoch 7/10\n",
            "250/250 [==============================] - 3s 14ms/step - loss: 0.2512 - accuracy: 0.9234 - val_loss: 0.4817 - val_accuracy: 0.8652\n",
            "Epoch 8/10\n",
            "250/250 [==============================] - 3s 13ms/step - loss: 0.2177 - accuracy: 0.9337 - val_loss: 0.4989 - val_accuracy: 0.8642\n",
            "Epoch 9/10\n",
            "250/250 [==============================] - 5s 21ms/step - loss: 0.1889 - accuracy: 0.9433 - val_loss: 0.5044 - val_accuracy: 0.8659\n",
            "Epoch 10/10\n",
            "250/250 [==============================] - 3s 13ms/step - loss: 0.1654 - accuracy: 0.9502 - val_loss: 0.5433 - val_accuracy: 0.8600\n",
            "CPU times: user 46.1 s, sys: 2.3 s, total: 48.5 s\n",
            "Wall time: 37.9 s\n"
          ]
        }
      ]
    },
    {
      "cell_type": "code",
      "source": [
        "norm_model.summary()"
      ],
      "metadata": {
        "id": "4lOefh-nRDPr"
      },
      "execution_count": null,
      "outputs": []
    },
    {
      "cell_type": "code",
      "source": [
        "%tensorboard --logdir logs"
      ],
      "metadata": {
        "id": "dV46pcAkR1fX"
      },
      "execution_count": null,
      "outputs": []
    },
    {
      "cell_type": "code",
      "source": [
        "bt_30.history"
      ],
      "metadata": {
        "id": "IYoyIU1nv5Dc"
      },
      "execution_count": null,
      "outputs": []
    },
    {
      "cell_type": "code",
      "source": [
        "dd = pd.DataFrame.from_dict(bt_30.history)\n",
        "dd"
      ],
      "metadata": {
        "colab": {
          "base_uri": "https://localhost:8080/",
          "height": 362
        },
        "id": "HBnxDnWLwDOI",
        "outputId": "80df70eb-9e35-4bb9-c189-552806413cf0"
      },
      "execution_count": null,
      "outputs": [
        {
          "output_type": "execute_result",
          "data": {
            "text/plain": [
              "       loss  accuracy  val_loss  val_accuracy\n",
              "0  0.660650  0.796853  0.571257       0.83112\n",
              "1  0.552121  0.833840  0.580136       0.82320\n",
              "2  0.519687  0.843147  0.562193       0.83556\n",
              "3  0.487423  0.852387  0.554209       0.83844\n",
              "4  0.466553  0.859040  0.542484       0.83988\n",
              "5  0.449412  0.863880  0.545779       0.84376\n",
              "6  0.428799  0.869027  0.554881       0.84484\n",
              "7  0.412925  0.873160  0.547159       0.84636\n",
              "8  0.401554  0.876627  0.546436       0.84644\n",
              "9  0.385834  0.881667  0.562050       0.84656"
            ],
            "text/html": [
              "\n",
              "  <div id=\"df-402c04db-357e-42ee-bc7b-d7452cc1d159\">\n",
              "    <div class=\"colab-df-container\">\n",
              "      <div>\n",
              "<style scoped>\n",
              "    .dataframe tbody tr th:only-of-type {\n",
              "        vertical-align: middle;\n",
              "    }\n",
              "\n",
              "    .dataframe tbody tr th {\n",
              "        vertical-align: top;\n",
              "    }\n",
              "\n",
              "    .dataframe thead th {\n",
              "        text-align: right;\n",
              "    }\n",
              "</style>\n",
              "<table border=\"1\" class=\"dataframe\">\n",
              "  <thead>\n",
              "    <tr style=\"text-align: right;\">\n",
              "      <th></th>\n",
              "      <th>loss</th>\n",
              "      <th>accuracy</th>\n",
              "      <th>val_loss</th>\n",
              "      <th>val_accuracy</th>\n",
              "    </tr>\n",
              "  </thead>\n",
              "  <tbody>\n",
              "    <tr>\n",
              "      <th>0</th>\n",
              "      <td>0.660650</td>\n",
              "      <td>0.796853</td>\n",
              "      <td>0.571257</td>\n",
              "      <td>0.83112</td>\n",
              "    </tr>\n",
              "    <tr>\n",
              "      <th>1</th>\n",
              "      <td>0.552121</td>\n",
              "      <td>0.833840</td>\n",
              "      <td>0.580136</td>\n",
              "      <td>0.82320</td>\n",
              "    </tr>\n",
              "    <tr>\n",
              "      <th>2</th>\n",
              "      <td>0.519687</td>\n",
              "      <td>0.843147</td>\n",
              "      <td>0.562193</td>\n",
              "      <td>0.83556</td>\n",
              "    </tr>\n",
              "    <tr>\n",
              "      <th>3</th>\n",
              "      <td>0.487423</td>\n",
              "      <td>0.852387</td>\n",
              "      <td>0.554209</td>\n",
              "      <td>0.83844</td>\n",
              "    </tr>\n",
              "    <tr>\n",
              "      <th>4</th>\n",
              "      <td>0.466553</td>\n",
              "      <td>0.859040</td>\n",
              "      <td>0.542484</td>\n",
              "      <td>0.83988</td>\n",
              "    </tr>\n",
              "    <tr>\n",
              "      <th>5</th>\n",
              "      <td>0.449412</td>\n",
              "      <td>0.863880</td>\n",
              "      <td>0.545779</td>\n",
              "      <td>0.84376</td>\n",
              "    </tr>\n",
              "    <tr>\n",
              "      <th>6</th>\n",
              "      <td>0.428799</td>\n",
              "      <td>0.869027</td>\n",
              "      <td>0.554881</td>\n",
              "      <td>0.84484</td>\n",
              "    </tr>\n",
              "    <tr>\n",
              "      <th>7</th>\n",
              "      <td>0.412925</td>\n",
              "      <td>0.873160</td>\n",
              "      <td>0.547159</td>\n",
              "      <td>0.84636</td>\n",
              "    </tr>\n",
              "    <tr>\n",
              "      <th>8</th>\n",
              "      <td>0.401554</td>\n",
              "      <td>0.876627</td>\n",
              "      <td>0.546436</td>\n",
              "      <td>0.84644</td>\n",
              "    </tr>\n",
              "    <tr>\n",
              "      <th>9</th>\n",
              "      <td>0.385834</td>\n",
              "      <td>0.881667</td>\n",
              "      <td>0.562050</td>\n",
              "      <td>0.84656</td>\n",
              "    </tr>\n",
              "  </tbody>\n",
              "</table>\n",
              "</div>\n",
              "      <button class=\"colab-df-convert\" onclick=\"convertToInteractive('df-402c04db-357e-42ee-bc7b-d7452cc1d159')\"\n",
              "              title=\"Convert this dataframe to an interactive table.\"\n",
              "              style=\"display:none;\">\n",
              "        \n",
              "  <svg xmlns=\"http://www.w3.org/2000/svg\" height=\"24px\"viewBox=\"0 0 24 24\"\n",
              "       width=\"24px\">\n",
              "    <path d=\"M0 0h24v24H0V0z\" fill=\"none\"/>\n",
              "    <path d=\"M18.56 5.44l.94 2.06.94-2.06 2.06-.94-2.06-.94-.94-2.06-.94 2.06-2.06.94zm-11 1L8.5 8.5l.94-2.06 2.06-.94-2.06-.94L8.5 2.5l-.94 2.06-2.06.94zm10 10l.94 2.06.94-2.06 2.06-.94-2.06-.94-.94-2.06-.94 2.06-2.06.94z\"/><path d=\"M17.41 7.96l-1.37-1.37c-.4-.4-.92-.59-1.43-.59-.52 0-1.04.2-1.43.59L10.3 9.45l-7.72 7.72c-.78.78-.78 2.05 0 2.83L4 21.41c.39.39.9.59 1.41.59.51 0 1.02-.2 1.41-.59l7.78-7.78 2.81-2.81c.8-.78.8-2.07 0-2.86zM5.41 20L4 18.59l7.72-7.72 1.47 1.35L5.41 20z\"/>\n",
              "  </svg>\n",
              "      </button>\n",
              "      \n",
              "  <style>\n",
              "    .colab-df-container {\n",
              "      display:flex;\n",
              "      flex-wrap:wrap;\n",
              "      gap: 12px;\n",
              "    }\n",
              "\n",
              "    .colab-df-convert {\n",
              "      background-color: #E8F0FE;\n",
              "      border: none;\n",
              "      border-radius: 50%;\n",
              "      cursor: pointer;\n",
              "      display: none;\n",
              "      fill: #1967D2;\n",
              "      height: 32px;\n",
              "      padding: 0 0 0 0;\n",
              "      width: 32px;\n",
              "    }\n",
              "\n",
              "    .colab-df-convert:hover {\n",
              "      background-color: #E2EBFA;\n",
              "      box-shadow: 0px 1px 2px rgba(60, 64, 67, 0.3), 0px 1px 3px 1px rgba(60, 64, 67, 0.15);\n",
              "      fill: #174EA6;\n",
              "    }\n",
              "\n",
              "    [theme=dark] .colab-df-convert {\n",
              "      background-color: #3B4455;\n",
              "      fill: #D2E3FC;\n",
              "    }\n",
              "\n",
              "    [theme=dark] .colab-df-convert:hover {\n",
              "      background-color: #434B5C;\n",
              "      box-shadow: 0px 1px 3px 1px rgba(0, 0, 0, 0.15);\n",
              "      filter: drop-shadow(0px 1px 2px rgba(0, 0, 0, 0.3));\n",
              "      fill: #FFFFFF;\n",
              "    }\n",
              "  </style>\n",
              "\n",
              "      <script>\n",
              "        const buttonEl =\n",
              "          document.querySelector('#df-402c04db-357e-42ee-bc7b-d7452cc1d159 button.colab-df-convert');\n",
              "        buttonEl.style.display =\n",
              "          google.colab.kernel.accessAllowed ? 'block' : 'none';\n",
              "\n",
              "        async function convertToInteractive(key) {\n",
              "          const element = document.querySelector('#df-402c04db-357e-42ee-bc7b-d7452cc1d159');\n",
              "          const dataTable =\n",
              "            await google.colab.kernel.invokeFunction('convertToInteractive',\n",
              "                                                     [key], {});\n",
              "          if (!dataTable) return;\n",
              "\n",
              "          const docLinkHtml = 'Like what you see? Visit the ' +\n",
              "            '<a target=\"_blank\" href=https://colab.research.google.com/notebooks/data_table.ipynb>data table notebook</a>'\n",
              "            + ' to learn more about interactive tables.';\n",
              "          element.innerHTML = '';\n",
              "          dataTable['output_type'] = 'display_data';\n",
              "          await google.colab.output.renderOutput(dataTable, element);\n",
              "          const docLink = document.createElement('div');\n",
              "          docLink.innerHTML = docLinkHtml;\n",
              "          element.appendChild(docLink);\n",
              "        }\n",
              "      </script>\n",
              "    </div>\n",
              "  </div>\n",
              "  "
            ]
          },
          "metadata": {},
          "execution_count": 40
        }
      ]
    },
    {
      "cell_type": "code",
      "source": [
        "experiment_dfs = []\n",
        "\n",
        "for experiment, label in zip([bt_30, bt_small_8, bt_small_15, bt_large_120, bt_large_300], [\"30_\", \"8_\", \"15_\", \"120_\", \"300_\"]):\n",
        "\n",
        "    df = pd.DataFrame.from_dict(experiment.history)\n",
        "    df['epoch'] = df.index.values\n",
        "    df['Batch Size'] = label\n",
        "\n",
        "    # append to list of experiment data frames\n",
        "    experiment_dfs.append(df)\n",
        "\n",
        "df = pd.concat(experiment_dfs,ignore_index=True)\n",
        "df['Batch Size'] = df['Batch Size'].astype('str')\n",
        "df"
      ],
      "metadata": {
        "colab": {
          "base_uri": "https://localhost:8080/",
          "height": 1000
        },
        "id": "W10QJaRywJqL",
        "outputId": "5a0102a2-6192-4f73-b29a-75cc361a2945"
      },
      "execution_count": null,
      "outputs": [
        {
          "output_type": "execute_result",
          "data": {
            "text/plain": [
              "        loss  accuracy  val_loss  val_accuracy  epoch Batch Size\n",
              "0   0.660650  0.796853  0.571257       0.83112      0        30_\n",
              "1   0.552121  0.833840  0.580136       0.82320      1        30_\n",
              "2   0.519687  0.843147  0.562193       0.83556      2        30_\n",
              "3   0.487423  0.852387  0.554209       0.83844      3        30_\n",
              "4   0.466553  0.859040  0.542484       0.83988      4        30_\n",
              "5   0.449412  0.863880  0.545779       0.84376      5        30_\n",
              "6   0.428799  0.869027  0.554881       0.84484      6        30_\n",
              "7   0.412925  0.873160  0.547159       0.84636      7        30_\n",
              "8   0.401554  0.876627  0.546436       0.84644      8        30_\n",
              "9   0.385834  0.881667  0.562050       0.84656      9        30_\n",
              "10  0.763541  0.768800  0.709111       0.79048      0         8_\n",
              "11  0.665238  0.802920  0.666312       0.80540      1         8_\n",
              "12  0.628895  0.814867  0.661343       0.81300      2         8_\n",
              "13  0.610125  0.821080  0.639274       0.82028      3         8_\n",
              "14  0.581973  0.827960  0.637278       0.82032      4         8_\n",
              "15  0.569323  0.831867  0.621445       0.82472      5         8_\n",
              "16  0.555473  0.836267  0.629935       0.82440      6         8_\n",
              "17  0.547130  0.838293  0.636180       0.82376      7         8_\n",
              "18  0.534965  0.842387  0.607691       0.83880      8         8_\n",
              "19  0.518600  0.847293  0.624409       0.82624      9         8_\n",
              "20  0.697763  0.785933  0.631107       0.80908      0        15_\n",
              "21  0.595763  0.819867  0.612868       0.81488      1        15_\n",
              "22  0.561497  0.830653  0.650506       0.81032      2        15_\n",
              "23  0.547962  0.835453  0.603265       0.82376      3        15_\n",
              "24  0.525071  0.840680  0.592786       0.83104      4        15_\n",
              "25  0.509955  0.846667  0.619163       0.82116      5        15_\n",
              "26  0.495268  0.849733  0.583955       0.83112      6        15_\n",
              "27  0.487872  0.853293  0.578116       0.83868      7        15_\n",
              "28  0.475071  0.856933  0.581845       0.83892      8        15_\n",
              "29  0.459642  0.860747  0.583418       0.83924      9        15_\n",
              "30  0.667929  0.796627  0.544188       0.83584      0       120_\n",
              "31  0.479852  0.855413  0.486572       0.85440      1       120_\n",
              "32  0.417173  0.873560  0.494279       0.85464      2       120_\n",
              "33  0.379103  0.884653  0.495905       0.85752      3       120_\n",
              "34  0.344184  0.893280  0.500187       0.85656      4       120_\n",
              "35  0.314935  0.903147  0.500362       0.85828      5       120_\n",
              "36  0.286677  0.910747  0.530341       0.85384      6       120_\n",
              "37  0.263653  0.917467  0.544218       0.85716      7       120_\n",
              "38  0.244987  0.922467  0.548382       0.85980      8       120_\n",
              "39  0.222605  0.930027  0.574761       0.85268      9       120_\n",
              "40  0.738435  0.777693  0.560879       0.83240      0       300_\n",
              "41  0.496723  0.850960  0.493707       0.85404      1       300_\n",
              "42  0.419359  0.873720  0.462015       0.86264      2       300_\n",
              "43  0.366217  0.888773  0.454242       0.86620      3       300_\n",
              "44  0.321286  0.902560  0.459583       0.86676      4       300_\n",
              "45  0.282690  0.915027  0.481946       0.86140      5       300_\n",
              "46  0.251244  0.923427  0.481662       0.86516      6       300_\n",
              "47  0.217683  0.933667  0.498920       0.86420      7       300_\n",
              "48  0.188863  0.943333  0.504434       0.86588      8       300_\n",
              "49  0.165358  0.950240  0.543251       0.85996      9       300_"
            ],
            "text/html": [
              "\n",
              "  <div id=\"df-1fcbdbbb-8533-4cf9-a8cd-55abcd493aba\">\n",
              "    <div class=\"colab-df-container\">\n",
              "      <div>\n",
              "<style scoped>\n",
              "    .dataframe tbody tr th:only-of-type {\n",
              "        vertical-align: middle;\n",
              "    }\n",
              "\n",
              "    .dataframe tbody tr th {\n",
              "        vertical-align: top;\n",
              "    }\n",
              "\n",
              "    .dataframe thead th {\n",
              "        text-align: right;\n",
              "    }\n",
              "</style>\n",
              "<table border=\"1\" class=\"dataframe\">\n",
              "  <thead>\n",
              "    <tr style=\"text-align: right;\">\n",
              "      <th></th>\n",
              "      <th>loss</th>\n",
              "      <th>accuracy</th>\n",
              "      <th>val_loss</th>\n",
              "      <th>val_accuracy</th>\n",
              "      <th>epoch</th>\n",
              "      <th>Batch Size</th>\n",
              "    </tr>\n",
              "  </thead>\n",
              "  <tbody>\n",
              "    <tr>\n",
              "      <th>0</th>\n",
              "      <td>0.660650</td>\n",
              "      <td>0.796853</td>\n",
              "      <td>0.571257</td>\n",
              "      <td>0.83112</td>\n",
              "      <td>0</td>\n",
              "      <td>30_</td>\n",
              "    </tr>\n",
              "    <tr>\n",
              "      <th>1</th>\n",
              "      <td>0.552121</td>\n",
              "      <td>0.833840</td>\n",
              "      <td>0.580136</td>\n",
              "      <td>0.82320</td>\n",
              "      <td>1</td>\n",
              "      <td>30_</td>\n",
              "    </tr>\n",
              "    <tr>\n",
              "      <th>2</th>\n",
              "      <td>0.519687</td>\n",
              "      <td>0.843147</td>\n",
              "      <td>0.562193</td>\n",
              "      <td>0.83556</td>\n",
              "      <td>2</td>\n",
              "      <td>30_</td>\n",
              "    </tr>\n",
              "    <tr>\n",
              "      <th>3</th>\n",
              "      <td>0.487423</td>\n",
              "      <td>0.852387</td>\n",
              "      <td>0.554209</td>\n",
              "      <td>0.83844</td>\n",
              "      <td>3</td>\n",
              "      <td>30_</td>\n",
              "    </tr>\n",
              "    <tr>\n",
              "      <th>4</th>\n",
              "      <td>0.466553</td>\n",
              "      <td>0.859040</td>\n",
              "      <td>0.542484</td>\n",
              "      <td>0.83988</td>\n",
              "      <td>4</td>\n",
              "      <td>30_</td>\n",
              "    </tr>\n",
              "    <tr>\n",
              "      <th>5</th>\n",
              "      <td>0.449412</td>\n",
              "      <td>0.863880</td>\n",
              "      <td>0.545779</td>\n",
              "      <td>0.84376</td>\n",
              "      <td>5</td>\n",
              "      <td>30_</td>\n",
              "    </tr>\n",
              "    <tr>\n",
              "      <th>6</th>\n",
              "      <td>0.428799</td>\n",
              "      <td>0.869027</td>\n",
              "      <td>0.554881</td>\n",
              "      <td>0.84484</td>\n",
              "      <td>6</td>\n",
              "      <td>30_</td>\n",
              "    </tr>\n",
              "    <tr>\n",
              "      <th>7</th>\n",
              "      <td>0.412925</td>\n",
              "      <td>0.873160</td>\n",
              "      <td>0.547159</td>\n",
              "      <td>0.84636</td>\n",
              "      <td>7</td>\n",
              "      <td>30_</td>\n",
              "    </tr>\n",
              "    <tr>\n",
              "      <th>8</th>\n",
              "      <td>0.401554</td>\n",
              "      <td>0.876627</td>\n",
              "      <td>0.546436</td>\n",
              "      <td>0.84644</td>\n",
              "      <td>8</td>\n",
              "      <td>30_</td>\n",
              "    </tr>\n",
              "    <tr>\n",
              "      <th>9</th>\n",
              "      <td>0.385834</td>\n",
              "      <td>0.881667</td>\n",
              "      <td>0.562050</td>\n",
              "      <td>0.84656</td>\n",
              "      <td>9</td>\n",
              "      <td>30_</td>\n",
              "    </tr>\n",
              "    <tr>\n",
              "      <th>10</th>\n",
              "      <td>0.763541</td>\n",
              "      <td>0.768800</td>\n",
              "      <td>0.709111</td>\n",
              "      <td>0.79048</td>\n",
              "      <td>0</td>\n",
              "      <td>8_</td>\n",
              "    </tr>\n",
              "    <tr>\n",
              "      <th>11</th>\n",
              "      <td>0.665238</td>\n",
              "      <td>0.802920</td>\n",
              "      <td>0.666312</td>\n",
              "      <td>0.80540</td>\n",
              "      <td>1</td>\n",
              "      <td>8_</td>\n",
              "    </tr>\n",
              "    <tr>\n",
              "      <th>12</th>\n",
              "      <td>0.628895</td>\n",
              "      <td>0.814867</td>\n",
              "      <td>0.661343</td>\n",
              "      <td>0.81300</td>\n",
              "      <td>2</td>\n",
              "      <td>8_</td>\n",
              "    </tr>\n",
              "    <tr>\n",
              "      <th>13</th>\n",
              "      <td>0.610125</td>\n",
              "      <td>0.821080</td>\n",
              "      <td>0.639274</td>\n",
              "      <td>0.82028</td>\n",
              "      <td>3</td>\n",
              "      <td>8_</td>\n",
              "    </tr>\n",
              "    <tr>\n",
              "      <th>14</th>\n",
              "      <td>0.581973</td>\n",
              "      <td>0.827960</td>\n",
              "      <td>0.637278</td>\n",
              "      <td>0.82032</td>\n",
              "      <td>4</td>\n",
              "      <td>8_</td>\n",
              "    </tr>\n",
              "    <tr>\n",
              "      <th>15</th>\n",
              "      <td>0.569323</td>\n",
              "      <td>0.831867</td>\n",
              "      <td>0.621445</td>\n",
              "      <td>0.82472</td>\n",
              "      <td>5</td>\n",
              "      <td>8_</td>\n",
              "    </tr>\n",
              "    <tr>\n",
              "      <th>16</th>\n",
              "      <td>0.555473</td>\n",
              "      <td>0.836267</td>\n",
              "      <td>0.629935</td>\n",
              "      <td>0.82440</td>\n",
              "      <td>6</td>\n",
              "      <td>8_</td>\n",
              "    </tr>\n",
              "    <tr>\n",
              "      <th>17</th>\n",
              "      <td>0.547130</td>\n",
              "      <td>0.838293</td>\n",
              "      <td>0.636180</td>\n",
              "      <td>0.82376</td>\n",
              "      <td>7</td>\n",
              "      <td>8_</td>\n",
              "    </tr>\n",
              "    <tr>\n",
              "      <th>18</th>\n",
              "      <td>0.534965</td>\n",
              "      <td>0.842387</td>\n",
              "      <td>0.607691</td>\n",
              "      <td>0.83880</td>\n",
              "      <td>8</td>\n",
              "      <td>8_</td>\n",
              "    </tr>\n",
              "    <tr>\n",
              "      <th>19</th>\n",
              "      <td>0.518600</td>\n",
              "      <td>0.847293</td>\n",
              "      <td>0.624409</td>\n",
              "      <td>0.82624</td>\n",
              "      <td>9</td>\n",
              "      <td>8_</td>\n",
              "    </tr>\n",
              "    <tr>\n",
              "      <th>20</th>\n",
              "      <td>0.697763</td>\n",
              "      <td>0.785933</td>\n",
              "      <td>0.631107</td>\n",
              "      <td>0.80908</td>\n",
              "      <td>0</td>\n",
              "      <td>15_</td>\n",
              "    </tr>\n",
              "    <tr>\n",
              "      <th>21</th>\n",
              "      <td>0.595763</td>\n",
              "      <td>0.819867</td>\n",
              "      <td>0.612868</td>\n",
              "      <td>0.81488</td>\n",
              "      <td>1</td>\n",
              "      <td>15_</td>\n",
              "    </tr>\n",
              "    <tr>\n",
              "      <th>22</th>\n",
              "      <td>0.561497</td>\n",
              "      <td>0.830653</td>\n",
              "      <td>0.650506</td>\n",
              "      <td>0.81032</td>\n",
              "      <td>2</td>\n",
              "      <td>15_</td>\n",
              "    </tr>\n",
              "    <tr>\n",
              "      <th>23</th>\n",
              "      <td>0.547962</td>\n",
              "      <td>0.835453</td>\n",
              "      <td>0.603265</td>\n",
              "      <td>0.82376</td>\n",
              "      <td>3</td>\n",
              "      <td>15_</td>\n",
              "    </tr>\n",
              "    <tr>\n",
              "      <th>24</th>\n",
              "      <td>0.525071</td>\n",
              "      <td>0.840680</td>\n",
              "      <td>0.592786</td>\n",
              "      <td>0.83104</td>\n",
              "      <td>4</td>\n",
              "      <td>15_</td>\n",
              "    </tr>\n",
              "    <tr>\n",
              "      <th>25</th>\n",
              "      <td>0.509955</td>\n",
              "      <td>0.846667</td>\n",
              "      <td>0.619163</td>\n",
              "      <td>0.82116</td>\n",
              "      <td>5</td>\n",
              "      <td>15_</td>\n",
              "    </tr>\n",
              "    <tr>\n",
              "      <th>26</th>\n",
              "      <td>0.495268</td>\n",
              "      <td>0.849733</td>\n",
              "      <td>0.583955</td>\n",
              "      <td>0.83112</td>\n",
              "      <td>6</td>\n",
              "      <td>15_</td>\n",
              "    </tr>\n",
              "    <tr>\n",
              "      <th>27</th>\n",
              "      <td>0.487872</td>\n",
              "      <td>0.853293</td>\n",
              "      <td>0.578116</td>\n",
              "      <td>0.83868</td>\n",
              "      <td>7</td>\n",
              "      <td>15_</td>\n",
              "    </tr>\n",
              "    <tr>\n",
              "      <th>28</th>\n",
              "      <td>0.475071</td>\n",
              "      <td>0.856933</td>\n",
              "      <td>0.581845</td>\n",
              "      <td>0.83892</td>\n",
              "      <td>8</td>\n",
              "      <td>15_</td>\n",
              "    </tr>\n",
              "    <tr>\n",
              "      <th>29</th>\n",
              "      <td>0.459642</td>\n",
              "      <td>0.860747</td>\n",
              "      <td>0.583418</td>\n",
              "      <td>0.83924</td>\n",
              "      <td>9</td>\n",
              "      <td>15_</td>\n",
              "    </tr>\n",
              "    <tr>\n",
              "      <th>30</th>\n",
              "      <td>0.667929</td>\n",
              "      <td>0.796627</td>\n",
              "      <td>0.544188</td>\n",
              "      <td>0.83584</td>\n",
              "      <td>0</td>\n",
              "      <td>120_</td>\n",
              "    </tr>\n",
              "    <tr>\n",
              "      <th>31</th>\n",
              "      <td>0.479852</td>\n",
              "      <td>0.855413</td>\n",
              "      <td>0.486572</td>\n",
              "      <td>0.85440</td>\n",
              "      <td>1</td>\n",
              "      <td>120_</td>\n",
              "    </tr>\n",
              "    <tr>\n",
              "      <th>32</th>\n",
              "      <td>0.417173</td>\n",
              "      <td>0.873560</td>\n",
              "      <td>0.494279</td>\n",
              "      <td>0.85464</td>\n",
              "      <td>2</td>\n",
              "      <td>120_</td>\n",
              "    </tr>\n",
              "    <tr>\n",
              "      <th>33</th>\n",
              "      <td>0.379103</td>\n",
              "      <td>0.884653</td>\n",
              "      <td>0.495905</td>\n",
              "      <td>0.85752</td>\n",
              "      <td>3</td>\n",
              "      <td>120_</td>\n",
              "    </tr>\n",
              "    <tr>\n",
              "      <th>34</th>\n",
              "      <td>0.344184</td>\n",
              "      <td>0.893280</td>\n",
              "      <td>0.500187</td>\n",
              "      <td>0.85656</td>\n",
              "      <td>4</td>\n",
              "      <td>120_</td>\n",
              "    </tr>\n",
              "    <tr>\n",
              "      <th>35</th>\n",
              "      <td>0.314935</td>\n",
              "      <td>0.903147</td>\n",
              "      <td>0.500362</td>\n",
              "      <td>0.85828</td>\n",
              "      <td>5</td>\n",
              "      <td>120_</td>\n",
              "    </tr>\n",
              "    <tr>\n",
              "      <th>36</th>\n",
              "      <td>0.286677</td>\n",
              "      <td>0.910747</td>\n",
              "      <td>0.530341</td>\n",
              "      <td>0.85384</td>\n",
              "      <td>6</td>\n",
              "      <td>120_</td>\n",
              "    </tr>\n",
              "    <tr>\n",
              "      <th>37</th>\n",
              "      <td>0.263653</td>\n",
              "      <td>0.917467</td>\n",
              "      <td>0.544218</td>\n",
              "      <td>0.85716</td>\n",
              "      <td>7</td>\n",
              "      <td>120_</td>\n",
              "    </tr>\n",
              "    <tr>\n",
              "      <th>38</th>\n",
              "      <td>0.244987</td>\n",
              "      <td>0.922467</td>\n",
              "      <td>0.548382</td>\n",
              "      <td>0.85980</td>\n",
              "      <td>8</td>\n",
              "      <td>120_</td>\n",
              "    </tr>\n",
              "    <tr>\n",
              "      <th>39</th>\n",
              "      <td>0.222605</td>\n",
              "      <td>0.930027</td>\n",
              "      <td>0.574761</td>\n",
              "      <td>0.85268</td>\n",
              "      <td>9</td>\n",
              "      <td>120_</td>\n",
              "    </tr>\n",
              "    <tr>\n",
              "      <th>40</th>\n",
              "      <td>0.738435</td>\n",
              "      <td>0.777693</td>\n",
              "      <td>0.560879</td>\n",
              "      <td>0.83240</td>\n",
              "      <td>0</td>\n",
              "      <td>300_</td>\n",
              "    </tr>\n",
              "    <tr>\n",
              "      <th>41</th>\n",
              "      <td>0.496723</td>\n",
              "      <td>0.850960</td>\n",
              "      <td>0.493707</td>\n",
              "      <td>0.85404</td>\n",
              "      <td>1</td>\n",
              "      <td>300_</td>\n",
              "    </tr>\n",
              "    <tr>\n",
              "      <th>42</th>\n",
              "      <td>0.419359</td>\n",
              "      <td>0.873720</td>\n",
              "      <td>0.462015</td>\n",
              "      <td>0.86264</td>\n",
              "      <td>2</td>\n",
              "      <td>300_</td>\n",
              "    </tr>\n",
              "    <tr>\n",
              "      <th>43</th>\n",
              "      <td>0.366217</td>\n",
              "      <td>0.888773</td>\n",
              "      <td>0.454242</td>\n",
              "      <td>0.86620</td>\n",
              "      <td>3</td>\n",
              "      <td>300_</td>\n",
              "    </tr>\n",
              "    <tr>\n",
              "      <th>44</th>\n",
              "      <td>0.321286</td>\n",
              "      <td>0.902560</td>\n",
              "      <td>0.459583</td>\n",
              "      <td>0.86676</td>\n",
              "      <td>4</td>\n",
              "      <td>300_</td>\n",
              "    </tr>\n",
              "    <tr>\n",
              "      <th>45</th>\n",
              "      <td>0.282690</td>\n",
              "      <td>0.915027</td>\n",
              "      <td>0.481946</td>\n",
              "      <td>0.86140</td>\n",
              "      <td>5</td>\n",
              "      <td>300_</td>\n",
              "    </tr>\n",
              "    <tr>\n",
              "      <th>46</th>\n",
              "      <td>0.251244</td>\n",
              "      <td>0.923427</td>\n",
              "      <td>0.481662</td>\n",
              "      <td>0.86516</td>\n",
              "      <td>6</td>\n",
              "      <td>300_</td>\n",
              "    </tr>\n",
              "    <tr>\n",
              "      <th>47</th>\n",
              "      <td>0.217683</td>\n",
              "      <td>0.933667</td>\n",
              "      <td>0.498920</td>\n",
              "      <td>0.86420</td>\n",
              "      <td>7</td>\n",
              "      <td>300_</td>\n",
              "    </tr>\n",
              "    <tr>\n",
              "      <th>48</th>\n",
              "      <td>0.188863</td>\n",
              "      <td>0.943333</td>\n",
              "      <td>0.504434</td>\n",
              "      <td>0.86588</td>\n",
              "      <td>8</td>\n",
              "      <td>300_</td>\n",
              "    </tr>\n",
              "    <tr>\n",
              "      <th>49</th>\n",
              "      <td>0.165358</td>\n",
              "      <td>0.950240</td>\n",
              "      <td>0.543251</td>\n",
              "      <td>0.85996</td>\n",
              "      <td>9</td>\n",
              "      <td>300_</td>\n",
              "    </tr>\n",
              "  </tbody>\n",
              "</table>\n",
              "</div>\n",
              "      <button class=\"colab-df-convert\" onclick=\"convertToInteractive('df-1fcbdbbb-8533-4cf9-a8cd-55abcd493aba')\"\n",
              "              title=\"Convert this dataframe to an interactive table.\"\n",
              "              style=\"display:none;\">\n",
              "        \n",
              "  <svg xmlns=\"http://www.w3.org/2000/svg\" height=\"24px\"viewBox=\"0 0 24 24\"\n",
              "       width=\"24px\">\n",
              "    <path d=\"M0 0h24v24H0V0z\" fill=\"none\"/>\n",
              "    <path d=\"M18.56 5.44l.94 2.06.94-2.06 2.06-.94-2.06-.94-.94-2.06-.94 2.06-2.06.94zm-11 1L8.5 8.5l.94-2.06 2.06-.94-2.06-.94L8.5 2.5l-.94 2.06-2.06.94zm10 10l.94 2.06.94-2.06 2.06-.94-2.06-.94-.94-2.06-.94 2.06-2.06.94z\"/><path d=\"M17.41 7.96l-1.37-1.37c-.4-.4-.92-.59-1.43-.59-.52 0-1.04.2-1.43.59L10.3 9.45l-7.72 7.72c-.78.78-.78 2.05 0 2.83L4 21.41c.39.39.9.59 1.41.59.51 0 1.02-.2 1.41-.59l7.78-7.78 2.81-2.81c.8-.78.8-2.07 0-2.86zM5.41 20L4 18.59l7.72-7.72 1.47 1.35L5.41 20z\"/>\n",
              "  </svg>\n",
              "      </button>\n",
              "      \n",
              "  <style>\n",
              "    .colab-df-container {\n",
              "      display:flex;\n",
              "      flex-wrap:wrap;\n",
              "      gap: 12px;\n",
              "    }\n",
              "\n",
              "    .colab-df-convert {\n",
              "      background-color: #E8F0FE;\n",
              "      border: none;\n",
              "      border-radius: 50%;\n",
              "      cursor: pointer;\n",
              "      display: none;\n",
              "      fill: #1967D2;\n",
              "      height: 32px;\n",
              "      padding: 0 0 0 0;\n",
              "      width: 32px;\n",
              "    }\n",
              "\n",
              "    .colab-df-convert:hover {\n",
              "      background-color: #E2EBFA;\n",
              "      box-shadow: 0px 1px 2px rgba(60, 64, 67, 0.3), 0px 1px 3px 1px rgba(60, 64, 67, 0.15);\n",
              "      fill: #174EA6;\n",
              "    }\n",
              "\n",
              "    [theme=dark] .colab-df-convert {\n",
              "      background-color: #3B4455;\n",
              "      fill: #D2E3FC;\n",
              "    }\n",
              "\n",
              "    [theme=dark] .colab-df-convert:hover {\n",
              "      background-color: #434B5C;\n",
              "      box-shadow: 0px 1px 3px 1px rgba(0, 0, 0, 0.15);\n",
              "      filter: drop-shadow(0px 1px 2px rgba(0, 0, 0, 0.3));\n",
              "      fill: #FFFFFF;\n",
              "    }\n",
              "  </style>\n",
              "\n",
              "      <script>\n",
              "        const buttonEl =\n",
              "          document.querySelector('#df-1fcbdbbb-8533-4cf9-a8cd-55abcd493aba button.colab-df-convert');\n",
              "        buttonEl.style.display =\n",
              "          google.colab.kernel.accessAllowed ? 'block' : 'none';\n",
              "\n",
              "        async function convertToInteractive(key) {\n",
              "          const element = document.querySelector('#df-1fcbdbbb-8533-4cf9-a8cd-55abcd493aba');\n",
              "          const dataTable =\n",
              "            await google.colab.kernel.invokeFunction('convertToInteractive',\n",
              "                                                     [key], {});\n",
              "          if (!dataTable) return;\n",
              "\n",
              "          const docLinkHtml = 'Like what you see? Visit the ' +\n",
              "            '<a target=\"_blank\" href=https://colab.research.google.com/notebooks/data_table.ipynb>data table notebook</a>'\n",
              "            + ' to learn more about interactive tables.';\n",
              "          element.innerHTML = '';\n",
              "          dataTable['output_type'] = 'display_data';\n",
              "          await google.colab.output.renderOutput(dataTable, element);\n",
              "          const docLink = document.createElement('div');\n",
              "          docLink.innerHTML = docLinkHtml;\n",
              "          element.appendChild(docLink);\n",
              "        }\n",
              "      </script>\n",
              "    </div>\n",
              "  </div>\n",
              "  "
            ]
          },
          "metadata": {},
          "execution_count": 41
        }
      ]
    },
    {
      "cell_type": "code",
      "source": [
        "import seaborn as sns \n",
        "sns.lineplot(x='epoch', y='val_accuracy', hue='Batch Size', data=df);\n",
        "plt.grid()"
      ],
      "metadata": {
        "colab": {
          "base_uri": "https://localhost:8080/",
          "height": 282
        },
        "id": "mp2hkMP2wh5f",
        "outputId": "71b74ac6-6456-4fb7-af9e-3163d1603042"
      },
      "execution_count": null,
      "outputs": [
        {
          "output_type": "display_data",
          "data": {
            "text/plain": [
              "<Figure size 432x288 with 1 Axes>"
            ],
            "image/png": "[encoded data removed]"
          },
          "metadata": {
            "needs_background": "light"
          }
        }
      ]
    },
    {
      "cell_type": "code",
      "source": [
        "sns.lineplot(x='epoch', y='val_loss', hue='Batch Size', data=df);\n",
        "plt.grid()"
      ],
      "metadata": {
        "colab": {
          "base_uri": "https://localhost:8080/",
          "height": 279
        },
        "id": "p1NlB9gUwoqy",
        "outputId": "29e17e95-8d1e-470d-bc47-1f6bbbab25b5"
      },
      "execution_count": null,
      "outputs": [
        {
          "output_type": "display_data",
          "data": {
            "text/plain": [
              "<Figure size 432x288 with 1 Axes>"
            ],
            "image/png": "[encoded data removed]"
          },
          "metadata": {
            "needs_background": "light"
          }
        }
      ]
    },
    {
      "cell_type": "markdown",
      "source": [
        "YOUR ANSWER\n",
        "\n",
        "- EXPERIMENT ANALYSIS:\n",
        "\n",
        "Modifying the batch size has an effect on the model's performance. Based on the visualizations presented, it appears that the validation loss decreases as the number of epochs increases for all batch sizes. However, it is apparent that the lowest validation loss values were attained using larger batch sizes. This suggests that using larger batch sizes may lead to better performance on the Quickdraw-10 dataset. Also, larger batch sizes demonstrated shorter training times in comparison to smaller batch sizes.\n",
        "\n",
        "In terms of validation accuracy,  there seems to be a trade-off between using larger batch sizes and achieving higher accuracy. While larger batch sizes do tend to achieve a higher validation accuracy overall, the accuracy appears to plateau after a certain number of epochs and slightly decreases for the last few epochs.\n",
        "\n",
        "\n",
        "- SELECT THE BEST PERFORMING MODEL:\n",
        "\n",
        "Based on the validation loss and accuracy curves, it appears that the 300 batch size may be the best performing model. This batch size achieves the lowest validation loss and highest validation accuracy overall."
      ],
      "metadata": {
        "id": "FsBRKSvuRHDF"
      }
    },
    {
      "cell_type": "markdown",
      "metadata": {
        "id": "8b-r70o8p2Dm"
      },
      "source": [
        "### Experiment with Learning Rate\n",
        "* Run 5 experiments with various learning rate magnitudes: 1, 0.1, 0.01, 0.001, 0.0001.\n",
        "* Use the \"best\" batch size from the previous experiment\n",
        "* Visualize the results using `tensorboard`\n",
        "* Write up an analysis of the experiments and select the \"best\" performing model among your experiments. Make sure to compare against the previous experiments and your model's performance yesterday. "
      ]
    },
    {
      "cell_type": "code",
      "metadata": {
        "id": "_SA144xx8Luf",
        "colab": {
          "base_uri": "https://localhost:8080/"
        },
        "outputId": "9f1a2d62-d5d4-4e69-ef36-2aa6e4cf926f"
      },
      "source": [
        "norm_model = create_model(lr=1.0)\n",
        "lr_1 = norm_model.fit(X_train_scaled, y_train, \n",
        "                  validation_data=(X_test_scaled, y_test),\n",
        "                  workers=-2, \n",
        "                  epochs=10, \n",
        "                  batch_size=300, \n",
        "                  verbose=1, \n",
        "                  callbacks=[tensorboard])"
      ],
      "execution_count": null,
      "outputs": [
        {
          "output_type": "stream",
          "name": "stdout",
          "text": [
            "Epoch 1/10\n",
            "250/250 [==============================] - 4s 15ms/step - loss: 7.5837 - accuracy: 0.4312 - val_loss: 2.6629 - val_accuracy: 0.3648\n",
            "Epoch 2/10\n",
            "250/250 [==============================] - 4s 16ms/step - loss: 2.1992 - accuracy: 0.4994 - val_loss: 1.7163 - val_accuracy: 0.4712\n",
            "Epoch 3/10\n",
            "250/250 [==============================] - 3s 13ms/step - loss: 2.2176 - accuracy: 0.5265 - val_loss: 1.7766 - val_accuracy: 0.5188\n",
            "Epoch 4/10\n",
            "250/250 [==============================] - 3s 13ms/step - loss: 2.2558 - accuracy: 0.5229 - val_loss: 2.3335 - val_accuracy: 0.5561\n",
            "Epoch 5/10\n",
            "250/250 [==============================] - 5s 21ms/step - loss: 2.3419 - accuracy: 0.5341 - val_loss: 1.3232 - val_accuracy: 0.6132\n",
            "Epoch 6/10\n",
            "250/250 [==============================] - 4s 17ms/step - loss: 2.1067 - accuracy: 0.5502 - val_loss: 1.7747 - val_accuracy: 0.5572\n",
            "Epoch 7/10\n",
            "250/250 [==============================] - 4s 17ms/step - loss: 1.9951 - accuracy: 0.5586 - val_loss: 1.6178 - val_accuracy: 0.6216\n",
            "Epoch 8/10\n",
            "250/250 [==============================] - 4s 18ms/step - loss: 2.0033 - accuracy: 0.5594 - val_loss: 1.4451 - val_accuracy: 0.6285\n",
            "Epoch 9/10\n",
            "250/250 [==============================] - 4s 17ms/step - loss: 2.7771 - accuracy: 0.5345 - val_loss: 2.7987 - val_accuracy: 0.5491\n",
            "Epoch 10/10\n",
            "250/250 [==============================] - 4s 15ms/step - loss: 2.7581 - accuracy: 0.5473 - val_loss: 2.1565 - val_accuracy: 0.5400\n"
          ]
        }
      ]
    },
    {
      "cell_type": "code",
      "source": [
        "%tensorboard --logdir logs"
      ],
      "metadata": {
        "id": "mQGdP4q5eRHz"
      },
      "execution_count": null,
      "outputs": []
    },
    {
      "cell_type": "code",
      "source": [
        "norm_model = create_model(lr=0.1)\n",
        "lr_0_1_ = norm_model.fit(X_train_scaled, y_train, \n",
        "                  validation_data=(X_test_scaled, y_test),\n",
        "                  workers=-2, \n",
        "                  epochs=10, \n",
        "                  batch_size=300, \n",
        "                  verbose=1, \n",
        "                  callbacks=[tensorboard])"
      ],
      "metadata": {
        "id": "MrMawxdee1Nk"
      },
      "execution_count": null,
      "outputs": []
    },
    {
      "cell_type": "code",
      "source": [
        "%tensorboard --logdir logs"
      ],
      "metadata": {
        "id": "x84FzNacfA1X"
      },
      "execution_count": null,
      "outputs": []
    },
    {
      "cell_type": "code",
      "source": [
        "norm_model = create_model(lr=0.01)\n",
        "lr_0_01_ = norm_model.fit(X_train_scaled, y_train, \n",
        "                  validation_data=(X_test_scaled, y_test),\n",
        "                  workers=-2, \n",
        "                  epochs=10, \n",
        "                  batch_size=300, \n",
        "                  verbose=1, \n",
        "                  callbacks=[tensorboard])"
      ],
      "metadata": {
        "id": "xRFlAMZ6fSXj"
      },
      "execution_count": null,
      "outputs": []
    },
    {
      "cell_type": "code",
      "source": [
        "%tensorboard --logdir logs"
      ],
      "metadata": {
        "id": "Sh_pEM6Xfkj6"
      },
      "execution_count": null,
      "outputs": []
    },
    {
      "cell_type": "code",
      "source": [
        "norm_model = create_model(lr=0.001)\n",
        "lr_0_001_ = norm_model.fit(X_train_scaled, y_train, \n",
        "                  validation_data=(X_test_scaled, y_test),\n",
        "                  workers=-2, \n",
        "                  epochs=10, \n",
        "                  batch_size=300, \n",
        "                  verbose=1, \n",
        "                  callbacks=[tensorboard])"
      ],
      "metadata": {
        "id": "sZ71kUTJfqHZ"
      },
      "execution_count": null,
      "outputs": []
    },
    {
      "cell_type": "code",
      "source": [
        "%tensorboard --logdir logs"
      ],
      "metadata": {
        "id": "k2Cn79ZsgB5J"
      },
      "execution_count": null,
      "outputs": []
    },
    {
      "cell_type": "code",
      "source": [
        "norm_model = create_model(lr=0.0001)\n",
        "lr_0_0001_ = norm_model.fit(X_train_scaled, y_train, \n",
        "                  validation_data=(X_test_scaled, y_test),\n",
        "                  workers=-2, \n",
        "                  epochs=10, \n",
        "                  batch_size=300, \n",
        "                  verbose=1, \n",
        "                  callbacks=[tensorboard])"
      ],
      "metadata": {
        "id": "U13DGYnTgfSz"
      },
      "execution_count": null,
      "outputs": []
    },
    {
      "cell_type": "code",
      "source": [
        "%tensorboard --logdir logs"
      ],
      "metadata": {
        "id": "WGbB9XWOgkxT"
      },
      "execution_count": null,
      "outputs": []
    },
    {
      "cell_type": "code",
      "source": [
        "experiments = []\n",
        "\n",
        "for experiment, label in zip([lr_1, lr_0_1_, lr_0_01_, lr_0_01_, lr_0_0001_], [\"1.0_\", \".01_\", \".01_\", \".001_\", \".0001_\"]):\n",
        "\n",
        "    df = pd.DataFrame.from_dict(experiment.history)\n",
        "    df['epoch'] = df.index.values\n",
        "    df['Learning Rate'] = label\n",
        "\n",
        "    experiments.append(df)\n",
        "\n",
        "df = pd.concat(experiments,ignore_index=True)\n",
        "df['Learning Rate'] = df['Learning Rate'].astype('str')\n",
        "df"
      ],
      "metadata": {
        "id": "-V2cU8LahRlC"
      },
      "execution_count": null,
      "outputs": []
    },
    {
      "cell_type": "code",
      "source": [
        "sns.lineplot(x='epoch', y='val_accuracy', hue='Learning Rate', data=df);\n",
        "plt.grid()"
      ],
      "metadata": {
        "id": "ekUlCJLFpW-I"
      },
      "execution_count": null,
      "outputs": []
    },
    {
      "cell_type": "code",
      "source": [
        "sns.lineplot(x='epoch', y='val_loss', hue='Learning Rate', data=df);\n",
        "plt.grid()"
      ],
      "metadata": {
        "id": "treCrnwshpaJ"
      },
      "execution_count": null,
      "outputs": []
    },
    {
      "cell_type": "markdown",
      "source": [
        "YOUR ANSWER:\n",
        "\n",
        "- EXPERIMENT ANALYSIS AND BEST PERFORMING MODEL:\n",
        "\n",
        "Based on the learning rate performance visualization, it appears that the best performing model is likely the one with a learning rate of 0.001, as it achieves the lowest validation loss and highest validation accuracy overall.\n",
        "\n",
        "The learning rate of 1.0 appears to be too high for this particular model. The validation loss starts very high and ther validation accuracy starts very low. Neither of them show signs of improvement over the course of training. This model is not generalizing well to the validation set and is likely overfitting the training data.\n",
        "\n",
        "The validation accuracy for the model with learning rate of 0.1 appears to start decreasing after around 5-6 epochs, indicating that the model is overfitting to the training data. This behavior is consistent with the trend observed in the validation loss plot, where the validation loss starts increasing after around the same number of epochs.\n",
        "\n",
        "The model with a lower learning rate of 0.0001 appears to have slower convergence, as it achieves lower validation accuracy and higher validation loss in the early epochs.\n",
        "\n"
      ],
      "metadata": {
        "id": "xsoh67Lquko5"
      }
    },
    {
      "cell_type": "markdown",
      "metadata": {
        "id": "gxMtSRhV9Q7I"
      },
      "source": [
        "### Experiment with different Optimizers\n",
        "* Run a experiments with SGD optimizer available in TensorFlow. See documentation for [`tf.keras.optimizers`](https://www.tensorflow.org/api_docs/python/tf/keras/optimizers)\n",
        "* Visualize the results using `tensorboard`\n",
        "* Write up an analysis of the experiments and select the \"best\" performing model among your experiments. Make sure to compare against the previous experiments and your model's performance yesterday.\n",
        "* Repeat the experiment, this time combining Learning Rate and different optimizers in the same run. Does the best performing model change? "
      ]
    },
    {
      "cell_type": "code",
      "metadata": {
        "id": "ujLuzdNA91ip"
      },
      "source": [
        "norm_model = create_model(lr=0.001, opt='sgd')\n",
        "sgd_opt = norm_model.fit(X_train_scaled, y_train, \n",
        "                  validation_data=(X_test_scaled, y_test),\n",
        "                  workers=-2, \n",
        "                  epochs=10, \n",
        "                  batch_size=300, \n",
        "                  verbose=1, \n",
        "                  callbacks=[tensorboard])"
      ],
      "execution_count": null,
      "outputs": []
    },
    {
      "cell_type": "code",
      "source": [
        "%tensorboard --logdir logs"
      ],
      "metadata": {
        "id": "3QKiLJsO5dGY"
      },
      "execution_count": null,
      "outputs": []
    },
    {
      "cell_type": "markdown",
      "source": [
        "YOUR ANSWER:\n",
        "\n",
        "It is evident that the model with the Adam optimizer outperformed the one with the Stochastic Gradient Descent (SGD) optimizer based on the loss and accuracy metrics."
      ],
      "metadata": {
        "id": "ZyPHDjiu_Oek"
      }
    },
    {
      "cell_type": "markdown",
      "metadata": {
        "id": "FwlRJSfBlCvy"
      },
      "source": [
        "------\n",
        "\n",
        "## Stretch Goals: \n",
        "\n",
        "- On the learning rate experiments, implement [EarlyStopping](https://keras.io/api/callbacks/early_stopping/)\n",
        "- Review the math of Gradient Descent. "
      ]
    },
    {
      "cell_type": "code",
      "source": [
        "def scheduler(epoch):\n",
        "    lr = 1e-3 * 10**(epoch/5)\n",
        "    return lr\n",
        "\n",
        "# Here is the callback\n",
        "lr_schedule = tf.keras.callbacks.LearningRateScheduler(scheduler)"
      ],
      "metadata": {
        "id": "oq4mtutN7pLv"
      },
      "execution_count": null,
      "outputs": []
    },
    {
      "cell_type": "code",
      "source": [
        "epochs = 10\n",
        "batch_size = 300\n",
        "model_for_lr_schedule = create_model()\n",
        "history_for_lr_schedule = model_for_lr_schedule.fit(X_train, y_train, batch_size=batch_size,callbacks=[lr_schedule] , epochs=epochs)"
      ],
      "metadata": {
        "colab": {
          "base_uri": "https://localhost:8080/"
        },
        "id": "9dcxo8qR7uyO",
        "outputId": "69cc794d-8f62-4002-dead-977304cff696"
      },
      "execution_count": null,
      "outputs": [
        {
          "metadata": {
            "tags": null
          },
          "name": "stdout",
          "output_type": "stream",
          "text": [
            "Epoch 1/10\n",
            "250/250 [==============================] - 4s 13ms/step - loss: 1.0154 - accuracy: 0.6862 - lr: 0.0010\n",
            "Epoch 2/10\n",
            "250/250 [==============================] - 3s 11ms/step - loss: 0.8083 - accuracy: 0.7563 - lr: 0.0016\n",
            "Epoch 3/10\n",
            "250/250 [==============================] - 3s 12ms/step - loss: 0.8017 - accuracy: 0.7559 - lr: 0.0025\n",
            "Epoch 4/10\n",
            "250/250 [==============================] - 3s 13ms/step - loss: 0.8360 - accuracy: 0.7412 - lr: 0.0040\n",
            "Epoch 5/10\n",
            "250/250 [==============================] - 5s 18ms/step - loss: 0.8894 - accuracy: 0.7193 - lr: 0.0063\n",
            "Epoch 6/10\n",
            "250/250 [==============================] - 3s 11ms/step - loss: 0.9704 - accuracy: 0.6865 - lr: 0.0100\n",
            "Epoch 7/10\n",
            "250/250 [==============================] - 3s 11ms/step - loss: 1.0387 - accuracy: 0.6594 - lr: 0.0158\n",
            "Epoch 8/10\n",
            "250/250 [==============================] - 3s 11ms/step - loss: 1.1447 - accuracy: 0.6184 - lr: 0.0251\n",
            "Epoch 9/10\n",
            "250/250 [==============================] - 3s 14ms/step - loss: 1.2825 - accuracy: 0.5775 - lr: 0.0398\n",
            "Epoch 10/10\n",
            "250/250 [==============================] - 3s 12ms/step - loss: 1.9525 - accuracy: 0.4791 - lr: 0.0631\n"
          ]
        }
      ]
    },
    {
      "cell_type": "markdown",
      "source": [
        "YOUR ANSWER:\n",
        "\n",
        "We can observe that after epoch 2 the validation accuracy starts dropping and after epoch 5, the validation loss begins to rise as the learning rate increases, indicating that the model is no longer generalizing well and is overfitting the training data. This pattern shows that when we increase the learning rate too much, the optimizer may go past the best values for the model's weights, leading to poorer performance."
      ],
      "metadata": {
      }
    }
  ]
}