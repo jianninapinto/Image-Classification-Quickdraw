{
  "nbformat": 4,
  "nbformat_minor": 0,
  "metadata": {
    "colab": {
      "provenance": []
    },
    "kernelspec": {
      "display_name": "Python 3",
      "name": "python3"
    },
    "language_info": {
      "name": "python"
    },
    "nteract": {
      "version": "0.22.4"
    },
    "accelerator": "GPU",
    "gpuClass": "standard"
  },
  "cells": [
    {
      "cell_type": "markdown",
      "metadata": {
        "id": "NGGrt9EYlCqY"
      },
      "source": [
        "\n",
        "\n",
        "\n",
        "# *Data Science Unit 4 Sprint 2 Assignment 4*\n",
        "\n",
        "Continue to use TensorFlow Keras & a sample of the [Quickdraw dataset](https://github.com/googlecreativelab/quickdraw-dataset) to build a sketch classification model. The dataset has been sampled to only 10 classes and 10000 observations per class. Apply regularization techniques to your model. \n",
        "\n",
        "**Don't forget to switch to GPU on Colab!**\n",
        "\n",
        "\n",
        "## Objectives \n",
        "\n",
        "In lecture, you were exposed to several regularization techniques: Lp space regularization, Max Norm weight constraints, and dropout regularization.\n",
        "\n",
        "1: Explore the effects of these regularization techniques on model performance and on the learned model weights. \n",
        "\n",
        "2: Review how to save a model and how to retrieve the saved model from a file.\n",
        "\n",
        "\n",
        "\n"
      ]
    },
    {
      "cell_type": "markdown",
      "metadata": {
        "id": "ptJ2b3wk62Ud"
      },
      "source": [
        "#### Import libraries"
      ]
    },
    {
      "cell_type": "code",
      "metadata": {
        "id": "USXjs7Hk71Hy"
      },
      "source": [
        "# native libraries \n",
        "import os\n",
        "from time import time \n",
        "\n",
        "# data analysis libraries \n",
        "import numpy as np\n",
        "import pandas as pd\n",
        "import matplotlib.pyplot as plt\n",
        "import seaborn as sns\n",
        "\n",
        "# deep learning libraries \n",
        "import tensorflow as tf\n",
        "from tensorflow.keras import Sequential\n",
        "from tensorflow.keras.callbacks import EarlyStopping, TensorBoard\n",
        "from tensorflow.keras.layers import Flatten, Dense, Dropout\n",
        "from tensorflow.keras.layers import ReLU\n",
        "from tensorflow.keras.initializers import GlorotUniform\n",
        "from tensorflow.keras.utils import get_file\n",
        "\n",
        "\n",
        "\n",
        "# regularizers \n",
        "from tensorflow.keras.regularizers import l2, l1\n",
        "from tensorflow.keras.constraints import MaxNorm\n",
        "\n",
        "# required for compatibility between sklearn and keras\n",
        "from tensorflow.keras.wrappers.scikit_learn import KerasClassifier\n",
        "\n",
        "from sklearn.model_selection import GridSearchCV\n",
        "from sklearn.model_selection import train_test_split\n",
        "\n",
        "# native python unit test library\n",
        "from unittest import TestCase\n",
        "\n",
        "%matplotlib inline"
      ],
      "execution_count": null,
      "outputs": []
    },
    {
      "cell_type": "markdown",
      "metadata": {
        "id": "nDjNx1aVBfGU"
      },
      "source": [
        "-----\n",
        "# Part 1: GridSearch Experiments \n",
        "\n",
        "The next set of experiments will involve gridsearching regularization parameter values. \n",
        "\n",
        "The rest of the notebook will actually require very little coding on your part. Instead, the focus is for you to run those gridsearches and answer the questions at the end of each experiment. Those questions are designed to help you capture the insights that there are to learn from each of the experiments. \n",
        "\n",
        "All of the following experiments are designed to help you better understand the relationship between the various regularization techniques and how they affect model performance. \n",
        "\n",
        "\n",
        "### Build Model\n",
        "\n",
        "Let's build out the model that we'll be using all throughout our experiments. \n",
        "\n",
        "Remember that **the whole point of regularization is to prevent overfitting.**\n",
        "\n",
        "\n",
        "![](https://hackernoon.com/hn-images/1*vuZxFMi5fODz2OEcpG-S1g.png)\n",
        "\n",
        "Overfitting happens when our models are too complex, so in order to see a benefit from the use of regularization techniques we need to build a relatively complex model. \n",
        "\n",
        "Having said that, you might not have the computational resource to be able to train a complex model in a reasonable amount of time. So if this describes you, then you might want to consider using `build_simple_model`. Otherwise, use `build_complex_model`. \n",
        "\n",
        "In this notebook, we'll use  `build_complex_model` to run our experiments. \n",
        "\n",
        "**NOTE:** Whichever function you end up using to build a model, take time to read through the code and make sure you understand what is happening. "
      ]
    },
    {
      "cell_type": "markdown",
      "source": [
        "### Load the `quickdraw10` data set\n",
        "using code provided in the Module 3 assignment."
      ],
      "metadata": {
        "id": "BhyxXDgXfuHs"
      }
    },
    {
      "cell_type": "code",
      "source": [
        "# YOUR CODE HERE\n",
        "def load_quickdraw10():\n",
        "    \"\"\"\n",
        "    Loads the Quickdraw-10 dataset and splits it into training and testing sets.\n",
        "\n",
        "    The Quickdraw-10 dataset consists of drawings of 10 different classes:\n",
        "    - apple\n",
        "    - anvil\n",
        "    - airplane\n",
        "    - banana\n",
        "    - The Eiffel Tower\n",
        "    - The Mona Lisa\n",
        "    - The Great Wall of China\n",
        "    - alarm clock\n",
        "    - ant\n",
        "    - asparagus\n",
        "\n",
        "    Returns\n",
        "    -------\n",
        "      A tuple of four Numpy arrays: (X_train, X_test, y_train, y_test)\n",
        "\n",
        "      X_train : A 2D Numpy array of shape (num_train_samples, num_features) representing the\n",
        "             training data, where each row corresponds to a drawing and each column\n",
        "             corresponds to a feature.\n",
        "\n",
        "      X_test: A 2D Numpy array of shape (num_test_samples, num_features) representing the\n",
        "            testing data, where each row corresponds to a drawing and each column\n",
        "            corresponds to a feature.\n",
        "            \n",
        "      y_train: A 1D Numpy array of shape (num_train_samples,) representing the labels\n",
        "             of the training data.\n",
        "             \n",
        "      y_test: A 1D Numpy array of shape (num_test_samples,) representing the labels\n",
        "            of the testing data.\n",
        "    \"\"\"\n",
        "    \n",
        "    URL_ = \"https://github.com/LambdaSchool/DS-Unit-4-Sprint-2-Neural-Networks/blob/main/quickdraw10.npz?raw=true\"\n",
        "    \n",
        "    path_to_zip = get_file('./quickdraw10.npz', origin=URL_, extract=False)\n",
        "\n",
        "    data = np.load(path_to_zip)\n",
        "    \n",
        "    # normalize your image data\n",
        "    max_pixel_value = 255\n",
        "    X = data['arr_0']/max_pixel_value\n",
        "    Y = data['arr_1']\n",
        "        \n",
        "    return train_test_split(X, Y, shuffle=True)"
      ],
      "metadata": {
        "id": "9m7GEmeWfzYr"
      },
      "execution_count": null,
      "outputs": []
    },
    {
      "cell_type": "code",
      "source": [
        "X_train, X_test, y_train, y_test = load_quickdraw10()"
      ],
      "metadata": {
        "colab": {
          "base_uri": "https://localhost:8080/"
        },
        "id": "I01zj2qhFdZs",
        "outputId": "bff714b6-2b20-4e3a-cd20-a7f495ca79c4"
      },
      "execution_count": null,
      "outputs": [
        {
          "output_type": "stream",
          "name": "stdout",
          "text": [
            "Downloading data from https://github.com/LambdaSchool/DS-Unit-4-Sprint-2-Neural-Networks/blob/main/quickdraw10.npz?raw=true\n",
            "25421363/25421363 [==============================] - 0s 0us/step\n"
          ]
        }
      ]
    },
    {
      "cell_type": "code",
      "source": [
        "X_train.shape"
      ],
      "metadata": {
        "colab": {
          "base_uri": "https://localhost:8080/"
        },
        "id": "L6WW1if1Fk3z",
        "outputId": "26a521eb-ad97-483b-e867-e30cf01c8e6f"
      },
      "execution_count": null,
      "outputs": [
        {
          "output_type": "execute_result",
          "data": {
            "text/plain": [
              "(75000, 784)"
            ]
          },
          "metadata": {},
          "execution_count": 4
        }
      ]
    },
    {
      "cell_type": "code",
      "source": [
        "y_train.shape"
      ],
      "metadata": {
        "colab": {
          "base_uri": "https://localhost:8080/"
        },
        "id": "9ydM1EyfFmoT",
        "outputId": "1c77deef-97b4-42f8-8539-5a07875ac5f0"
      },
      "execution_count": null,
      "outputs": [
        {
          "output_type": "execute_result",
          "data": {
            "text/plain": [
              "(75000,)"
            ]
          },
          "metadata": {},
          "execution_count": 5
        }
      ]
    },
    {
      "cell_type": "markdown",
      "source": [
        "### Build the model"
      ],
      "metadata": {
        "id": "X3qyAkpDf2Uz"
      }
    },
    {
      "cell_type": "code",
      "source": [
        "def build_complex_model(Lp_reg=None, reg_penalty=None, dropout_prob=0.0, maxnorm_wc=None):\n",
        "    \"\"\"\n",
        "    Build and return a regularized 3 hidden layer FCFF model \n",
        "    \n",
        "    Parameters\n",
        "    ----------\n",
        "    Lp_reg: None or object\n",
        "        If object, Lp_reg is either l1 or l2 regularization \n",
        "        If None, that means that l1 or l2 regularization will not be used.\n",
        "     \n",
        "    reg_penalty: None or float\n",
        "        If float, reg_penalty is a value typically between 1.0 and 0.0001\n",
        "        This is the regularization strength for l1 or l2 \n",
        "        \n",
        "        \n",
        "    dropout_prob: float\n",
        "        This is the probability that dropout regularization will exclude a node from a training iteration. \n",
        "        If this value is 0.0, that means that dropout will not be used. \n",
        "        \n",
        "    maxnorm_wc: None or float\n",
        "        If float, maxnorm_wc is the weight constraint that is used for Max Norm regularization\n",
        "        If None, that means that Max Norm regularization will not be used.\n",
        "        \n",
        "        \n",
        "    Return\n",
        "    ------\n",
        "    model: compiled Keras model\n",
        "    \"\"\"\n",
        "    \n",
        "    # specify the input size\n",
        "    # YOUR CODE HERE\n",
        "    input_dim = X_train.shape[1]\n",
        "\n",
        "    # specify the number of neurons in the output layer\n",
        "    # YOUR CODE HERE\n",
        "    n_output = len(np.unique(y_train))\n",
        "\n",
        "    # if reg_type is not None, then pass in the penalty strength to whatever form of Lp space regularization this is \n",
        "    if Lp_reg is not None:\n",
        "        Lp_regularizer = Lp_reg(reg_penalty) # if LP_reg is not none, then it is assumed to be an L1 or L2 regularization object\n",
        "    else:\n",
        "        Lp_regularizer = None\n",
        "                \n",
        "    if maxnorm_wc is not None:\n",
        "        wc = MaxNorm(max_value=maxnorm_wc)\n",
        "    else:\n",
        "        wc = None\n",
        "\n",
        "\n",
        "    # instantiate Sequential class\n",
        "    model = Sequential([    \n",
        "\n",
        "    # hidden layer 1\n",
        "    Dense(500, kernel_regularizer=Lp_regularizer , kernel_constraint=wc, input_dim=input_dim), # remember that Keras refers to weight matrix as a kernel, i.e. weights = kernel\n",
        "    # act func 1\n",
        "    ReLU(negative_slope=0.01),\n",
        "    Dropout(dropout_prob),\n",
        "\n",
        "    # hidden layer 2\n",
        "    Dense(250, kernel_regularizer=Lp_regularizer, kernel_constraint=wc),\n",
        "    # act func 2\n",
        "    ReLU(negative_slope=0.01),\n",
        "    Dropout(dropout_prob),\n",
        "\n",
        "    # hidden layer 3\n",
        "    Dense(100, kernel_regularizer=Lp_regularizer, kernel_constraint=wc),\n",
        "    # act func 3\n",
        "    ReLU(negative_slope=0.01),\n",
        "    Dropout(dropout_prob),\n",
        "\n",
        "    # output layer   \n",
        "    Dense(n_output, activation=\"softmax\")  \n",
        "\n",
        "    ])\n",
        "    # compile model \n",
        "    model.compile(loss=\"sparse_categorical_crossentropy\", \n",
        "                 optimizer=\"adam\", \n",
        "                 metrics=[\"accuracy\"])\n",
        "    \n",
        "    return model"
      ],
      "metadata": {
        "id": "Rl7fR1Vvqauv"
      },
      "execution_count": null,
      "outputs": []
    },
    {
      "cell_type": "markdown",
      "metadata": {
        "id": "Tf7sg_qWBfGV"
      },
      "source": [
        "Again, only use `build_simple_model` instead of `build_complex_model` if you're working on a machine with very limited computational resources. "
      ]
    },
    {
      "cell_type": "code",
      "metadata": {
        "id": "2ZDOyeFUBfGV"
      },
      "source": [
        "# def build_simple_model(Lp_reg=None, reg_penalty=None, dropout_prob=0, maxnorm_wc=None):\n",
        "#     \"\"\"\n",
        "#     Build and return a regularized 1 hidden layer FCFF model \n",
        "    \n",
        "#     Parameters\n",
        "#     ----------\n",
        "#     Lp_reg: None or object\n",
        "#         If object, Lp_reg is either l1 or l2 regularization \n",
        "#         If None, that means that l1 or l2 regularization will not be used.\n",
        "     \n",
        "#     reg_penalty: None or float\n",
        "#         If float, reg_penalty is a value typically between 1.0 and 0.0001\n",
        "#         This is the regularization strength for l1 or l2 \n",
        "        \n",
        "        \n",
        "#     dropout_prob: float\n",
        "#         This is the probability that dropout regularization will exclude a node from a training iteration. \n",
        "#         If this value is 0.0, that means that dropout will not be used. \n",
        "        \n",
        "#     maxnorm_wc: None or float\n",
        "#         If float, maxnorm_wc is the weight constraint that is used for Max Norm regularization\n",
        "#         If None, that means that Max Norm regularization will not be used.\n",
        "        \n",
        "        \n",
        "#     Return\n",
        "#     ------\n",
        "#     model: compiled Keras model\n",
        "#     \"\"\"\n",
        "\n",
        "#    # specify the input size\n",
        "#    input_dim = # YOUR CODE HERE\n",
        "\n",
        "#    # specify the number of neurons in the output layer\n",
        "#    n_output = # YOUR CODE HERE\n",
        "\n",
        "#     if Lp_reg is not None:\n",
        "#         Lp_regularizer = Lp_reg(reg_penalty)\n",
        "#     else:\n",
        "#         Lp_regularizer = None\n",
        "\n",
        "#     # instantiate Sequential class\n",
        "#     model = Sequential([\n",
        "\n",
        "#     # hidden layer 1\n",
        "#     Dense(128,  kernel_regularizer=Lp_regularizer, kernel_constraint=maxnorm_wc, input_dim=input_dim), # remember that Keras refers to weight matrix as a kernel, i.e. weights = kernel\n",
        "#     # act func 1\n",
        "#     ReLU(negative_slope=0.01),\n",
        "#     Dropout(p_dropout),\n",
        "\n",
        "#     # output layer   \n",
        "#     Dense(n_output, activation=\"softmax\")  \n",
        "\n",
        "#     ])\n",
        "#     # compile model \n",
        "#     model.compile(loss=\"sparse_categorical_crossentropy\", \n",
        "#                  optimizer=\"adam\", \n",
        "#                  metrics=[\"accuracy\"])\n",
        "    \n",
        "#     return model"
      ],
      "execution_count": null,
      "outputs": []
    },
    {
      "cell_type": "markdown",
      "metadata": {
        "id": "RIAKpcTEBfGW"
      },
      "source": [
        "Since we'll be using sklearn's `GridsearchCV` class, we need to wrap our Keras models in `KerasClassifier`"
      ]
    },
    {
      "cell_type": "code",
      "source": [
        "# wrap KerasClassifier around build_model for compatibility with sklearn GridsearchCV \n",
        "model = KerasClassifier(build_fn = build_complex_model)"
      ],
      "metadata": {
        "colab": {
          "base_uri": "https://localhost:8080/"
        },
        "id": "IstAk4cgeOsX",
        "outputId": "cbd32f8f-5587-474b-b9ef-780aa4e696ae"
      },
      "execution_count": null,
      "outputs": [
        {
          "output_type": "stream",
          "name": "stderr",
          "text": [
            "<ipython-input-8-2d67b99a9966>:2: DeprecationWarning: KerasClassifier is deprecated, use Sci-Keras (https://github.com/adriangb/scikeras) instead. See https://www.adriangb.com/scikeras/stable/migration.html for help migrating.\n",
            "  model = KerasClassifier(build_fn = build_complex_model)\n"
          ]
        }
      ]
    },
    {
      "cell_type": "markdown",
      "metadata": {
        "id": "6LJi-YVMBfGW"
      },
      "source": [
        "-------\n",
        "\n",
        "# Experiment 1: Identify the relationship between model performance and L2 penalty strength\n",
        "\n",
        "![](https://www.researchgate.net/publication/334159821/figure/fig1/AS:776025558495234@1562030319993/Ridge-regression-variable-selection.png)\n",
        "\n",
        "_Note: <br>\n",
        "In the right panel of the above diagram, **SSE** <br>\n",
        "stands for \"Sum of Squared Errors\".<br>\n",
        "In the left panel, **ESS** is a typo that should read **SSE**._<br>\n",
        "\n",
        "We are going to run a gridsearch solely on the L2 regularization penalty value and see the effect this has on model performance. \n",
        "\n",
        "By running a gridseach on only a single hyperparameter (while using the same data and model) we can isolate the effect of that hyperparameter. <br><br>\n"
      ]
    },
    {
      "cell_type": "code",
      "metadata": {
        "id": "dxJ5Bc6HF2C0"
      },
      "source": [
        "# build out our hyperparameter dictionary \n",
        "hyper_parameters = {\n",
        "    # take note that Lp_reg penalty/strength values are in powers of 10 \n",
        "    \"reg_penalty\": [10.0, 1.0, 0.1, 0.01, 0.001, 0.0001, 0.00001], \n",
        "    # Since we only want to test l2, provide l2 as the sole option \n",
        "    \"Lp_reg\": [l2],\n",
        "    # default is 1, in order to change it we must provide value here because we can't provide a parameter value for model.fit() directly when using gridsearch\n",
        "    # protip: consider changing epochs to 1 if the gridsearch run-time is too long for you\n",
        "    \"epochs\": [3] \n",
        "}"
      ],
      "execution_count": null,
      "outputs": []
    },
    {
      "cell_type": "code",
      "source": [
        "start=time()\n",
        "# takes about 7 min on Colab with GPU\n",
        "# Create and run Grid Search\n",
        "grid = GridSearchCV(estimator=model, \n",
        "                    param_grid=hyper_parameters, \n",
        "                    n_jobs=-3, \n",
        "                    verbose=1, \n",
        "                    cv=3)\n",
        "\n",
        "grid_result = grid.fit(X_train, y_train)\n",
        "end=time()"
      ],
      "metadata": {
        "id": "qMRyjO6Gbl5I",
        "colab": {
          "base_uri": "https://localhost:8080/"
        },
        "outputId": "f73038bd-c590-4b01-8aae-78ddca5b12a7"
      },
      "execution_count": null,
      "outputs": [
        {
          "output_type": "stream",
          "name": "stdout",
          "text": [
            "Fitting 3 folds for each of 7 candidates, totalling 21 fits\n",
            "Epoch 1/3\n",
            "1563/1563 [==============================] - 15s 4ms/step - loss: 165.7249 - accuracy: 0.1022\n",
            "Epoch 2/3\n",
            "1563/1563 [==============================] - 5s 3ms/step - loss: 2.3029 - accuracy: 0.1004\n",
            "Epoch 3/3\n",
            "1563/1563 [==============================] - 5s 3ms/step - loss: 2.3029 - accuracy: 0.1015\n",
            "782/782 [==============================] - 2s 2ms/step - loss: 2.3030 - accuracy: 0.0999\n",
            "Epoch 1/3\n",
            "1563/1563 [==============================] - 7s 4ms/step - loss: 166.6939 - accuracy: 0.0997\n",
            "Epoch 2/3\n",
            "1563/1563 [==============================] - 5s 3ms/step - loss: 2.3029 - accuracy: 0.0986\n",
            "Epoch 3/3\n",
            "1563/1563 [==============================] - 6s 4ms/step - loss: 2.3030 - accuracy: 0.1020\n",
            "782/782 [==============================] - 2s 2ms/step - loss: 2.3030 - accuracy: 0.0988\n",
            "Epoch 1/3\n",
            "1563/1563 [==============================] - 6s 3ms/step - loss: 165.8738 - accuracy: 0.1027\n",
            "Epoch 2/3\n",
            "1563/1563 [==============================] - 5s 4ms/step - loss: 2.3028 - accuracy: 0.0999\n",
            "Epoch 3/3\n",
            "1563/1563 [==============================] - 5s 3ms/step - loss: 2.3029 - accuracy: 0.1007\n",
            "782/782 [==============================] - 2s 3ms/step - loss: 2.3031 - accuracy: 0.0968\n",
            "Epoch 1/3\n",
            "1563/1563 [==============================] - 7s 3ms/step - loss: 18.6378 - accuracy: 0.1029\n",
            "Epoch 2/3\n",
            "1563/1563 [==============================] - 5s 3ms/step - loss: 2.3027 - accuracy: 0.1008\n",
            "Epoch 3/3\n",
            "1563/1563 [==============================] - 5s 3ms/step - loss: 2.3028 - accuracy: 0.1005\n",
            "782/782 [==============================] - 3s 3ms/step - loss: 2.3027 - accuracy: 0.1009\n",
            "Epoch 1/3\n",
            "1563/1563 [==============================] - 7s 4ms/step - loss: 18.7043 - accuracy: 0.1031\n",
            "Epoch 2/3\n",
            "1563/1563 [==============================] - 5s 3ms/step - loss: 2.3028 - accuracy: 0.0982\n",
            "Epoch 3/3\n",
            "1563/1563 [==============================] - 6s 4ms/step - loss: 2.3028 - accuracy: 0.0990\n",
            "782/782 [==============================] - 2s 2ms/step - loss: 2.3027 - accuracy: 0.0985\n",
            "Epoch 1/3\n",
            "1563/1563 [==============================] - 7s 4ms/step - loss: 18.6737 - accuracy: 0.1012\n",
            "Epoch 2/3\n",
            "1563/1563 [==============================] - 5s 3ms/step - loss: 2.3028 - accuracy: 0.1015\n",
            "Epoch 3/3\n",
            "1563/1563 [==============================] - 6s 4ms/step - loss: 2.3027 - accuracy: 0.0976\n",
            "782/782 [==============================] - 2s 2ms/step - loss: 2.3034 - accuracy: 0.0976\n",
            "Epoch 1/3\n",
            "1563/1563 [==============================] - 6s 3ms/step - loss: 3.6002 - accuracy: 0.4753\n",
            "Epoch 2/3\n",
            "1563/1563 [==============================] - 6s 4ms/step - loss: 1.6758 - accuracy: 0.5754\n",
            "Epoch 3/3\n",
            "1563/1563 [==============================] - 5s 3ms/step - loss: 1.5903 - accuracy: 0.5953\n",
            "782/782 [==============================] - 2s 3ms/step - loss: 1.5694 - accuracy: 0.6061\n",
            "Epoch 1/3\n",
            "1563/1563 [==============================] - 6s 3ms/step - loss: 3.6085 - accuracy: 0.4752\n",
            "Epoch 2/3\n",
            "1563/1563 [==============================] - 6s 4ms/step - loss: 1.6821 - accuracy: 0.5676\n",
            "Epoch 3/3\n",
            "1563/1563 [==============================] - 5s 3ms/step - loss: 1.6000 - accuracy: 0.5898\n",
            "782/782 [==============================] - 2s 2ms/step - loss: 1.5606 - accuracy: 0.5967\n",
            "Epoch 1/3\n",
            "1563/1563 [==============================] - 7s 4ms/step - loss: 3.6165 - accuracy: 0.4613\n",
            "Epoch 2/3\n",
            "1563/1563 [==============================] - 5s 3ms/step - loss: 1.6883 - accuracy: 0.5703\n",
            "Epoch 3/3\n",
            "1563/1563 [==============================] - 6s 4ms/step - loss: 1.6029 - accuracy: 0.5937\n",
            "782/782 [==============================] - 2s 2ms/step - loss: 1.5536 - accuracy: 0.6060\n",
            "Epoch 1/3\n",
            "1563/1563 [==============================] - 7s 3ms/step - loss: 1.6695 - accuracy: 0.7280\n",
            "Epoch 2/3\n",
            "1563/1563 [==============================] - 5s 3ms/step - loss: 1.0486 - accuracy: 0.7763\n",
            "Epoch 3/3\n",
            "1563/1563 [==============================] - 5s 3ms/step - loss: 0.9661 - accuracy: 0.7936\n",
            "782/782 [==============================] - 3s 3ms/step - loss: 0.9186 - accuracy: 0.8030\n",
            "Epoch 1/3\n",
            "1563/1563 [==============================] - 7s 3ms/step - loss: 1.6704 - accuracy: 0.7335\n",
            "Epoch 2/3\n",
            "1563/1563 [==============================] - 6s 4ms/step - loss: 1.0430 - accuracy: 0.7823\n",
            "Epoch 3/3\n",
            "1563/1563 [==============================] - 5s 3ms/step - loss: 0.9609 - accuracy: 0.7950\n",
            "782/782 [==============================] - 3s 3ms/step - loss: 0.9527 - accuracy: 0.7988\n",
            "Epoch 1/3\n",
            "1563/1563 [==============================] - 6s 3ms/step - loss: 1.6499 - accuracy: 0.7357\n",
            "Epoch 2/3\n",
            "1563/1563 [==============================] - 6s 4ms/step - loss: 1.0398 - accuracy: 0.7794\n",
            "Epoch 3/3\n",
            "1563/1563 [==============================] - 5s 3ms/step - loss: 0.9555 - accuracy: 0.7985\n",
            "782/782 [==============================] - 3s 3ms/step - loss: 0.9413 - accuracy: 0.7998\n",
            "Epoch 1/3\n",
            "1563/1563 [==============================] - 6s 3ms/step - loss: 1.1176 - accuracy: 0.7890\n",
            "Epoch 2/3\n",
            "1563/1563 [==============================] - 6s 4ms/step - loss: 0.7527 - accuracy: 0.8402\n",
            "Epoch 3/3\n",
            "1563/1563 [==============================] - 5s 3ms/step - loss: 0.6685 - accuracy: 0.8535\n",
            "782/782 [==============================] - 2s 3ms/step - loss: 0.6649 - accuracy: 0.8522\n",
            "Epoch 1/3\n",
            "1563/1563 [==============================] - 6s 3ms/step - loss: 1.1162 - accuracy: 0.7873\n",
            "Epoch 2/3\n",
            "1563/1563 [==============================] - 6s 4ms/step - loss: 0.7557 - accuracy: 0.8370\n",
            "Epoch 3/3\n",
            "1563/1563 [==============================] - 5s 3ms/step - loss: 0.6746 - accuracy: 0.8511\n",
            "782/782 [==============================] - 2s 3ms/step - loss: 0.7023 - accuracy: 0.8350\n",
            "Epoch 1/3\n",
            "1563/1563 [==============================] - 6s 3ms/step - loss: 1.1069 - accuracy: 0.7903\n",
            "Epoch 2/3\n",
            "1563/1563 [==============================] - 6s 4ms/step - loss: 0.7441 - accuracy: 0.8398\n",
            "Epoch 3/3\n",
            "1563/1563 [==============================] - 5s 3ms/step - loss: 0.6640 - accuracy: 0.8536\n",
            "782/782 [==============================] - 2s 3ms/step - loss: 0.6770 - accuracy: 0.8458\n",
            "Epoch 1/3\n",
            "1563/1563 [==============================] - 6s 3ms/step - loss: 0.7567 - accuracy: 0.8004\n",
            "Epoch 2/3\n",
            "1563/1563 [==============================] - 6s 4ms/step - loss: 0.5729 - accuracy: 0.8585\n",
            "Epoch 3/3\n",
            "1563/1563 [==============================] - 5s 3ms/step - loss: 0.5084 - accuracy: 0.8825\n",
            "782/782 [==============================] - 2s 3ms/step - loss: 0.5973 - accuracy: 0.8580\n",
            "Epoch 1/3\n",
            "1563/1563 [==============================] - 6s 3ms/step - loss: 0.7572 - accuracy: 0.7965\n",
            "Epoch 2/3\n",
            "1563/1563 [==============================] - 6s 4ms/step - loss: 0.5718 - accuracy: 0.8579\n",
            "Epoch 3/3\n",
            "1563/1563 [==============================] - 5s 3ms/step - loss: 0.5100 - accuracy: 0.8792\n",
            "782/782 [==============================] - 2s 2ms/step - loss: 0.5808 - accuracy: 0.8630\n",
            "Epoch 1/3\n",
            "1563/1563 [==============================] - 7s 3ms/step - loss: 0.7570 - accuracy: 0.7992\n",
            "Epoch 2/3\n",
            "1563/1563 [==============================] - 5s 3ms/step - loss: 0.5709 - accuracy: 0.8602\n",
            "Epoch 3/3\n",
            "1563/1563 [==============================] - 6s 4ms/step - loss: 0.5101 - accuracy: 0.8814\n",
            "782/782 [==============================] - 2s 2ms/step - loss: 0.5821 - accuracy: 0.8624\n",
            "Epoch 1/3\n",
            "1563/1563 [==============================] - 7s 4ms/step - loss: 0.6607 - accuracy: 0.7989\n",
            "Epoch 2/3\n",
            "1563/1563 [==============================] - 5s 3ms/step - loss: 0.4655 - accuracy: 0.8642\n",
            "Epoch 3/3\n",
            "1563/1563 [==============================] - 6s 4ms/step - loss: 0.3873 - accuracy: 0.8865\n",
            "782/782 [==============================] - 2s 2ms/step - loss: 0.4964 - accuracy: 0.8632\n",
            "Epoch 1/3\n",
            "1563/1563 [==============================] - 6s 3ms/step - loss: 0.6677 - accuracy: 0.7977\n",
            "Epoch 2/3\n",
            "1563/1563 [==============================] - 6s 4ms/step - loss: 0.4637 - accuracy: 0.8628\n",
            "Epoch 3/3\n",
            "1563/1563 [==============================] - 5s 3ms/step - loss: 0.3864 - accuracy: 0.8871\n",
            "782/782 [==============================] - 2s 2ms/step - loss: 0.4861 - accuracy: 0.8663\n",
            "Epoch 1/3\n",
            "1563/1563 [==============================] - 8s 5ms/step - loss: 0.6569 - accuracy: 0.8029\n",
            "Epoch 2/3\n",
            "1563/1563 [==============================] - 7s 4ms/step - loss: 0.4608 - accuracy: 0.8643\n",
            "Epoch 3/3\n",
            "1563/1563 [==============================] - 6s 4ms/step - loss: 0.3809 - accuracy: 0.8895\n",
            "782/782 [==============================] - 2s 2ms/step - loss: 0.5016 - accuracy: 0.8554\n",
            "Epoch 1/3\n",
            "2344/2344 [==============================] - 10s 4ms/step - loss: 0.6209 - accuracy: 0.8144\n",
            "Epoch 2/3\n",
            "2344/2344 [==============================] - 8s 3ms/step - loss: 0.4454 - accuracy: 0.8705\n",
            "Epoch 3/3\n",
            "2344/2344 [==============================] - 8s 4ms/step - loss: 0.3803 - accuracy: 0.8914\n"
          ]
        }
      ]
    },
    {
      "cell_type": "code",
      "metadata": {
        "id": "DZb-QpxvBfGX",
        "colab": {
          "base_uri": "https://localhost:8080/"
        },
        "outputId": "9515723f-6e71-4d38-b825-b90193c61c52"
      },
      "source": [
        "print(\"Gridsearch runtime {0:.3} mins\".format( (end-start)/60 ))"
      ],
      "execution_count": null,
      "outputs": [
        {
          "output_type": "stream",
          "name": "stdout",
          "text": [
            "Gridsearch runtime 8.78 mins\n"
          ]
        }
      ]
    },
    {
      "cell_type": "code",
      "metadata": {
        "id": "FS1Vlh21BfGY",
        "colab": {
          "base_uri": "https://localhost:8080/",
          "height": 386
        },
        "outputId": "dcf7d815-bf62-4408-9ff8-2cedcfbc1808"
      },
      "source": [
        "# use the mean accuracy from the CV splits for determining best model score \n",
        "means = grid_result.cv_results_['mean_test_score']\n",
        "stds = grid_result.cv_results_['std_test_score']\n",
        "params = grid_result.cv_results_['params']\n",
        "\n",
        "# move l2 penalty values outside of dictionary and into a list\n",
        "param_values = [param_dict[\"reg_penalty\"] for param_dict in params]\n",
        "\n",
        "# plot accuracy vs l2_reg_penalty\n",
        "plt.figure(figsize=(20,6))\n",
        "plt.grid()\n",
        "\n",
        "# this plot is using the std of the CV splits to plot error bars however those values are so small that they aren't visable\n",
        "plt.errorbar(param_values, means, yerr=stds, ecolor=\"orange\")\n",
        "plt.xscale(\"log\") # use a log scale for ease of reading, recall that l2_reg_penalty were in powers of 10 \n",
        "plt.title(\"L2 Regularization: Model Accuracy vs L2 Penalty Strength\")\n",
        "plt.ylabel(\"Validation Accuracy\", )\n",
        "plt.xlabel(\"L2 Penalty Strength usng a Log Scale\");"
      ],
      "execution_count": null,
      "outputs": [
        {
          "output_type": "display_data",
          "data": {
            "text/plain": [
              "<Figure size 1440x432 with 1 Axes>"
            ],
            "image/png": "[encoded data removed]"
          },
          "metadata": {
            "needs_background": "light"
          }
        }
      ]
    },
    {
      "cell_type": "code",
      "source": [
        "grid_result.best_params_[\"reg_penalty\"]"
      ],
      "metadata": {
        "id": "Sx-mSG_2WEND",
        "colab": {
          "base_uri": "https://localhost:8080/"
        },
        "outputId": "c2836cd2-ce4e-4465-fdc8-d9861d8756f8"
      },
      "execution_count": null,
      "outputs": [
        {
          "output_type": "execute_result",
          "data": {
            "text/plain": [
              "1e-05"
            ]
          },
          "metadata": {},
          "execution_count": 13
        }
      ]
    },
    {
      "cell_type": "markdown",
      "metadata": {
        "id": "Vc4hfY52BfGY"
      },
      "source": [
        "### Observations\n",
        "\n",
        "Write down some observations. What do you notice from the plot?"
      ]
    },
    {
      "cell_type": "markdown",
      "metadata": {
        "deletable": false,
        "nbgrader": {
          "cell_type": "markdown",
          "checksum": "089b55b5a84d9c96c51fd341d9e6c74f",
          "grade": true,
          "grade_id": "cell-010212fc0915b976",
          "locked": false,
          "points": 0,
          "schema_version": 3,
          "solution": true,
          "task": false
        },
        "id": "G0Z92bfrBfGY"
      },
      "source": [
        "YOUR ANSWER HERE\n",
        "\n",
        "The plot shows the validation accuracy as a function of the L2 penalty strength. We can see that as the L2 penalty strength increases, the validation accuracy decreases. This happens because a higher L2 penalty strength enforces stronger regularization to help prevent overfitting , but it may also result in underfitting the training data, leading to a lower validation accuracy.\n",
        "\n",
        "The sweet spot for the L2 penalty strength in the plot is shown at the point where the validation accuracy is the highest, in this case 0.00001. This means that the model performs best when the L2 penalty strength is weaker.\n",
        "\n",
        "The error bars in the plot indicate the standard deviation of the validation accuracy across the different cross-validation splits. It seems like there is some variability in the accuracy estimates for different L2 penalty strengths."
      ]
    },
    {
      "cell_type": "markdown",
      "metadata": {
        "id": "qKoqryhBBfGZ"
      },
      "source": [
        "\n",
        "## Compare Weights between the Best Model and a Worse Model \n",
        "\n",
        "Next, we are going to compare the hidden layer weights between the best and worst performing model while taking note of the respective L2 penalty strengths."
      ]
    },
    {
      "cell_type": "code",
      "metadata": {
        "id": "4Rb3l6GuBfGZ"
      },
      "source": [
        "# get the best l2 penalty term \n",
        "best_lr_penalty = grid_result.best_params_[\"reg_penalty\"]\n",
        "\n",
        "# get the best trained model\n",
        "#     a model that is wrapped in the KerasClassifier wrapper doesn't have a .get_weights() method.\n",
        "#     So this is the workaround to generate a version of the model that does have a .get_weights() method\n",
        "best_model = grid_result.best_estimator_.build_fn(Lp_reg=l2, reg_penalty=best_lr_penalty)\n",
        "\n",
        "# get the weights from the best trained model \n",
        "best_weights = best_model.get_weights()"
      ],
      "execution_count": null,
      "outputs": []
    },
    {
      "cell_type": "code",
      "metadata": {
        "id": "eFxgfRA4BfGZ",
        "colab": {
          "base_uri": "https://localhost:8080/"
        },
        "outputId": "cd24feb0-43c3-4192-fb4b-15be6b0a234e"
      },
      "source": [
        "# train a model using the l2_reg_penalty value that scored the lowest \n",
        "worse_l2_reg_penalty = 1.0\n",
        "\n",
        "worse_model = build_complex_model(Lp_reg=l2, reg_penalty=worse_l2_reg_penalty)\n",
        "\n",
        "# fit model \n",
        "worse_model.fit(X_train, y_train, epochs=1)\n",
        "\n",
        "# get weights from worst performing model \n",
        "worse_weights = worse_model.get_weights()"
      ],
      "execution_count": null,
      "outputs": [
        {
          "output_type": "stream",
          "name": "stdout",
          "text": [
            "2344/2344 [==============================] - 9s 3ms/step - loss: 13.2041 - accuracy: 0.1010\n"
          ]
        }
      ]
    },
    {
      "cell_type": "markdown",
      "metadata": {
        "id": "ZJHi51iABfGZ"
      },
      "source": [
        "-----\n",
        "## Understanding how Weights and Biases are stored"
      ]
    },
    {
      "cell_type": "markdown",
      "metadata": {
        "id": "dgo_lKxFBfGZ"
      },
      "source": [
        "Let's take a minute to understand that`.get_weights()` returns a list with 8 elements (if you're using `build_complex_model`)."
      ]
    },
    {
      "cell_type": "code",
      "metadata": {
        "id": "TMdhtUWRBfGZ",
        "colab": {
          "base_uri": "https://localhost:8080/"
        },
        "outputId": "532e3b21-56ed-483f-c52b-d738131ca08a"
      },
      "source": [
        "len(best_weights)"
      ],
      "execution_count": null,
      "outputs": [
        {
          "output_type": "execute_result",
          "data": {
            "text/plain": [
              "8"
            ]
          },
          "metadata": {},
          "execution_count": 16
        }
      ]
    },
    {
      "cell_type": "markdown",
      "metadata": {
        "id": "6raIvOpOBfGa"
      },
      "source": [
        "There are **weights matrices and bias vectors between each layer** and we have 5 layers. The last 4 layers are composed of neurons. \n",
        "\n",
        "- Input\n",
        "- Hidden 1\n",
        "- Hidden 2\n",
        "- Hidden 3\n",
        "- Output \n",
        "\n",
        "So we should have a weight matrix and a bias vector from each neuron layer, <br>which accounts for $4 + 4 = 8$ elements in the list.\n",
        "\n",
        "\n",
        "#### Index for Weight Matrices \n",
        "If you index for a weight matrix, you can see its shape and that they are indeed matrices. \n",
        "\n",
        "Notice how you can see the dims of the layers that the matrices are sandwiched between?\n",
        "\n",
        "The input layer has 784 dims and hidden layer 1 has 500 neurons. <br>\n",
        "So the first weight matrix should have a column of weights for each neuron; and each column has 784 weights.\n",
        "Given this understanding, the numbers you see in the shapes of the weight and bias arrays should make sense. "
      ]
    },
    {
      "cell_type": "code",
      "metadata": {
        "id": "p8Wmj_pjBfGa",
        "colab": {
          "base_uri": "https://localhost:8080/"
        },
        "outputId": "88129d37-6d9a-42fe-9668-e56ea5360323"
      },
      "source": [
        "# bewteen input and 1st hidden layer\n",
        "best_weights[0].shape"
      ],
      "execution_count": null,
      "outputs": [
        {
          "output_type": "execute_result",
          "data": {
            "text/plain": [
              "(784, 500)"
            ]
          },
          "metadata": {},
          "execution_count": 17
        }
      ]
    },
    {
      "cell_type": "code",
      "metadata": {
        "id": "bRnY8DHHBfGa",
        "colab": {
          "base_uri": "https://localhost:8080/"
        },
        "outputId": "0fd706ad-df26-41b6-ca24-e3c3e89a823e"
      },
      "source": [
        "# bewteen 1st and 2nd hidden layer\n",
        "best_weights[2].shape"
      ],
      "execution_count": null,
      "outputs": [
        {
          "output_type": "execute_result",
          "data": {
            "text/plain": [
              "(500, 250)"
            ]
          },
          "metadata": {},
          "execution_count": 18
        }
      ]
    },
    {
      "cell_type": "code",
      "metadata": {
        "id": "aCQ-QZI4BfGb",
        "colab": {
          "base_uri": "https://localhost:8080/"
        },
        "outputId": "0c39be8b-0861-4f27-f421-ad9a949821ed"
      },
      "source": [
        "# bewteen 2nd and 3rd hidden layer\n",
        "best_weights[4].shape"
      ],
      "execution_count": null,
      "outputs": [
        {
          "output_type": "execute_result",
          "data": {
            "text/plain": [
              "(250, 100)"
            ]
          },
          "metadata": {},
          "execution_count": 19
        }
      ]
    },
    {
      "cell_type": "code",
      "metadata": {
        "id": "LiD6Ij2BBfGb",
        "colab": {
          "base_uri": "https://localhost:8080/"
        },
        "outputId": "f1c18779-66b6-4782-aadc-b5e78feee3ae"
      },
      "source": [
        "# bewteen 3rd hidden layer and output layer\n",
        "best_weights[6].shape"
      ],
      "execution_count": null,
      "outputs": [
        {
          "output_type": "execute_result",
          "data": {
            "text/plain": [
              "(100, 10)"
            ]
          },
          "metadata": {},
          "execution_count": 20
        }
      ]
    },
    {
      "cell_type": "markdown",
      "metadata": {
        "id": "v9rAIBBuBfGb"
      },
      "source": [
        "#### Index for the bias vectors\n",
        "\n",
        "The shapes of the bias vectors should exactly match up the dims/nodes of each layer (excluding the input layer). "
      ]
    },
    {
      "cell_type": "code",
      "metadata": {
        "id": "j5c97T5NBfGb",
        "colab": {
          "base_uri": "https://localhost:8080/"
        },
        "outputId": "d9b6b294-bec7-44c4-9ef6-dc525d321123"
      },
      "source": [
        "# for hidden layer 1 \n",
        "best_weights[1].shape"
      ],
      "execution_count": null,
      "outputs": [
        {
          "output_type": "execute_result",
          "data": {
            "text/plain": [
              "(500,)"
            ]
          },
          "metadata": {},
          "execution_count": 21
        }
      ]
    },
    {
      "cell_type": "code",
      "metadata": {
        "id": "YWABwgJgBfGc",
        "colab": {
          "base_uri": "https://localhost:8080/"
        },
        "outputId": "d3dfe6b3-abab-47db-c865-01a8b55d455a"
      },
      "source": [
        "# for hidden layer 2 \n",
        "best_weights[3].shape"
      ],
      "execution_count": null,
      "outputs": [
        {
          "output_type": "execute_result",
          "data": {
            "text/plain": [
              "(250,)"
            ]
          },
          "metadata": {},
          "execution_count": 22
        }
      ]
    },
    {
      "cell_type": "code",
      "metadata": {
        "id": "juFKoCftBfGc",
        "colab": {
          "base_uri": "https://localhost:8080/"
        },
        "outputId": "0b469427-5f03-44aa-ebb7-15b90b613dc3"
      },
      "source": [
        "# for hidden layer 3\n",
        "best_weights[5].shape"
      ],
      "execution_count": null,
      "outputs": [
        {
          "output_type": "execute_result",
          "data": {
            "text/plain": [
              "(100,)"
            ]
          },
          "metadata": {},
          "execution_count": 23
        }
      ]
    },
    {
      "cell_type": "code",
      "metadata": {
        "id": "_uul71OiBfGc",
        "colab": {
          "base_uri": "https://localhost:8080/"
        },
        "outputId": "968644f0-a6c6-4b43-d31b-3c415afda3f5"
      },
      "source": [
        "# for output layer\n",
        "best_weights[7].shape"
      ],
      "execution_count": null,
      "outputs": [
        {
          "output_type": "execute_result",
          "data": {
            "text/plain": [
              "(10,)"
            ]
          },
          "metadata": {},
          "execution_count": 24
        }
      ]
    },
    {
      "cell_type": "markdown",
      "metadata": {
        "id": "7uwdFhiWBfGc"
      },
      "source": [
        "-----\n",
        "\n",
        "### Back to our Analysis of L2 space regularization (also known as Ridge)\n",
        "\n",
        "To gauge the performance effect of L2 regularization, we'll compare the weights for the 1st hidden layer from the best and worst performing models from our hyperparameter search space, as well as with the initial weight values that are randomly sampled from the GlorotUniform distribution.\n",
        "\n",
        "[**Check out the Keras docs for the Dense layer**](https://keras.io/api/layers/core_layers/dense/), you'll see that GlorotUniform is the default weight initializer. \n",
        "\n",
        "Read the docs to figure out how to get the weights from a Keras dense layer.\n",
        "Also have a look at this helpful post on StackOverflow: [**How to view initialized weights (i.e. before training)?**](https://stackoverflow.com/questions/46798708/how-to-view-initialized-weights-i-e-before-training)\n"
      ]
    },
    {
      "cell_type": "markdown",
      "metadata": {
        "id": "UdmuttujBfGd"
      },
      "source": [
        "Before we compare weights, let's take note of the following. \n",
        "\n",
        "Both `best_weights[0]` or `worse_weights[0]` are matrices with shape `(784, 500)`. \n",
        "\n",
        "If we flatten them, then we get `784 * 500 = 392000` weights. What does this mean exactly?\n",
        "\n",
        "Remember that we are working with the Fully Connected Feed-Forward model which looks something like this. \n",
        "\n",
        "![](https://pyimagesearch.com/wp-content/uploads/2016/08/simple_neural_network_header.jpg)\n",
        "\n",
        "In Fully Connected neural network models, the outputs from a layer become the inputs for the next layer. Each output from a layer is passed as an input to all the nodes in next layer.<br>\n",
        "Our input layer has $784$ output weights which are the pixel values in the image. Each neuron (or node) in hidden layer $1$ also has $784$ weights, one for each pixel input.  Hidden layer 1 has $500$ neurons. So the weights are conveniently represented as a **weights matrix** with $784$ rows (one row for each pixel in the input image) and $500$ columns (one column for each neuron in the layer). The $i$th column of the weights matrix holds the $784$ weights $\\textbf{w}_{i}$ belonging to the $i$th neuron in the layer.\n",
        "\n",
        "To keep our analysis simple, we are going to analyze only the weights corresponding to the first neuron in hidden layer $1$, whose weights $\\textbf{w}_{1}$ are the first column of the weight matrix.  <br><br>\n",
        "\n",
        "We will observe the effect of L2 regularization on neuron 1 in hidden layer 1.\n"
      ]
    },
    {
      "cell_type": "code",
      "metadata": {
        "deletable": false,
        "nbgrader": {
          "cell_type": "code",
          "checksum": "a3f75126a80a74dd71fb0a9ab2b8b89f",
          "grade": false,
          "grade_id": "cell-7882876b8973bc7b",
          "locked": false,
          "schema_version": 3,
          "solution": true,
          "task": false
        },
        "id": "xomeoSW4BfGd"
      },
      "source": [
        "# YOUR CODE HERE\n",
        "\n",
        "# index for the 1st column (784 entries) in the 1st hidden layer weights in best_weights and save to best_hidden_weights\n",
        "best_hidden_weights = best_weights[0][0].flatten()\n",
        "# index for the 1st column (784 entries) in the 1st hidden layer weights in worse_weights and save to worse_hidden_weights\n",
        "worse_hidden_weights = worse_weights[0][0].flatten()\n",
        "\n",
        "# Keras models randomly samples from the GlorotUniform distribution for the initial values of model weights \n",
        "# instantiate GlorotUniform and sample 784 weights and save to initial_weight_values\n",
        "# Build a data frame with these 3 vectors as columns\n",
        "initializer = GlorotUniform(seed=1234)\n",
        "initial_weight_values = initializer(shape=(784, 1)).numpy().flatten()\n",
        "\n",
        "# raise NotImplementedError()"
      ],
      "execution_count": null,
      "outputs": []
    },
    {
      "cell_type": "code",
      "metadata": {
        "id": "zaRHQzP2BfGe"
      },
      "source": [
        "# move all weights to a dataframe for ease of analysis \n",
        "cols = [\"best_hidden_weights\", \"worse_hidden_weights\", \"initial_weight_values\"]\n",
        "data = [best_hidden_weights, worse_hidden_weights, initial_weight_values]\n",
        "df = pd.DataFrame(data=data).T\n",
        "df.columns = cols"
      ],
      "execution_count": null,
      "outputs": []
    },
    {
      "cell_type": "code",
      "metadata": {
        "id": "GTxYblbIBfGe",
        "colab": {
          "base_uri": "https://localhost:8080/",
          "height": 300
        },
        "outputId": "87255636-3af1-4818-e274-44ddaf971929"
      },
      "source": [
        "# check out the statistics for each weight column \n",
        "df.describe()"
      ],
      "execution_count": null,
      "outputs": [
        {
          "output_type": "execute_result",
          "data": {
            "text/plain": [
              "       best_hidden_weights  worse_hidden_weights  initial_weight_values\n",
              "count           500.000000          5.000000e+02             784.000000\n",
              "mean             -0.000749          8.529865e-07               0.000399\n",
              "std               0.039164          2.038480e-05               0.049670\n",
              "min              -0.068040         -2.316647e-05              -0.087288\n",
              "25%              -0.033711         -6.001742e-39              -0.040161\n",
              "50%              -0.003729          1.902487e-40              -0.000564\n",
              "75%               0.033736          6.281568e-39               0.043224\n",
              "max               0.067054          4.551067e-04               0.087155"
            ],
            "text/html": [
              "\n",
              "  <div id=\"df-d08dc768-4408-4943-a673-edce0e9b4e0b\">\n",
              "    <div class=\"colab-df-container\">\n",
              "      <div>\n",
              "<style scoped>\n",
              "    .dataframe tbody tr th:only-of-type {\n",
              "        vertical-align: middle;\n",
              "    }\n",
              "\n",
              "    .dataframe tbody tr th {\n",
              "        vertical-align: top;\n",
              "    }\n",
              "\n",
              "    .dataframe thead th {\n",
              "        text-align: right;\n",
              "    }\n",
              "</style>\n",
              "<table border=\"1\" class=\"dataframe\">\n",
              "  <thead>\n",
              "    <tr style=\"text-align: right;\">\n",
              "      <th></th>\n",
              "      <th>best_hidden_weights</th>\n",
              "      <th>worse_hidden_weights</th>\n",
              "      <th>initial_weight_values</th>\n",
              "    </tr>\n",
              "  </thead>\n",
              "  <tbody>\n",
              "    <tr>\n",
              "      <th>count</th>\n",
              "      <td>500.000000</td>\n",
              "      <td>5.000000e+02</td>\n",
              "      <td>784.000000</td>\n",
              "    </tr>\n",
              "    <tr>\n",
              "      <th>mean</th>\n",
              "      <td>-0.000749</td>\n",
              "      <td>8.529865e-07</td>\n",
              "      <td>0.000399</td>\n",
              "    </tr>\n",
              "    <tr>\n",
              "      <th>std</th>\n",
              "      <td>0.039164</td>\n",
              "      <td>2.038480e-05</td>\n",
              "      <td>0.049670</td>\n",
              "    </tr>\n",
              "    <tr>\n",
              "      <th>min</th>\n",
              "      <td>-0.068040</td>\n",
              "      <td>-2.316647e-05</td>\n",
              "      <td>-0.087288</td>\n",
              "    </tr>\n",
              "    <tr>\n",
              "      <th>25%</th>\n",
              "      <td>-0.033711</td>\n",
              "      <td>-6.001742e-39</td>\n",
              "      <td>-0.040161</td>\n",
              "    </tr>\n",
              "    <tr>\n",
              "      <th>50%</th>\n",
              "      <td>-0.003729</td>\n",
              "      <td>1.902487e-40</td>\n",
              "      <td>-0.000564</td>\n",
              "    </tr>\n",
              "    <tr>\n",
              "      <th>75%</th>\n",
              "      <td>0.033736</td>\n",
              "      <td>6.281568e-39</td>\n",
              "      <td>0.043224</td>\n",
              "    </tr>\n",
              "    <tr>\n",
              "      <th>max</th>\n",
              "      <td>0.067054</td>\n",
              "      <td>4.551067e-04</td>\n",
              "      <td>0.087155</td>\n",
              "    </tr>\n",
              "  </tbody>\n",
              "</table>\n",
              "</div>\n",
              "      <button class=\"colab-df-convert\" onclick=\"convertToInteractive('df-d08dc768-4408-4943-a673-edce0e9b4e0b')\"\n",
              "              title=\"Convert this dataframe to an interactive table.\"\n",
              "              style=\"display:none;\">\n",
              "        \n",
              "  <svg xmlns=\"http://www.w3.org/2000/svg\" height=\"24px\"viewBox=\"0 0 24 24\"\n",
              "       width=\"24px\">\n",
              "    <path d=\"M0 0h24v24H0V0z\" fill=\"none\"/>\n",
              "    <path d=\"M18.56 5.44l.94 2.06.94-2.06 2.06-.94-2.06-.94-.94-2.06-.94 2.06-2.06.94zm-11 1L8.5 8.5l.94-2.06 2.06-.94-2.06-.94L8.5 2.5l-.94 2.06-2.06.94zm10 10l.94 2.06.94-2.06 2.06-.94-2.06-.94-.94-2.06-.94 2.06-2.06.94z\"/><path d=\"M17.41 7.96l-1.37-1.37c-.4-.4-.92-.59-1.43-.59-.52 0-1.04.2-1.43.59L10.3 9.45l-7.72 7.72c-.78.78-.78 2.05 0 2.83L4 21.41c.39.39.9.59 1.41.59.51 0 1.02-.2 1.41-.59l7.78-7.78 2.81-2.81c.8-.78.8-2.07 0-2.86zM5.41 20L4 18.59l7.72-7.72 1.47 1.35L5.41 20z\"/>\n",
              "  </svg>\n",
              "      </button>\n",
              "      \n",
              "  <style>\n",
              "    .colab-df-container {\n",
              "      display:flex;\n",
              "      flex-wrap:wrap;\n",
              "      gap: 12px;\n",
              "    }\n",
              "\n",
              "    .colab-df-convert {\n",
              "      background-color: #E8F0FE;\n",
              "      border: none;\n",
              "      border-radius: 50%;\n",
              "      cursor: pointer;\n",
              "      display: none;\n",
              "      fill: #1967D2;\n",
              "      height: 32px;\n",
              "      padding: 0 0 0 0;\n",
              "      width: 32px;\n",
              "    }\n",
              "\n",
              "    .colab-df-convert:hover {\n",
              "      background-color: #E2EBFA;\n",
              "      box-shadow: 0px 1px 2px rgba(60, 64, 67, 0.3), 0px 1px 3px 1px rgba(60, 64, 67, 0.15);\n",
              "      fill: #174EA6;\n",
              "    }\n",
              "\n",
              "    [theme=dark] .colab-df-convert {\n",
              "      background-color: #3B4455;\n",
              "      fill: #D2E3FC;\n",
              "    }\n",
              "\n",
              "    [theme=dark] .colab-df-convert:hover {\n",
              "      background-color: #434B5C;\n",
              "      box-shadow: 0px 1px 3px 1px rgba(0, 0, 0, 0.15);\n",
              "      filter: drop-shadow(0px 1px 2px rgba(0, 0, 0, 0.3));\n",
              "      fill: #FFFFFF;\n",
              "    }\n",
              "  </style>\n",
              "\n",
              "      <script>\n",
              "        const buttonEl =\n",
              "          document.querySelector('#df-d08dc768-4408-4943-a673-edce0e9b4e0b button.colab-df-convert');\n",
              "        buttonEl.style.display =\n",
              "          google.colab.kernel.accessAllowed ? 'block' : 'none';\n",
              "\n",
              "        async function convertToInteractive(key) {\n",
              "          const element = document.querySelector('#df-d08dc768-4408-4943-a673-edce0e9b4e0b');\n",
              "          const dataTable =\n",
              "            await google.colab.kernel.invokeFunction('convertToInteractive',\n",
              "                                                     [key], {});\n",
              "          if (!dataTable) return;\n",
              "\n",
              "          const docLinkHtml = 'Like what you see? Visit the ' +\n",
              "            '<a target=\"_blank\" href=https://colab.research.google.com/notebooks/data_table.ipynb>data table notebook</a>'\n",
              "            + ' to learn more about interactive tables.';\n",
              "          element.innerHTML = '';\n",
              "          dataTable['output_type'] = 'display_data';\n",
              "          await google.colab.output.renderOutput(dataTable, element);\n",
              "          const docLink = document.createElement('div');\n",
              "          docLink.innerHTML = docLinkHtml;\n",
              "          element.appendChild(docLink);\n",
              "        }\n",
              "      </script>\n",
              "    </div>\n",
              "  </div>\n",
              "  "
            ]
          },
          "metadata": {},
          "execution_count": 27
        }
      ]
    },
    {
      "cell_type": "code",
      "metadata": {
        "id": "4Np8LOGIBfGe",
        "colab": {
          "base_uri": "https://localhost:8080/",
          "height": 686
        },
        "outputId": "e9e01244-35c0-4c16-c983-81fa0de0426a"
      },
      "source": [
        "# plot the distributions for each weight column \n",
        "df.hist(figsize=(20,12));"
      ],
      "execution_count": null,
      "outputs": [
        {
          "output_type": "display_data",
          "data": {
            "text/plain": [
              "<Figure size 1440x864 with 4 Axes>"
            ],
            "image/png": "[encoded data removed]"
          },
          "metadata": {
            "needs_background": "light"
          }
        }
      ]
    },
    {
      "cell_type": "markdown",
      "metadata": {
        "id": "PAtwX9QfBfGe"
      },
      "source": [
        "## Observations \n",
        "\n",
        "Take a look at the statistical table and the plots. Then answer the following questions. \n",
        "\n",
        "**How do the hidden layer weights from the best performing model compare to the initial weight values?**"
      ]
    },
    {
      "cell_type": "markdown",
      "metadata": {
        "deletable": false,
        "nbgrader": {
          "cell_type": "markdown",
          "checksum": "5eacb66f89b216ae3b4bb3c4b7bd6d38",
          "grade": true,
          "grade_id": "cell-6add7cc400c4c716",
          "locked": false,
          "points": 0,
          "schema_version": 3,
          "solution": true,
          "task": false
        },
        "id": "GcB8C891BfGe"
      },
      "source": [
        "YOUR ANSWER HERE\n",
        "\n",
        "Both the best_hidden_weights and the worse_hidden_weights have a narrower range compared to the initial_weight_values. This is because the best_hidden_weights were reduced in size as a result of implementing L2 regularization. "
      ]
    },
    {
      "cell_type": "markdown",
      "metadata": {
        "id": "6ssnJofqBfGf"
      },
      "source": [
        "**What was the effect of using a small L2 penalty value (regularization constant)?**"
      ]
    },
    {
      "cell_type": "markdown",
      "metadata": {
        "deletable": false,
        "nbgrader": {
          "cell_type": "markdown",
          "checksum": "92ac1689b72d727ab7f4d261c5e76daa",
          "grade": true,
          "grade_id": "cell-5b4f11bba2d49639",
          "locked": false,
          "points": 0,
          "schema_version": 3,
          "solution": true,
          "task": false
        },
        "id": "N3PyRkv_BfGf"
      },
      "source": [
        "YOUR ANSWER HERE\n",
        "\n",
        "When using a small penalty value, L2 regularization reduced the weights to a value close to zero, but not all the way down to zero. This shrinking process was not excessively aggressive. "
      ]
    },
    {
      "cell_type": "markdown",
      "metadata": {
        "id": "_dIM4qL5BfGf"
      },
      "source": [
        "**What was the effect of using a large L2 penalty value?**"
      ]
    },
    {
      "cell_type": "markdown",
      "metadata": {
        "deletable": false,
        "nbgrader": {
          "cell_type": "markdown",
          "checksum": "3048a6d2805f61d6fb58372c42c3ac54",
          "grade": true,
          "grade_id": "cell-0a30b62e5e119555",
          "locked": false,
          "points": 0,
          "schema_version": 3,
          "solution": true,
          "task": false
        },
        "id": "yhaLO6-CBfGf"
      },
      "source": [
        "YOUR ANSWER HERE\n",
        "\n",
        "The utilization of a high penalty value in L2 regularization resulted in most weights being reduced to zero, indicating an excessively aggressive shrinking process."
      ]
    },
    {
      "cell_type": "markdown",
      "metadata": {
        "id": "8rDYEPbsBfGg"
      },
      "source": [
        "**Given what you know about L2 regularization, are you surprised by these results?**"
      ]
    },
    {
      "cell_type": "markdown",
      "metadata": {
        "deletable": false,
        "nbgrader": {
          "cell_type": "markdown",
          "checksum": "d8a2034f67badfe53f601873f7026dc0",
          "grade": true,
          "grade_id": "cell-c04d067161064011",
          "locked": false,
          "points": 0,
          "schema_version": 3,
          "solution": true,
          "task": false
        },
        "id": "m3Nt5LmOBfGg"
      },
      "source": [
        "YOUR ANSWER HERE\n",
        "\n",
        "No, I am not surprised by this outcome as L2 regularization is acknowledged for shrinking weight values, although typically not down to zero, in order to enhance model performance and avoid overfitting. However, if the penalty value surpasses 0.01, which is considered strong, the weight values will tend towards zero or approach zero, leading to a poorly performing model."
      ]
    },
    {
      "cell_type": "markdown",
      "metadata": {
        "id": "0SI5IBq8BfGg"
      },
      "source": [
        "----\n",
        "\n",
        "# Experiment 2: Identify the relationship between model performance and Max Norm Weight Constraint\n",
        "\n",
        "![](https://qph.fs.quoracdn.net/main-qimg-9d0dbf8074761b541ba80543ddfc9f73.webp)\n",
        "\n",
        "Recall from lecture that the **norm** of a vector is another word for the **length** of the vector.\n",
        "\n",
        "`MaxNorm` weight constraint puts a limit on the norm of the weight vector.\n",
        "\n",
        "The effect that Lp regularization and `MaxNorm` regularization have on the weights is similar, but they go about it in different ways. \n",
        "\n",
        "While Lp regularization (L1/Lasso and L2/Ridge) shrink the weight values by imposing constraints on their L1 and L2 norms, `MaxNorm` regularization shrinks the weight values by imposing a limit on the norm of a weight vector. Here's how it works: if an update would push the norm of a weight vector above MaxNorm, a scale factor is applied to all the weights so as to shrink the norm back to MaxNorm. \n",
        "\n",
        "In this experiment, we'll run another gridseach, similar to the one we ran for L2 regularization in the previous experiment. This time, we are going to gauge the effect of `MaxNorm` regularization on model performance and the distribution of the learned weights. As in the previous experiment, we will simplify our analysis by focusing on the weights for the first neuron in the first hidden layer."
      ]
    },
    {
      "cell_type": "markdown",
      "metadata": {
        "id": "ChP-sILzBfGg"
      },
      "source": [
        "Since we already built our model, we just need to update the `hyper_parameters` dictionary. "
      ]
    },
    {
      "cell_type": "code",
      "metadata": {
        "id": "5xdqcr6WBfGg",
        "colab": {
          "base_uri": "https://localhost:8080/"
        },
        "outputId": "685d319e-45c1-4fc4-f3e7-893eaf5e9b52"
      },
      "source": [
        "# build out our hyperparameter dictionary \n",
        "hyper_parameters = {\n",
        "    \n",
        "    \"maxnorm_wc\": np.linspace(0.5, 10.0, num=20), \n",
        "    # default is 1, in order to change it we must provide value here because we can't provide a parameter value for model.fit() directly when using gridsearch\n",
        "    # protip: consider changing epochs to 1 if the gridsearche run-time are too long for you    \n",
        "    \"epochs\": [1] \n",
        "}\n",
        "\n",
        "hyper_parameters"
      ],
      "execution_count": null,
      "outputs": [
        {
          "output_type": "execute_result",
          "data": {
            "text/plain": [
              "{'maxnorm_wc': array([ 0.5,  1. ,  1.5,  2. ,  2.5,  3. ,  3.5,  4. ,  4.5,  5. ,  5.5,\n",
              "         6. ,  6.5,  7. ,  7.5,  8. ,  8.5,  9. ,  9.5, 10. ]), 'epochs': [1]}"
            ]
          },
          "metadata": {},
          "execution_count": 29
        }
      ]
    },
    {
      "cell_type": "code",
      "metadata": {
        "id": "AGQiKwo0BfGh",
        "colab": {
          "base_uri": "https://localhost:8080/"
        },
        "outputId": "a8ee0c0c-300b-4df1-fc90-901ed10988dd"
      },
      "source": [
        "start=time()\n",
        "# Create and run Grid Search\n",
        "grid = GridSearchCV(estimator=model, \n",
        "                    param_grid=hyper_parameters, \n",
        "                    n_jobs=-2, \n",
        "                    verbose=1, \n",
        "                    cv=3)\n",
        "\n",
        "grid_result = grid.fit(X_train, y_train)\n",
        "end=time()"
      ],
      "execution_count": null,
      "outputs": [
        {
          "output_type": "stream",
          "name": "stdout",
          "text": [
            "Fitting 3 folds for each of 20 candidates, totalling 60 fits\n",
            "1563/1563 [==============================] - 7s 4ms/step - loss: 0.7527 - accuracy: 0.7633\n",
            "782/782 [==============================] - 2s 2ms/step - loss: 0.6683 - accuracy: 0.7957\n",
            "1563/1563 [==============================] - 8s 4ms/step - loss: 0.7477 - accuracy: 0.7666\n",
            "782/782 [==============================] - 6s 7ms/step - loss: 0.6490 - accuracy: 0.8023\n",
            "1563/1563 [==============================] - 8s 4ms/step - loss: 0.7419 - accuracy: 0.7678\n",
            "782/782 [==============================] - 2s 2ms/step - loss: 0.6354 - accuracy: 0.8034\n",
            "1563/1563 [==============================] - 7s 4ms/step - loss: 0.6685 - accuracy: 0.7939\n",
            "782/782 [==============================] - 2s 2ms/step - loss: 0.5569 - accuracy: 0.8314\n",
            "1563/1563 [==============================] - 7s 4ms/step - loss: 0.6632 - accuracy: 0.7943\n",
            "782/782 [==============================] - 2s 2ms/step - loss: 0.5376 - accuracy: 0.8361\n",
            "1563/1563 [==============================] - 8s 4ms/step - loss: 0.6641 - accuracy: 0.7953\n",
            "782/782 [==============================] - 2s 2ms/step - loss: 0.5395 - accuracy: 0.8352\n",
            "1563/1563 [==============================] - 7s 4ms/step - loss: 0.6485 - accuracy: 0.8020\n",
            "782/782 [==============================] - 2s 2ms/step - loss: 0.5299 - accuracy: 0.8397\n",
            "1563/1563 [==============================] - 7s 4ms/step - loss: 0.6539 - accuracy: 0.7990\n",
            "782/782 [==============================] - 2s 2ms/step - loss: 0.5765 - accuracy: 0.8265\n",
            "1563/1563 [==============================] - 7s 4ms/step - loss: 0.6474 - accuracy: 0.8006\n",
            "782/782 [==============================] - 2s 2ms/step - loss: 0.5170 - accuracy: 0.8415\n",
            "1563/1563 [==============================] - 7s 4ms/step - loss: 0.6505 - accuracy: 0.7997\n",
            "782/782 [==============================] - 2s 2ms/step - loss: 0.5014 - accuracy: 0.8483\n",
            "1563/1563 [==============================] - 8s 4ms/step - loss: 0.6601 - accuracy: 0.7985\n",
            "782/782 [==============================] - 2s 2ms/step - loss: 0.5037 - accuracy: 0.8499\n",
            "1563/1563 [==============================] - 7s 4ms/step - loss: 0.6508 - accuracy: 0.7997\n",
            "782/782 [==============================] - 2s 2ms/step - loss: 0.5411 - accuracy: 0.8332\n",
            "1563/1563 [==============================] - 7s 4ms/step - loss: 0.6515 - accuracy: 0.7979\n",
            "782/782 [==============================] - 2s 2ms/step - loss: 0.5129 - accuracy: 0.8442\n",
            "1563/1563 [==============================] - 8s 4ms/step - loss: 0.6501 - accuracy: 0.7985\n",
            "782/782 [==============================] - 2s 2ms/step - loss: 0.5469 - accuracy: 0.8352\n",
            "1563/1563 [==============================] - 7s 4ms/step - loss: 0.6474 - accuracy: 0.8010\n",
            "782/782 [==============================] - 2s 2ms/step - loss: 0.5050 - accuracy: 0.8489\n",
            "1563/1563 [==============================] - 8s 4ms/step - loss: 0.6518 - accuracy: 0.8021\n",
            "782/782 [==============================] - 2s 2ms/step - loss: 0.5134 - accuracy: 0.8448\n",
            "1563/1563 [==============================] - 7s 4ms/step - loss: 0.6509 - accuracy: 0.7991\n",
            "782/782 [==============================] - 2s 2ms/step - loss: 0.5257 - accuracy: 0.8392\n",
            "1563/1563 [==============================] - 7s 4ms/step - loss: 0.6465 - accuracy: 0.8008\n",
            "782/782 [==============================] - 2s 2ms/step - loss: 0.5304 - accuracy: 0.8376\n",
            "1563/1563 [==============================] - 7s 4ms/step - loss: 0.6544 - accuracy: 0.7990\n",
            "782/782 [==============================] - 2s 2ms/step - loss: 0.5128 - accuracy: 0.8397\n",
            "1563/1563 [==============================] - 7s 4ms/step - loss: 0.6549 - accuracy: 0.7988\n",
            "782/782 [==============================] - 2s 2ms/step - loss: 0.5281 - accuracy: 0.8427\n",
            "1563/1563 [==============================] - 7s 4ms/step - loss: 0.6509 - accuracy: 0.8007\n",
            "782/782 [==============================] - 2s 2ms/step - loss: 0.5292 - accuracy: 0.8402\n",
            "1563/1563 [==============================] - 7s 4ms/step - loss: 0.6523 - accuracy: 0.7991\n",
            "782/782 [==============================] - 2s 3ms/step - loss: 0.5163 - accuracy: 0.8414\n",
            "1563/1563 [==============================] - 7s 4ms/step - loss: 0.6549 - accuracy: 0.7984\n",
            "782/782 [==============================] - 2s 2ms/step - loss: 0.5111 - accuracy: 0.8483\n",
            "1563/1563 [==============================] - 7s 4ms/step - loss: 0.6483 - accuracy: 0.7997\n",
            "782/782 [==============================] - 2s 2ms/step - loss: 0.5300 - accuracy: 0.8377\n",
            "1563/1563 [==============================] - 7s 4ms/step - loss: 0.6471 - accuracy: 0.8021\n",
            "782/782 [==============================] - 2s 2ms/step - loss: 0.5389 - accuracy: 0.8367\n",
            "1563/1563 [==============================] - 8s 4ms/step - loss: 0.6562 - accuracy: 0.7979\n",
            "782/782 [==============================] - 2s 2ms/step - loss: 0.5123 - accuracy: 0.8429\n",
            "1563/1563 [==============================] - 11s 5ms/step - loss: 0.6494 - accuracy: 0.7989\n",
            "782/782 [==============================] - 5s 5ms/step - loss: 0.5295 - accuracy: 0.8382\n",
            "1563/1563 [==============================] - 11s 5ms/step - loss: 0.6482 - accuracy: 0.7996\n",
            "782/782 [==============================] - 2s 2ms/step - loss: 0.5214 - accuracy: 0.8409\n",
            "1563/1563 [==============================] - 7s 4ms/step - loss: 0.6475 - accuracy: 0.8004\n",
            "782/782 [==============================] - 2s 3ms/step - loss: 0.5456 - accuracy: 0.8334\n",
            "1563/1563 [==============================] - 8s 4ms/step - loss: 0.6483 - accuracy: 0.8008\n",
            "782/782 [==============================] - 2s 2ms/step - loss: 0.5235 - accuracy: 0.8423\n",
            "1563/1563 [==============================] - 8s 4ms/step - loss: 0.6518 - accuracy: 0.7993\n",
            "782/782 [==============================] - 2s 2ms/step - loss: 0.5348 - accuracy: 0.8365\n",
            "1563/1563 [==============================] - 7s 4ms/step - loss: 0.6483 - accuracy: 0.8000\n",
            "782/782 [==============================] - 2s 2ms/step - loss: 0.5231 - accuracy: 0.8388\n",
            "1563/1563 [==============================] - 7s 4ms/step - loss: 0.6494 - accuracy: 0.8007\n",
            "782/782 [==============================] - 2s 2ms/step - loss: 0.5457 - accuracy: 0.8328\n",
            "1563/1563 [==============================] - 7s 4ms/step - loss: 0.6533 - accuracy: 0.7991\n",
            "782/782 [==============================] - 3s 3ms/step - loss: 0.5262 - accuracy: 0.8396\n",
            "1563/1563 [==============================] - 7s 4ms/step - loss: 0.6490 - accuracy: 0.8006\n",
            "782/782 [==============================] - 2s 2ms/step - loss: 0.5108 - accuracy: 0.8477\n",
            "1563/1563 [==============================] - 7s 4ms/step - loss: 0.6490 - accuracy: 0.7981\n",
            "782/782 [==============================] - 2s 2ms/step - loss: 0.5385 - accuracy: 0.8352\n",
            "1563/1563 [==============================] - 8s 4ms/step - loss: 0.6548 - accuracy: 0.7995\n",
            "782/782 [==============================] - 2s 2ms/step - loss: 0.5264 - accuracy: 0.8386\n",
            "1563/1563 [==============================] - 7s 4ms/step - loss: 0.6524 - accuracy: 0.8000\n",
            "782/782 [==============================] - 2s 2ms/step - loss: 0.5230 - accuracy: 0.8392\n",
            "1563/1563 [==============================] - 8s 4ms/step - loss: 0.6507 - accuracy: 0.8000\n",
            "782/782 [==============================] - 2s 2ms/step - loss: 0.5319 - accuracy: 0.8377\n",
            "1563/1563 [==============================] - 8s 4ms/step - loss: 0.6505 - accuracy: 0.7984\n",
            "782/782 [==============================] - 2s 2ms/step - loss: 0.5049 - accuracy: 0.8464\n",
            "1563/1563 [==============================] - 7s 4ms/step - loss: 0.6547 - accuracy: 0.7962\n",
            "782/782 [==============================] - 4s 4ms/step - loss: 0.5048 - accuracy: 0.8457\n",
            "1563/1563 [==============================] - 8s 4ms/step - loss: 0.6500 - accuracy: 0.8004\n",
            "782/782 [==============================] - 2s 2ms/step - loss: 0.5504 - accuracy: 0.8330\n",
            "1563/1563 [==============================] - 8s 4ms/step - loss: 0.6501 - accuracy: 0.7995\n",
            "782/782 [==============================] - 2s 2ms/step - loss: 0.5119 - accuracy: 0.8431\n",
            "1563/1563 [==============================] - 9s 5ms/step - loss: 0.6547 - accuracy: 0.7991\n",
            "782/782 [==============================] - 2s 3ms/step - loss: 0.5300 - accuracy: 0.8388\n",
            "1563/1563 [==============================] - 7s 4ms/step - loss: 0.6433 - accuracy: 0.8016\n",
            "782/782 [==============================] - 2s 2ms/step - loss: 0.5590 - accuracy: 0.8295\n",
            "1563/1563 [==============================] - 7s 4ms/step - loss: 0.6584 - accuracy: 0.7982\n",
            "782/782 [==============================] - 2s 2ms/step - loss: 0.5417 - accuracy: 0.8322\n",
            "1563/1563 [==============================] - 7s 4ms/step - loss: 0.6519 - accuracy: 0.7965\n",
            "782/782 [==============================] - 2s 2ms/step - loss: 0.5201 - accuracy: 0.8437\n",
            "1563/1563 [==============================] - 9s 4ms/step - loss: 0.6518 - accuracy: 0.8011\n",
            "782/782 [==============================] - 3s 3ms/step - loss: 0.5117 - accuracy: 0.8437\n",
            "1563/1563 [==============================] - 8s 4ms/step - loss: 0.6513 - accuracy: 0.7998\n",
            "782/782 [==============================] - 2s 2ms/step - loss: 0.5119 - accuracy: 0.8443\n",
            "1563/1563 [==============================] - 7s 4ms/step - loss: 0.6510 - accuracy: 0.7992\n",
            "782/782 [==============================] - 2s 2ms/step - loss: 0.5337 - accuracy: 0.8386\n",
            "1563/1563 [==============================] - 8s 4ms/step - loss: 0.6502 - accuracy: 0.7997\n",
            "782/782 [==============================] - 2s 2ms/step - loss: 0.5273 - accuracy: 0.8385\n",
            "1563/1563 [==============================] - 7s 4ms/step - loss: 0.6524 - accuracy: 0.7990\n",
            "782/782 [==============================] - 2s 2ms/step - loss: 0.5063 - accuracy: 0.8481\n",
            "1563/1563 [==============================] - 7s 4ms/step - loss: 0.6522 - accuracy: 0.8003\n",
            "782/782 [==============================] - 2s 2ms/step - loss: 0.5270 - accuracy: 0.8382\n",
            "1563/1563 [==============================] - 7s 4ms/step - loss: 0.6517 - accuracy: 0.7992\n",
            "782/782 [==============================] - 2s 3ms/step - loss: 0.5188 - accuracy: 0.8429\n",
            "1563/1563 [==============================] - 7s 4ms/step - loss: 0.6487 - accuracy: 0.8020\n",
            "782/782 [==============================] - 2s 2ms/step - loss: 0.4999 - accuracy: 0.8499\n",
            "1563/1563 [==============================] - 7s 4ms/step - loss: 0.6547 - accuracy: 0.7994\n",
            "782/782 [==============================] - 2s 2ms/step - loss: 0.5257 - accuracy: 0.8403\n",
            "1563/1563 [==============================] - 7s 4ms/step - loss: 0.6467 - accuracy: 0.8006\n",
            "782/782 [==============================] - 2s 2ms/step - loss: 0.5303 - accuracy: 0.8392\n",
            "1563/1563 [==============================] - 8s 4ms/step - loss: 0.6531 - accuracy: 0.7996\n",
            "782/782 [==============================] - 2s 2ms/step - loss: 0.5058 - accuracy: 0.8459\n",
            "1563/1563 [==============================] - 8s 4ms/step - loss: 0.6520 - accuracy: 0.8003\n",
            "782/782 [==============================] - 2s 2ms/step - loss: 0.5253 - accuracy: 0.8352\n",
            "1563/1563 [==============================] - 7s 4ms/step - loss: 0.6498 - accuracy: 0.8011\n",
            "782/782 [==============================] - 2s 2ms/step - loss: 0.5461 - accuracy: 0.8303\n",
            "2344/2344 [==============================] - 10s 4ms/step - loss: 0.6002 - accuracy: 0.8171\n"
          ]
        }
      ]
    },
    {
      "cell_type": "code",
      "metadata": {
        "id": "pslQN3T-BfGh",
        "colab": {
          "base_uri": "https://localhost:8080/"
        },
        "outputId": "945d377e-c6ee-4125-de3e-5aa2ba8e8cbd"
      },
      "source": [
        "print(\"Gridsearch runtime {0:.3} mins\".format( (end-start)/60 ))"
      ],
      "execution_count": null,
      "outputs": [
        {
          "output_type": "stream",
          "name": "stdout",
          "text": [
            "Gridsearch runtime 12.7 mins\n"
          ]
        }
      ]
    },
    {
      "cell_type": "code",
      "metadata": {
        "id": "cxaAl3cvBfGh",
        "colab": {
          "base_uri": "https://localhost:8080/",
          "height": 380
        },
        "outputId": "353a1e97-1577-42a5-8a42-f38a735c107c"
      },
      "source": [
        "# use the mean accuracy from the CV splits for determining best model score \n",
        "means = grid.cv_results_['mean_test_score']\n",
        "stds = grid.cv_results_['std_test_score']\n",
        "params = grid.cv_results_['params']\n",
        "\n",
        "# move l2 penalty values outside of dictionary and into a list\n",
        "param_values = [param_dict[\"maxnorm_wc\"] for param_dict in params]\n",
        "\n",
        "# plot accuracy vs l2_reg_penalty\n",
        "plt.figure(figsize=(20,6))\n",
        "plt.grid()\n",
        "plt.errorbar(param_values, means, yerr=stds, ecolor=\"orange\")\n",
        "plt.title(\"MaxNorm weight constraint: Model Accuracy vs MaxNorm\")\n",
        "plt.ylabel(\"Validation Accuracy\", )\n",
        "plt.xlabel(\"Max Norm for Weight Vector \");"
      ],
      "execution_count": null,
      "outputs": [
        {
          "output_type": "display_data",
          "data": {
            "text/plain": [
              "<Figure size 1440x432 with 1 Axes>"
            ],
            "image/png": "[encoded data removed]"
          },
          "metadata": {
            "needs_background": "light"
          }
        }
      ]
    },
    {
      "cell_type": "code",
      "metadata": {
        "deletable": false,
        "nbgrader": {
          "cell_type": "code",
          "checksum": "cfe7bd54a7a14ba7ee63c88d6d1828b4",
          "grade": false,
          "grade_id": "cell-f67372e0b9b30614",
          "locked": false,
          "schema_version": 3,
          "solution": true,
          "task": false
        },
        "id": "D3aeaN_NBfGi"
      },
      "source": [
        "# YOUR CODE HERE\n",
        "# raise NotImplementedError()\n",
        "# get the best value of max norm from grid and save to best_max_norm_val\n",
        "best_max_norm_val = grid.best_params_[\"maxnorm_wc\"]\n",
        "# get the best trained model from grid and save to best_model\n",
        "best_model = grid.best_estimator_.build_fn(maxnorm_wc=best_max_norm_val)\n",
        "# get the weights from the best trained model and save to best_weights\n",
        "best_weights = best_model.get_weights()"
      ],
      "execution_count": null,
      "outputs": []
    },
    {
      "cell_type": "code",
      "metadata": {
        "id": "udo9kxwWBfGi",
        "colab": {
          "base_uri": "https://localhost:8080/"
        },
        "outputId": "013e45e1-60fc-4b77-cd0b-414486204012"
      },
      "source": [
        "best_max_norm_val"
      ],
      "execution_count": null,
      "outputs": [
        {
          "output_type": "execute_result",
          "data": {
            "text/plain": [
              "2.0"
            ]
          },
          "metadata": {},
          "execution_count": 34
        }
      ]
    },
    {
      "cell_type": "code",
      "metadata": {
        "id": "aYdmRUJSBfGi",
        "colab": {
          "base_uri": "https://localhost:8080/"
        },
        "outputId": "07d30460-0d32-44f2-9f7b-b6dc5a98f7e3"
      },
      "source": [
        "# we can verify that the norm of our weights are indeed below the maximum allowed value \n",
        "np.linalg.norm(best_weights[0][0])"
      ],
      "execution_count": null,
      "outputs": [
        {
          "output_type": "execute_result",
          "data": {
            "text/plain": [
              "0.8865011"
            ]
          },
          "metadata": {},
          "execution_count": 35
        }
      ]
    },
    {
      "cell_type": "code",
      "metadata": {
        "deletable": false,
        "nbgrader": {
          "cell_type": "code",
          "checksum": "67f65bd636e3b3b3bc7d20c02ba6b666",
          "grade": false,
          "grade_id": "cell-e752c1a8c853985d",
          "locked": false,
          "schema_version": 3,
          "solution": true,
          "task": false
        },
        "id": "3ew76uwZBfGi",
        "colab": {
          "base_uri": "https://localhost:8080/"
        },
        "outputId": "8be3b2eb-df25-4ac8-8ef6-ee6ee2d0fa1f"
      },
      "source": [
        "# YOUR CODE HERE\n",
        "# raise NotImplementedError()\n",
        "# train a model using the max_norm_val value that scored the lowest \n",
        "worse_max_norm_val = 0.5\n",
        "# build a model using build_complex_model and worse_max_norm_val and save it to worse_model\n",
        "worse_model = build_complex_model(maxnorm_wc=worse_max_norm_val)\n",
        "# fit model \n",
        "worse_model.fit(X_train, y_train, epochs=5)\n",
        "# get weights from worse performing model \n",
        "worse_weights = worse_model.get_weights()"
      ],
      "execution_count": null,
      "outputs": [
        {
          "output_type": "stream",
          "name": "stdout",
          "text": [
            "Epoch 1/5\n",
            "2344/2344 [==============================] - 10s 4ms/step - loss: 0.6953 - accuracy: 0.7840\n",
            "Epoch 2/5\n",
            "2344/2344 [==============================] - 9s 4ms/step - loss: 0.5805 - accuracy: 0.8212\n",
            "Epoch 3/5\n",
            "2344/2344 [==============================] - 8s 4ms/step - loss: 0.5677 - accuracy: 0.8235\n",
            "Epoch 4/5\n",
            "2344/2344 [==============================] - 9s 4ms/step - loss: 0.5542 - accuracy: 0.8276\n",
            "Epoch 5/5\n",
            "2344/2344 [==============================] - 9s 4ms/step - loss: 0.5511 - accuracy: 0.8284\n"
          ]
        }
      ]
    },
    {
      "cell_type": "markdown",
      "source": [
        "Sample the initial weights from the `Glorot Uniform Weight Initializer`, for comparison"
      ],
      "metadata": {
        "id": "GgVx0Yg-7OwJ"
      }
    },
    {
      "cell_type": "code",
      "metadata": {
        "deletable": false,
        "nbgrader": {
          "cell_type": "code",
          "checksum": "a38d5d4db707124b31a662fb4743b049",
          "grade": false,
          "grade_id": "cell-5c1aa4543e68487d",
          "locked": false,
          "schema_version": 3,
          "solution": true,
          "task": false
        },
        "id": "DEx3m9vVBfGj"
      },
      "source": [
        "# YOUR CODE HERE\n",
        "# raise NotImplementedError()\n",
        "# index for the 1st hidden layer weights in best_weights and save to best_hidden_weights\n",
        "best_hidden_weights = best_weights[0][0]\n",
        "# index for the 1st hidden layer weights in worse_weights and save to worse_hidden_weights\n",
        "worse_hidden_weights = worse_weights[0][0]\n",
        "# Keras models randomly samples from the GlorotUniform distribution for the initial values of model weights \n",
        "# instantiate GlorotUniform and sample 500 weights and save to initial_weight_values\n",
        "# hint: use shape=(1, 500)\n",
        "initializer = GlorotUniform(seed=1234)\n",
        "initial_weight_values = initializer(shape=(1, 500)).numpy()[0]"
      ],
      "execution_count": null,
      "outputs": []
    },
    {
      "cell_type": "code",
      "metadata": {
        "id": "Ck8kH2LeBfGk"
      },
      "source": [
        "# move all weights to a dataframe for ease of analysis \n",
        "cols = [\"best_hidden_weights\", \"worse_hidden_weights\", \"initial_weight_values\"]\n",
        "data = [best_hidden_weights, worse_hidden_weights, initial_weight_values]\n",
        "df_maxnorm= pd.DataFrame(data=data).T\n",
        "df_maxnorm.columns = cols"
      ],
      "execution_count": null,
      "outputs": []
    },
    {
      "cell_type": "code",
      "metadata": {
        "id": "jiT661fNBfGk",
        "colab": {
          "base_uri": "https://localhost:8080/",
          "height": 300
        },
        "outputId": "0e0c6834-ad58-4bbf-851c-a3a633ab5122"
      },
      "source": [
        "df_maxnorm.describe()"
      ],
      "execution_count": null,
      "outputs": [
        {
          "output_type": "execute_result",
          "data": {
            "text/plain": [
              "       best_hidden_weights  worse_hidden_weights  initial_weight_values\n",
              "count           500.000000          5.000000e+02             500.000000\n",
              "mean              0.000536          5.103974e-08               0.002079\n",
              "std               0.039682          7.308202e-06               0.061731\n",
              "min              -0.068324         -1.179792e-04              -0.109263\n",
              "25%              -0.033594         -1.018734e-10              -0.047005\n",
              "50%               0.000322          1.068164e-12               0.001182\n",
              "75%               0.034870          4.133817e-10               0.055509\n",
              "max               0.068340          5.117369e-05               0.109095"
            ],
            "text/html": [
              "\n",
              "  <div id=\"df-35228c33-533c-4532-9b70-d98c3ef42fcf\">\n",
              "    <div class=\"colab-df-container\">\n",
              "      <div>\n",
              "<style scoped>\n",
              "    .dataframe tbody tr th:only-of-type {\n",
              "        vertical-align: middle;\n",
              "    }\n",
              "\n",
              "    .dataframe tbody tr th {\n",
              "        vertical-align: top;\n",
              "    }\n",
              "\n",
              "    .dataframe thead th {\n",
              "        text-align: right;\n",
              "    }\n",
              "</style>\n",
              "<table border=\"1\" class=\"dataframe\">\n",
              "  <thead>\n",
              "    <tr style=\"text-align: right;\">\n",
              "      <th></th>\n",
              "      <th>best_hidden_weights</th>\n",
              "      <th>worse_hidden_weights</th>\n",
              "      <th>initial_weight_values</th>\n",
              "    </tr>\n",
              "  </thead>\n",
              "  <tbody>\n",
              "    <tr>\n",
              "      <th>count</th>\n",
              "      <td>500.000000</td>\n",
              "      <td>5.000000e+02</td>\n",
              "      <td>500.000000</td>\n",
              "    </tr>\n",
              "    <tr>\n",
              "      <th>mean</th>\n",
              "      <td>0.000536</td>\n",
              "      <td>5.103974e-08</td>\n",
              "      <td>0.002079</td>\n",
              "    </tr>\n",
              "    <tr>\n",
              "      <th>std</th>\n",
              "      <td>0.039682</td>\n",
              "      <td>7.308202e-06</td>\n",
              "      <td>0.061731</td>\n",
              "    </tr>\n",
              "    <tr>\n",
              "      <th>min</th>\n",
              "      <td>-0.068324</td>\n",
              "      <td>-1.179792e-04</td>\n",
              "      <td>-0.109263</td>\n",
              "    </tr>\n",
              "    <tr>\n",
              "      <th>25%</th>\n",
              "      <td>-0.033594</td>\n",
              "      <td>-1.018734e-10</td>\n",
              "      <td>-0.047005</td>\n",
              "    </tr>\n",
              "    <tr>\n",
              "      <th>50%</th>\n",
              "      <td>0.000322</td>\n",
              "      <td>1.068164e-12</td>\n",
              "      <td>0.001182</td>\n",
              "    </tr>\n",
              "    <tr>\n",
              "      <th>75%</th>\n",
              "      <td>0.034870</td>\n",
              "      <td>4.133817e-10</td>\n",
              "      <td>0.055509</td>\n",
              "    </tr>\n",
              "    <tr>\n",
              "      <th>max</th>\n",
              "      <td>0.068340</td>\n",
              "      <td>5.117369e-05</td>\n",
              "      <td>0.109095</td>\n",
              "    </tr>\n",
              "  </tbody>\n",
              "</table>\n",
              "</div>\n",
              "      <button class=\"colab-df-convert\" onclick=\"convertToInteractive('df-35228c33-533c-4532-9b70-d98c3ef42fcf')\"\n",
              "              title=\"Convert this dataframe to an interactive table.\"\n",
              "              style=\"display:none;\">\n",
              "        \n",
              "  <svg xmlns=\"http://www.w3.org/2000/svg\" height=\"24px\"viewBox=\"0 0 24 24\"\n",
              "       width=\"24px\">\n",
              "    <path d=\"M0 0h24v24H0V0z\" fill=\"none\"/>\n",
              "    <path d=\"M18.56 5.44l.94 2.06.94-2.06 2.06-.94-2.06-.94-.94-2.06-.94 2.06-2.06.94zm-11 1L8.5 8.5l.94-2.06 2.06-.94-2.06-.94L8.5 2.5l-.94 2.06-2.06.94zm10 10l.94 2.06.94-2.06 2.06-.94-2.06-.94-.94-2.06-.94 2.06-2.06.94z\"/><path d=\"M17.41 7.96l-1.37-1.37c-.4-.4-.92-.59-1.43-.59-.52 0-1.04.2-1.43.59L10.3 9.45l-7.72 7.72c-.78.78-.78 2.05 0 2.83L4 21.41c.39.39.9.59 1.41.59.51 0 1.02-.2 1.41-.59l7.78-7.78 2.81-2.81c.8-.78.8-2.07 0-2.86zM5.41 20L4 18.59l7.72-7.72 1.47 1.35L5.41 20z\"/>\n",
              "  </svg>\n",
              "      </button>\n",
              "      \n",
              "  <style>\n",
              "    .colab-df-container {\n",
              "      display:flex;\n",
              "      flex-wrap:wrap;\n",
              "      gap: 12px;\n",
              "    }\n",
              "\n",
              "    .colab-df-convert {\n",
              "      background-color: #E8F0FE;\n",
              "      border: none;\n",
              "      border-radius: 50%;\n",
              "      cursor: pointer;\n",
              "      display: none;\n",
              "      fill: #1967D2;\n",
              "      height: 32px;\n",
              "      padding: 0 0 0 0;\n",
              "      width: 32px;\n",
              "    }\n",
              "\n",
              "    .colab-df-convert:hover {\n",
              "      background-color: #E2EBFA;\n",
              "      box-shadow: 0px 1px 2px rgba(60, 64, 67, 0.3), 0px 1px 3px 1px rgba(60, 64, 67, 0.15);\n",
              "      fill: #174EA6;\n",
              "    }\n",
              "\n",
              "    [theme=dark] .colab-df-convert {\n",
              "      background-color: #3B4455;\n",
              "      fill: #D2E3FC;\n",
              "    }\n",
              "\n",
              "    [theme=dark] .colab-df-convert:hover {\n",
              "      background-color: #434B5C;\n",
              "      box-shadow: 0px 1px 3px 1px rgba(0, 0, 0, 0.15);\n",
              "      filter: drop-shadow(0px 1px 2px rgba(0, 0, 0, 0.3));\n",
              "      fill: #FFFFFF;\n",
              "    }\n",
              "  </style>\n",
              "\n",
              "      <script>\n",
              "        const buttonEl =\n",
              "          document.querySelector('#df-35228c33-533c-4532-9b70-d98c3ef42fcf button.colab-df-convert');\n",
              "        buttonEl.style.display =\n",
              "          google.colab.kernel.accessAllowed ? 'block' : 'none';\n",
              "\n",
              "        async function convertToInteractive(key) {\n",
              "          const element = document.querySelector('#df-35228c33-533c-4532-9b70-d98c3ef42fcf');\n",
              "          const dataTable =\n",
              "            await google.colab.kernel.invokeFunction('convertToInteractive',\n",
              "                                                     [key], {});\n",
              "          if (!dataTable) return;\n",
              "\n",
              "          const docLinkHtml = 'Like what you see? Visit the ' +\n",
              "            '<a target=\"_blank\" href=https://colab.research.google.com/notebooks/data_table.ipynb>data table notebook</a>'\n",
              "            + ' to learn more about interactive tables.';\n",
              "          element.innerHTML = '';\n",
              "          dataTable['output_type'] = 'display_data';\n",
              "          await google.colab.output.renderOutput(dataTable, element);\n",
              "          const docLink = document.createElement('div');\n",
              "          docLink.innerHTML = docLinkHtml;\n",
              "          element.appendChild(docLink);\n",
              "        }\n",
              "      </script>\n",
              "    </div>\n",
              "  </div>\n",
              "  "
            ]
          },
          "metadata": {},
          "execution_count": 39
        }
      ]
    },
    {
      "cell_type": "code",
      "metadata": {
        "id": "N6HmKEFHBfGl",
        "colab": {
          "base_uri": "https://localhost:8080/",
          "height": 686
        },
        "outputId": "5cdb4792-861e-4ff7-ede2-cceadf1d224c"
      },
      "source": [
        "# plot the distributions for each weight column \n",
        "df_maxnorm.hist(figsize=(20,12));"
      ],
      "execution_count": null,
      "outputs": [
        {
          "output_type": "display_data",
          "data": {
            "text/plain": [
              "<Figure size 1440x864 with 4 Axes>"
            ],
            "image/png": "[encoded data removed]"
          },
          "metadata": {
            "needs_background": "light"
          }
        }
      ]
    },
    {
      "cell_type": "markdown",
      "metadata": {
        "id": "GJLb71QuBfGm"
      },
      "source": [
        "## Observations \n",
        "\n",
        "Take a look at the statistical table and the plots. Then answer the following questions. \n",
        "\n",
        "**How do the hidden layer weights from the best performing model compare to the initial weight values?**"
      ]
    },
    {
      "cell_type": "markdown",
      "metadata": {
        "deletable": false,
        "nbgrader": {
          "cell_type": "markdown",
          "checksum": "f43fe1110cdcea8d1e4b432fe78d4e49",
          "grade": true,
          "grade_id": "cell-40a44d19694941b8",
          "locked": false,
          "points": 0,
          "schema_version": 3,
          "solution": true,
          "task": false
        },
        "id": "9Ow24epzBfGm"
      },
      "source": [
        "YOUR ANSWER HERE\n",
        "\n",
        "For both the best and worst models, the use of MaxNorm regularization has reduced the weight values from their initial values."
      ]
    },
    {
      "cell_type": "markdown",
      "metadata": {
        "id": "1C-q89taBfGm"
      },
      "source": [
        "**What was the effect of using the weight constraint value in MaxNorm in the best performing model?**"
      ]
    },
    {
      "cell_type": "markdown",
      "metadata": {
        "deletable": false,
        "nbgrader": {
          "cell_type": "markdown",
          "checksum": "b1c59c58a5abdbc0b509983821198dba",
          "grade": true,
          "grade_id": "cell-4f9e1e134124e512",
          "locked": false,
          "points": 0,
          "schema_version": 3,
          "solution": true,
          "task": false
        },
        "id": "JEnRcaxEBfGm"
      },
      "source": [
        "YOUR ANSWER HERE\n",
        "\n",
        "By using the appropriate weight constraint value for MaxNorm regularization, the weight values were reduced, but generally not to zero, indicating that the shrinking process was not excessively aggressive. This can be observed both in the plots and in the statistical tables, where the 75th percentile for best_hidden_weights has a value on the order of 0.01, while worse_hidden_weights has a value on the order of 10^-10."
      ]
    },
    {
      "cell_type": "markdown",
      "metadata": {
        "id": "LY9joSwUBfGn"
      },
      "source": [
        "**What was the effect of using the weight constraint value in MaxNorm in the worse performing model?**"
      ]
    },
    {
      "cell_type": "markdown",
      "metadata": {
        "deletable": false,
        "nbgrader": {
          "cell_type": "markdown",
          "checksum": "0062b4ddfad487c39633c37f4710b752",
          "grade": true,
          "grade_id": "cell-4c289ce70c34048a",
          "locked": false,
          "points": 0,
          "schema_version": 3,
          "solution": true,
          "task": false
        },
        "id": "8_Pw4Jb1BfGn"
      },
      "source": [
        "YOUR ANSWER HERE\n",
        "\n",
        "When an inappropriate weight constraint value was utilized for MaxNorm regularization, it caused a forceful reduction of weight values, leading to the majority of weights being brought extremely close to zero."
      ]
    },
    {
      "cell_type": "markdown",
      "metadata": {
        "id": "fWmTydgiBfGn"
      },
      "source": [
        "**Given what you know about MaxNorm regularization, are you surprised by these results?**"
      ]
    },
    {
      "cell_type": "markdown",
      "metadata": {
        "deletable": false,
        "nbgrader": {
          "cell_type": "markdown",
          "checksum": "3c36931d3532a8cbcb4ea0c956378728",
          "grade": true,
          "grade_id": "cell-77366a912217da5d",
          "locked": false,
          "points": 0,
          "schema_version": 3,
          "solution": true,
          "task": false
        },
        "id": "EiAQlNHuBfGn"
      },
      "source": [
        "YOUR ANSWER HERE\n",
        "\n",
        "MaxNorm regularization has a similar impact to Ridge regularization in terms of reducing the weight values, as a result of the norm value restriction. However, it is not apparent which weight constraint value will result in the optimal model performance."
      ]
    },
    {
      "cell_type": "markdown",
      "metadata": {
        "id": "l_INtS2vBfGn"
      },
      "source": [
        "-----\n",
        "# Experiment 3: Identify the relationship between model performance and Dropout\n",
        "\n",
        "\n",
        "![](https://miro.medium.com/max/981/1*EinUlWw1n8vbcLyT0zx4gw.png)\n",
        "\n",
        "In the 3rd experiment, we will use gridsearch to see how varying the value of the the dropout probability affects model performance. \n",
        "\n",
        "Recall from lecture that dropout tends to perform best when used with `MaxNorm` regularization. Since this is the case, we will gridsearch both dropout probability and the weight constraint for `MaxNorm`. \n",
        "\n",
        "If interested, feel free to read (or just skim) through the original publication on [**Drop Out**](https://jmlr.org/papers/volume15/srivastava14a.old/srivastava14a.pdf). \n",
        "\n",
        "**Key Take aways:** \n",
        "\n",
        "1. During training, dropout will probabilistically \"turn off\" some neurons in the layer that dropout is implemented in. \n",
        "2. During inference (ie. making predictions on the test set) all neurons are used (i.e. no dropout is applied).\n",
        "3. Dropout works best when used with MaxNorm\n"
      ]
    },
    {
      "cell_type": "code",
      "source": [
        "# build out our hyperparameter dictionary \n",
        "hyper_parameters = {\n",
        "    # for the sake of runtime, let's vary maxnorm_wc between 0.5 and 5.0\n",
        "    \"maxnorm_wc\": np.linspace(0.5, 5, num=5),\n",
        "    # take note that l1_reg_penalty values are in powers of 10 \n",
        "    \"dropout_prob\": np.linspace(0.0, 0.6, num=5), \n",
        "    \"epochs\": [1] # default is 1, in order to change it we must provide value here because we can provide a parameter value for model.fit() directly when using gridsearch\n",
        "}\n",
        "\n",
        "hyper_parameters"
      ],
      "metadata": {
        "id": "ce81CswWlP1N",
        "colab": {
          "base_uri": "https://localhost:8080/"
        },
        "outputId": "fa766ef8-a667-4d6c-c939-763f2660f7c7"
      },
      "execution_count": null,
      "outputs": [
        {
          "output_type": "execute_result",
          "data": {
            "text/plain": [
              "{'maxnorm_wc': array([0.5  , 1.625, 2.75 , 3.875, 5.   ]),\n",
              " 'dropout_prob': array([0.  , 0.15, 0.3 , 0.45, 0.6 ]),\n",
              " 'epochs': [1]}"
            ]
          },
          "metadata": {},
          "execution_count": 41
        }
      ]
    },
    {
      "cell_type": "code",
      "source": [
        "start=time()\n",
        "# Create and run Grid Search\n",
        "grid = GridSearchCV(estimator=model, \n",
        "                    param_grid=hyper_parameters, \n",
        "                    n_jobs=-2, \n",
        "                    verbose=1, \n",
        "                    cv=3)\n",
        "\n",
        "grid_result = grid.fit(X_train, y_train)\n",
        "end=time()"
      ],
      "metadata": {
        "id": "6CN5X-D2lTS4",
        "colab": {
          "base_uri": "https://localhost:8080/"
        },
        "outputId": "0856aa67-389a-4b74-d333-0deaf8967af7"
      },
      "execution_count": null,
      "outputs": [
        {
          "output_type": "stream",
          "name": "stdout",
          "text": [
            "Fitting 3 folds for each of 25 candidates, totalling 75 fits\n",
            "1563/1563 [==============================] - 7s 4ms/step - loss: 0.7492 - accuracy: 0.7661\n",
            "782/782 [==============================] - 2s 2ms/step - loss: 0.6364 - accuracy: 0.8028\n",
            "1563/1563 [==============================] - 7s 4ms/step - loss: 0.7449 - accuracy: 0.7672\n",
            "782/782 [==============================] - 2s 2ms/step - loss: 0.6500 - accuracy: 0.8018\n",
            "1563/1563 [==============================] - 7s 4ms/step - loss: 0.7358 - accuracy: 0.7713\n",
            "782/782 [==============================] - 2s 2ms/step - loss: 0.5961 - accuracy: 0.8140\n",
            "1563/1563 [==============================] - 8s 4ms/step - loss: 0.6501 - accuracy: 0.8005\n",
            "782/782 [==============================] - 2s 2ms/step - loss: 0.5518 - accuracy: 0.8351\n",
            "1563/1563 [==============================] - 7s 4ms/step - loss: 0.6547 - accuracy: 0.7976\n",
            "782/782 [==============================] - 2s 2ms/step - loss: 0.5314 - accuracy: 0.8377\n",
            "1563/1563 [==============================] - 8s 4ms/step - loss: 0.6524 - accuracy: 0.8000\n",
            "782/782 [==============================] - 2s 2ms/step - loss: 0.5333 - accuracy: 0.8358\n",
            "1563/1563 [==============================] - 8s 4ms/step - loss: 0.6488 - accuracy: 0.8003\n",
            "782/782 [==============================] - 2s 3ms/step - loss: 0.5170 - accuracy: 0.8427\n",
            "1563/1563 [==============================] - 7s 4ms/step - loss: 0.6493 - accuracy: 0.7999\n",
            "782/782 [==============================] - 2s 2ms/step - loss: 0.5101 - accuracy: 0.8467\n",
            "1563/1563 [==============================] - 7s 4ms/step - loss: 0.6464 - accuracy: 0.8005\n",
            "782/782 [==============================] - 2s 2ms/step - loss: 0.5446 - accuracy: 0.8360\n",
            "1563/1563 [==============================] - 7s 4ms/step - loss: 0.6477 - accuracy: 0.8011\n",
            "782/782 [==============================] - 2s 2ms/step - loss: 0.5248 - accuracy: 0.8407\n",
            "1563/1563 [==============================] - 7s 4ms/step - loss: 0.6510 - accuracy: 0.7998\n",
            "782/782 [==============================] - 2s 3ms/step - loss: 0.5034 - accuracy: 0.8467\n",
            "1563/1563 [==============================] - 7s 4ms/step - loss: 0.6435 - accuracy: 0.8030\n",
            "782/782 [==============================] - 2s 3ms/step - loss: 0.5189 - accuracy: 0.8414\n",
            "1563/1563 [==============================] - 7s 3ms/step - loss: 0.6484 - accuracy: 0.7997\n",
            "782/782 [==============================] - 2s 2ms/step - loss: 0.5354 - accuracy: 0.8357\n",
            "1563/1563 [==============================] - 8s 4ms/step - loss: 0.6535 - accuracy: 0.7983\n",
            "782/782 [==============================] - 2s 2ms/step - loss: 0.5361 - accuracy: 0.8386\n",
            "1563/1563 [==============================] - 7s 4ms/step - loss: 0.6576 - accuracy: 0.7972\n",
            "782/782 [==============================] - 2s 3ms/step - loss: 0.5432 - accuracy: 0.8331\n",
            "1563/1563 [==============================] - 8s 4ms/step - loss: 0.7867 - accuracy: 0.7554\n",
            "782/782 [==============================] - 2s 2ms/step - loss: 0.6536 - accuracy: 0.7888\n",
            "1563/1563 [==============================] - 8s 4ms/step - loss: 0.7939 - accuracy: 0.7524\n",
            "782/782 [==============================] - 2s 2ms/step - loss: 0.6380 - accuracy: 0.8022\n",
            "1563/1563 [==============================] - 8s 4ms/step - loss: 0.7844 - accuracy: 0.7554\n",
            "782/782 [==============================] - 2s 2ms/step - loss: 0.6597 - accuracy: 0.7970\n",
            "1563/1563 [==============================] - 8s 4ms/step - loss: 0.7248 - accuracy: 0.7778\n",
            "782/782 [==============================] - 2s 2ms/step - loss: 0.5513 - accuracy: 0.8338\n",
            "1563/1563 [==============================] - 8s 4ms/step - loss: 0.7247 - accuracy: 0.7753\n",
            "782/782 [==============================] - 2s 2ms/step - loss: 0.5303 - accuracy: 0.8389\n",
            "1563/1563 [==============================] - 10s 5ms/step - loss: 0.7197 - accuracy: 0.7785\n",
            "782/782 [==============================] - 2s 2ms/step - loss: 0.5499 - accuracy: 0.8323\n",
            "1563/1563 [==============================] - 8s 4ms/step - loss: 0.7193 - accuracy: 0.7774\n",
            "782/782 [==============================] - 2s 2ms/step - loss: 0.5233 - accuracy: 0.8421\n",
            "1563/1563 [==============================] - 8s 4ms/step - loss: 0.7230 - accuracy: 0.7767\n",
            "782/782 [==============================] - 2s 2ms/step - loss: 0.5566 - accuracy: 0.8338\n",
            "1563/1563 [==============================] - 8s 4ms/step - loss: 0.7224 - accuracy: 0.7780\n",
            "782/782 [==============================] - 2s 2ms/step - loss: 0.5547 - accuracy: 0.8315\n",
            "1563/1563 [==============================] - 8s 4ms/step - loss: 0.7288 - accuracy: 0.7757\n",
            "782/782 [==============================] - 2s 2ms/step - loss: 0.5328 - accuracy: 0.8355\n",
            "1563/1563 [==============================] - 9s 4ms/step - loss: 0.7229 - accuracy: 0.7755\n",
            "782/782 [==============================] - 2s 2ms/step - loss: 0.5268 - accuracy: 0.8426\n",
            "1563/1563 [==============================] - 8s 4ms/step - loss: 0.7281 - accuracy: 0.7762\n",
            "782/782 [==============================] - 2s 2ms/step - loss: 0.5335 - accuracy: 0.8392\n",
            "1563/1563 [==============================] - 8s 4ms/step - loss: 0.7239 - accuracy: 0.7776\n",
            "782/782 [==============================] - 2s 2ms/step - loss: 0.5427 - accuracy: 0.8377\n",
            "1563/1563 [==============================] - 7s 4ms/step - loss: 0.7259 - accuracy: 0.7762\n",
            "782/782 [==============================] - 2s 2ms/step - loss: 0.5449 - accuracy: 0.8329\n",
            "1563/1563 [==============================] - 8s 4ms/step - loss: 0.7169 - accuracy: 0.7778\n",
            "782/782 [==============================] - 2s 2ms/step - loss: 0.5527 - accuracy: 0.8297\n",
            "1563/1563 [==============================] - 8s 4ms/step - loss: 0.8603 - accuracy: 0.7315\n",
            "782/782 [==============================] - 2s 2ms/step - loss: 0.6393 - accuracy: 0.8056\n",
            "1563/1563 [==============================] - 8s 4ms/step - loss: 0.8521 - accuracy: 0.7344\n",
            "782/782 [==============================] - 2s 2ms/step - loss: 0.6688 - accuracy: 0.7918\n",
            "1563/1563 [==============================] - 8s 4ms/step - loss: 0.8583 - accuracy: 0.7331\n",
            "782/782 [==============================] - 2s 2ms/step - loss: 0.6667 - accuracy: 0.7950\n",
            "1563/1563 [==============================] - 8s 4ms/step - loss: 0.8161 - accuracy: 0.7482\n",
            "782/782 [==============================] - 2s 2ms/step - loss: 0.5604 - accuracy: 0.8251\n",
            "1563/1563 [==============================] - 9s 5ms/step - loss: 0.8142 - accuracy: 0.7488\n",
            "782/782 [==============================] - 3s 2ms/step - loss: 0.5721 - accuracy: 0.8193\n",
            "1563/1563 [==============================] - 8s 4ms/step - loss: 0.8126 - accuracy: 0.7483\n",
            "782/782 [==============================] - 2s 2ms/step - loss: 0.5578 - accuracy: 0.8298\n",
            "1563/1563 [==============================] - 8s 4ms/step - loss: 0.8081 - accuracy: 0.7501\n",
            "782/782 [==============================] - 2s 2ms/step - loss: 0.5495 - accuracy: 0.8334\n",
            "1563/1563 [==============================] - 8s 4ms/step - loss: 0.8219 - accuracy: 0.7456\n",
            "782/782 [==============================] - 2s 2ms/step - loss: 0.5753 - accuracy: 0.8234\n",
            "1563/1563 [==============================] - 8s 4ms/step - loss: 0.8083 - accuracy: 0.7497\n",
            "782/782 [==============================] - 2s 2ms/step - loss: 0.5735 - accuracy: 0.8236\n",
            "1563/1563 [==============================] - 8s 4ms/step - loss: 0.8216 - accuracy: 0.7453\n",
            "782/782 [==============================] - 2s 2ms/step - loss: 0.5691 - accuracy: 0.8253\n",
            "1563/1563 [==============================] - 10s 4ms/step - loss: 0.8122 - accuracy: 0.7475\n",
            "782/782 [==============================] - 2s 2ms/step - loss: 0.5688 - accuracy: 0.8258\n",
            "1563/1563 [==============================] - 8s 4ms/step - loss: 0.8185 - accuracy: 0.7464\n",
            "782/782 [==============================] - 2s 3ms/step - loss: 0.5632 - accuracy: 0.8270\n",
            "1563/1563 [==============================] - 8s 4ms/step - loss: 0.8164 - accuracy: 0.7475\n",
            "782/782 [==============================] - 3s 3ms/step - loss: 0.5585 - accuracy: 0.8326\n",
            "1563/1563 [==============================] - 7s 4ms/step - loss: 0.8219 - accuracy: 0.7465\n",
            "782/782 [==============================] - 2s 2ms/step - loss: 0.5694 - accuracy: 0.8269\n",
            "1563/1563 [==============================] - 7s 4ms/step - loss: 0.8141 - accuracy: 0.7498\n",
            "782/782 [==============================] - 3s 2ms/step - loss: 0.5586 - accuracy: 0.8271\n",
            "1563/1563 [==============================] - 7s 4ms/step - loss: 0.9462 - accuracy: 0.7034\n",
            "782/782 [==============================] - 2s 2ms/step - loss: 0.6690 - accuracy: 0.7939\n",
            "1563/1563 [==============================] - 8s 4ms/step - loss: 0.9482 - accuracy: 0.7018\n",
            "782/782 [==============================] - 2s 2ms/step - loss: 0.6934 - accuracy: 0.7877\n",
            "1563/1563 [==============================] - 8s 4ms/step - loss: 0.9496 - accuracy: 0.6998\n",
            "782/782 [==============================] - 2s 2ms/step - loss: 0.7059 - accuracy: 0.7736\n",
            "1563/1563 [==============================] - 8s 4ms/step - loss: 0.9604 - accuracy: 0.6999\n",
            "782/782 [==============================] - 2s 2ms/step - loss: 0.5986 - accuracy: 0.8181\n",
            "1563/1563 [==============================] - 7s 4ms/step - loss: 0.9493 - accuracy: 0.7034\n",
            "782/782 [==============================] - 2s 2ms/step - loss: 0.6132 - accuracy: 0.8158\n",
            "1563/1563 [==============================] - 8s 4ms/step - loss: 0.9586 - accuracy: 0.7005\n",
            "782/782 [==============================] - 2s 2ms/step - loss: 0.6071 - accuracy: 0.8181\n",
            "1563/1563 [==============================] - 9s 5ms/step - loss: 0.9634 - accuracy: 0.6990\n",
            "782/782 [==============================] - 2s 3ms/step - loss: 0.6059 - accuracy: 0.8180\n",
            "1563/1563 [==============================] - 8s 4ms/step - loss: 0.9548 - accuracy: 0.6993\n",
            "782/782 [==============================] - 2s 2ms/step - loss: 0.6215 - accuracy: 0.8110\n",
            "1563/1563 [==============================] - 7s 4ms/step - loss: 0.9603 - accuracy: 0.6976\n",
            "782/782 [==============================] - 2s 2ms/step - loss: 0.6057 - accuracy: 0.8151\n",
            "1563/1563 [==============================] - 7s 4ms/step - loss: 0.9654 - accuracy: 0.6959\n",
            "782/782 [==============================] - 2s 3ms/step - loss: 0.5897 - accuracy: 0.8243\n",
            "1563/1563 [==============================] - 8s 4ms/step - loss: 0.9533 - accuracy: 0.7002\n",
            "782/782 [==============================] - 2s 2ms/step - loss: 0.6036 - accuracy: 0.8178\n",
            "1563/1563 [==============================] - 8s 4ms/step - loss: 0.9474 - accuracy: 0.7010\n",
            "782/782 [==============================] - 2s 2ms/step - loss: 0.6115 - accuracy: 0.8168\n",
            "1563/1563 [==============================] - 9s 5ms/step - loss: 0.9615 - accuracy: 0.6971\n",
            "782/782 [==============================] - 2s 2ms/step - loss: 0.6207 - accuracy: 0.8112\n",
            "1563/1563 [==============================] - 8s 4ms/step - loss: 0.9601 - accuracy: 0.6995\n",
            "782/782 [==============================] - 2s 2ms/step - loss: 0.5993 - accuracy: 0.8155\n",
            "1563/1563 [==============================] - 8s 4ms/step - loss: 0.9508 - accuracy: 0.7013\n",
            "782/782 [==============================] - 2s 2ms/step - loss: 0.6185 - accuracy: 0.8138\n",
            "1563/1563 [==============================] - 8s 4ms/step - loss: 1.1112 - accuracy: 0.6450\n",
            "782/782 [==============================] - 2s 2ms/step - loss: 0.7589 - accuracy: 0.7645\n",
            "1563/1563 [==============================] - 8s 4ms/step - loss: 1.1117 - accuracy: 0.6444\n",
            "782/782 [==============================] - 3s 4ms/step - loss: 0.7415 - accuracy: 0.7702\n",
            "1563/1563 [==============================] - 7s 4ms/step - loss: 1.1156 - accuracy: 0.6395\n",
            "782/782 [==============================] - 2s 2ms/step - loss: 0.7517 - accuracy: 0.7598\n",
            "1563/1563 [==============================] - 8s 4ms/step - loss: 1.2126 - accuracy: 0.6051\n",
            "782/782 [==============================] - 2s 2ms/step - loss: 0.6910 - accuracy: 0.7901\n",
            "1563/1563 [==============================] - 8s 4ms/step - loss: 1.2076 - accuracy: 0.6051\n",
            "782/782 [==============================] - 2s 2ms/step - loss: 0.6966 - accuracy: 0.7891\n",
            "1563/1563 [==============================] - 8s 4ms/step - loss: 1.2169 - accuracy: 0.6020\n",
            "782/782 [==============================] - 2s 3ms/step - loss: 0.7013 - accuracy: 0.7924\n",
            "1563/1563 [==============================] - 7s 4ms/step - loss: 1.2167 - accuracy: 0.6021\n",
            "782/782 [==============================] - 2s 3ms/step - loss: 0.7238 - accuracy: 0.7766\n",
            "1563/1563 [==============================] - 7s 4ms/step - loss: 1.2079 - accuracy: 0.6053\n",
            "782/782 [==============================] - 2s 2ms/step - loss: 0.6996 - accuracy: 0.7859\n",
            "1563/1563 [==============================] - 8s 4ms/step - loss: 1.2039 - accuracy: 0.6075\n",
            "782/782 [==============================] - 2s 3ms/step - loss: 0.7079 - accuracy: 0.7895\n",
            "1563/1563 [==============================] - 7s 4ms/step - loss: 1.2180 - accuracy: 0.6053\n",
            "782/782 [==============================] - 2s 2ms/step - loss: 0.6900 - accuracy: 0.7914\n",
            "1563/1563 [==============================] - 8s 4ms/step - loss: 1.2185 - accuracy: 0.6008\n",
            "782/782 [==============================] - 2s 2ms/step - loss: 0.7103 - accuracy: 0.7900\n",
            "1563/1563 [==============================] - 8s 4ms/step - loss: 1.2057 - accuracy: 0.6061\n",
            "782/782 [==============================] - 2s 2ms/step - loss: 0.7108 - accuracy: 0.7911\n",
            "1563/1563 [==============================] - 8s 4ms/step - loss: 1.1985 - accuracy: 0.6063\n",
            "782/782 [==============================] - 2s 3ms/step - loss: 0.6968 - accuracy: 0.7933\n",
            "1563/1563 [==============================] - 7s 4ms/step - loss: 1.2132 - accuracy: 0.6017\n",
            "782/782 [==============================] - 2s 2ms/step - loss: 0.7118 - accuracy: 0.7850\n",
            "1563/1563 [==============================] - 8s 4ms/step - loss: 1.2219 - accuracy: 0.6008\n",
            "782/782 [==============================] - 2s 2ms/step - loss: 0.7086 - accuracy: 0.7835\n",
            "2344/2344 [==============================] - 10s 4ms/step - loss: 0.6075 - accuracy: 0.8141\n"
          ]
        }
      ]
    },
    {
      "cell_type": "code",
      "metadata": {
        "id": "Vg4ifWNtBfGo",
        "colab": {
          "base_uri": "https://localhost:8080/"
        },
        "outputId": "88600e6a-ea00-4544-cbaa-9d39be538cdf"
      },
      "source": [
        "print(\"Gridsearch runtime {0:.3} mins\".format((end-start)/60))"
      ],
      "execution_count": null,
      "outputs": [
        {
          "output_type": "stream",
          "name": "stdout",
          "text": [
            "Gridsearch runtime 16.0 mins\n"
          ]
        }
      ]
    },
    {
      "cell_type": "code",
      "metadata": {
        "id": "CqO15wkmBfGo"
      },
      "source": [
        "# use the mean accuracy from the CV splits for determining best model score \n",
        "means = grid.cv_results_['mean_test_score']\n",
        "stds = grid.cv_results_['std_test_score']\n",
        "params = grid.cv_results_['params']"
      ],
      "execution_count": null,
      "outputs": []
    },
    {
      "cell_type": "markdown",
      "metadata": {
        "id": "2-v92GwGBfGo"
      },
      "source": [
        "Since there are 2 independent hyperparameters which affect the validation accuracy (`dropout_prob` and `maxnorm_wc`), <br> \n",
        "we need a two-dimensional plot. A heat map will work. "
      ]
    },
    {
      "cell_type": "code",
      "metadata": {
        "id": "I-W5UmNcBfGp"
      },
      "source": [
        "dropout_prob_list = [  param_dict[\"dropout_prob\"]  for param_dict in params]\n",
        "maxnorm_wc_list = [  param_dict[\"maxnorm_wc\"]  for param_dict in params]\n",
        "data = [means, dropout_prob_list, maxnorm_wc_list ]\n",
        "\n",
        "cols = [\"val_acc\", \"dropout_prob\", \"maxnorm_wc\"]\n",
        "df_exp3 =pd.DataFrame(data=data).T\n",
        "df_exp3.columns = cols\n",
        "df_exp3.dropout_prob = df_exp3.dropout_prob.round(2)\n",
        "\n",
        "# pivot dataframe in preparation for heat map\n",
        "df_exp3 = df_exp3.pivot(\"maxnorm_wc\", \"dropout_prob\", \"val_acc\")"
      ],
      "execution_count": null,
      "outputs": []
    },
    {
      "cell_type": "code",
      "metadata": {
        "id": "FqilXbTYBfGp",
        "colab": {
          "base_uri": "https://localhost:8080/",
          "height": 498
        },
        "outputId": "713e7474-cf08-463a-8649-2c9b8b2391ea"
      },
      "source": [
        "# Draw a heatmap with the val_acc values in each cell\n",
        "f, ax = plt.subplots(figsize=(18, 8))\n",
        "sns.heatmap(df_exp3, annot=True,  linewidths=.5, ax=ax);"
      ],
      "execution_count": null,
      "outputs": [
        {
          "output_type": "display_data",
          "data": {
            "text/plain": [
              "<Figure size 1296x576 with 2 Axes>"
            ],
            "image/png": "[encoded data removed]"
          },
          "metadata": {
            "needs_background": "light"
          }
        }
      ]
    },
    {
      "cell_type": "markdown",
      "metadata": {
        "id": "9dTgA0LEBfGp"
      },
      "source": [
        "### Observations \n",
        "\n",
        "We can see the dropout probabilities in the horizontal axis and the `MaxNorm` weight constraint values in the vertical axis. The values in the cells are the validation accuracy that corresponds to a pair of regularization values.\n",
        "\n",
        "Take a look at the heat map and answer the following questions. Note that depending on which model you used (the simple or complex one) your answers might be different from that of others. "
      ]
    },
    {
      "cell_type": "markdown",
      "metadata": {
        "id": "uz1meXeiBfGp"
      },
      "source": [
        "**What range of dropout probability values tend to produce the highest validation accuracy?**"
      ]
    },
    {
      "cell_type": "markdown",
      "metadata": {
        "deletable": false,
        "nbgrader": {
          "cell_type": "markdown",
          "checksum": "0f0013d4e07104a03b4d51664a308f53",
          "grade": true,
          "grade_id": "cell-4e0cb7a9240b1531",
          "locked": false,
          "points": 0,
          "schema_version": 3,
          "solution": true,
          "task": false
        },
        "id": "xjxa3AaoBfGp"
      },
      "source": [
        "YOUR ANSWER HERE\n",
        "\n",
        "The heatmap shows that droput values between 0.0 and 0.3 tend to produce the highest validation accuracy."
      ]
    },
    {
      "cell_type": "markdown",
      "metadata": {
        "id": "yiha7_G-BfGp"
      },
      "source": [
        "**What range of maxnorm weight constraints tend to produce the highest validation accuracy?**"
      ]
    },
    {
      "cell_type": "markdown",
      "metadata": {
        "deletable": false,
        "nbgrader": {
          "cell_type": "markdown",
          "checksum": "9fd88f0bb870a910b925d60b38d17694",
          "grade": true,
          "grade_id": "cell-99539755d7d328f7",
          "locked": false,
          "points": 0,
          "schema_version": 3,
          "solution": true,
          "task": false
        },
        "id": "ftoVpYqIBfGp"
      },
      "source": [
        "YOUR ANSWER HERE\n",
        "\n",
        "The heatmap shows that most weight constraints values can lead to a high validation accuracy, it just depends on which dropout probability it's paired with."
      ]
    },
    {
      "cell_type": "markdown",
      "metadata": {
        "id": "4M7ZARjJBfGp"
      },
      "source": [
        "**When taken together, what combinations of dropout probability and maxnorm weight constraints tend to produce the highest validation accuracy?**"
      ]
    },
    {
      "cell_type": "markdown",
      "metadata": {
        "deletable": false,
        "nbgrader": {
          "cell_type": "markdown",
          "checksum": "fee1e09ed8f6d354bd7b6e2986c2b811",
          "grade": true,
          "grade_id": "cell-5e19a56b4a2d975d",
          "locked": false,
          "points": 0,
          "schema_version": 3,
          "solution": true,
          "task": false
        },
        "id": "rakqIiHNBfGq"
      },
      "source": [
        "YOUR ANSWER HERE\n",
        "\n",
        "When taken together, the highest validation accuracies tend to be produced when the weight constraint values are between 1.62 and 5.0 and the dropout values are between 0.0. and 0.15."
      ]
    },
    {
      "cell_type": "markdown",
      "metadata": {
        "id": "VnwcQRx3BfGr"
      },
      "source": [
        "**Do you think that using dropout was helpful in increasing model performance?**"
      ]
    },
    {
      "cell_type": "markdown",
      "metadata": {
        "deletable": false,
        "nbgrader": {
          "cell_type": "markdown",
          "checksum": "de9c1bcff3c5eb6266cc80632d0956f0",
          "grade": true,
          "grade_id": "cell-d2a2f7b284c801dc",
          "locked": false,
          "points": 0,
          "schema_version": 3,
          "solution": true,
          "task": false
        },
        "id": "mtdlzA8WBfGr"
      },
      "source": [
        "YOUR ANSWER HERE\n",
        "\n",
        "Based on the results from this experiment, it does seem that using dropout was helpful in increasing model performance. The results also suggest that dropout probability shouldn't be very aggressive in order to obtain the best results. so kept at or below 0.2."
      ]
    },
    {
      "cell_type": "markdown",
      "metadata": {
        "id": "r3qKJpF_BfGs"
      },
      "source": [
        "_____\n",
        "\n",
        "#Part 2: Model Deployment\n",
        "# Experiment 4: Train, Save, and Load a Keras model\n",
        "\n",
        "Let's get some practice with how to save and load trained Keras models \n",
        "\n",
        "For this experiment, review the section on Saving and Loading models from the guided project, then: \n",
        "\n",
        "- Build a model of your choosing\n",
        "- Gridsearch the model with a method of your choosing\n",
        "- Save the trained model to a file\n",
        "- Load the trained model from the file\n",
        "- Just as we did in the Guided Project, evaluate the loaded model using a test set and verify that the results of the loaded model match that of the original model that was saved."
      ]
    },
    {
      "cell_type": "code",
      "source": [
        "# YOUR CODE HERE\n",
        "%%time\n",
        "\n",
        "# set up checkpoint callback\n",
        "checkpoint_filepath = \"./weights_best.h5\"\n",
        "checkpoint_callback = tf.keras.callbacks.ModelCheckpoint(\n",
        "    filepath=checkpoint_filepath,\n",
        "    save_weights_only=False,\n",
        "    monitor='val_accuracy',\n",
        "    mode='max',\n",
        "    verbose=1,\n",
        "    save_best_only=False)\n",
        "\n",
        "my_model = KerasClassifier(build_fn=build_complex_model)\n",
        "\n",
        "# build out our hyperparameter dictionary \n",
        "hyper_parameters = {\n",
        "    \"maxnorm_wc\": np.linspace(1.5, 5, num=5),\n",
        "    \"dropout_prob\": np.linspace(0.0, 0.2, num=5), \n",
        "    \"epochs\": [1] \n",
        "}\n",
        "\n",
        "start=time()\n",
        "# Create and run Grid Search\n",
        "grid = GridSearchCV(estimator=my_model, \n",
        "                    param_grid=hyper_parameters, \n",
        "                    n_jobs=-2, \n",
        "                    verbose=1, \n",
        "                    cv=3)\n",
        "\n",
        "grid_result = grid.fit(X_train, y_train,\n",
        "                       epochs=1, \n",
        "                       validation_data=(X_test,y_test),\n",
        "                       verbose=2,\n",
        "                       callbacks=[checkpoint_callback])\n",
        "end=time()"
      ],
      "metadata": {
        "colab": {
          "base_uri": "https://localhost:8080/"
        },
        "id": "8-lr9t6HNRYT",
        "outputId": "dbd4aa1f-975a-4d6c-e17a-65929ddadfc5"
      },
      "execution_count": null,
      "outputs": [
        {
          "output_type": "stream",
          "name": "stderr",
          "text": [
            "<timed exec>:11: DeprecationWarning: KerasClassifier is deprecated, use Sci-Keras (https://github.com/adriangb/scikeras) instead. See https://www.adriangb.com/scikeras/stable/migration.html for help migrating.\n"
          ]
        },
        {
          "output_type": "stream",
          "name": "stdout",
          "text": [
            "Fitting 3 folds for each of 25 candidates, totalling 75 fits\n",
            "\n",
            "Epoch 1: saving model to ./weights_best.h5\n",
            "1563/1563 - 9s - loss: 0.6523 - accuracy: 0.7999 - val_loss: 0.5206 - val_accuracy: 0.8422 - 9s/epoch - 6ms/step\n",
            "782/782 [==============================] - 2s 2ms/step - loss: 0.5303 - accuracy: 0.8397\n",
            "\n",
            "Epoch 1: saving model to ./weights_best.h5\n",
            "1563/1563 - 8s - loss: 0.6445 - accuracy: 0.8011 - val_loss: 0.5265 - val_accuracy: 0.8411 - 8s/epoch - 5ms/step\n",
            "782/782 [==============================] - 2s 2ms/step - loss: 0.5361 - accuracy: 0.8369\n",
            "\n",
            "Epoch 1: saving model to ./weights_best.h5\n",
            "1563/1563 - 8s - loss: 0.6474 - accuracy: 0.8023 - val_loss: 0.5197 - val_accuracy: 0.8416 - 8s/epoch - 5ms/step\n",
            "782/782 [==============================] - 2s 2ms/step - loss: 0.5305 - accuracy: 0.8392\n",
            "\n",
            "Epoch 1: saving model to ./weights_best.h5\n",
            "1563/1563 - 9s - loss: 0.6503 - accuracy: 0.7994 - val_loss: 0.4914 - val_accuracy: 0.8508 - 9s/epoch - 6ms/step\n",
            "782/782 [==============================] - 2s 2ms/step - loss: 0.4984 - accuracy: 0.8464\n",
            "\n",
            "Epoch 1: saving model to ./weights_best.h5\n",
            "1563/1563 - 9s - loss: 0.6560 - accuracy: 0.7980 - val_loss: 0.5183 - val_accuracy: 0.8429 - 9s/epoch - 6ms/step\n",
            "782/782 [==============================] - 2s 3ms/step - loss: 0.5223 - accuracy: 0.8417\n",
            "\n",
            "Epoch 1: saving model to ./weights_best.h5\n",
            "1563/1563 - 8s - loss: 0.6518 - accuracy: 0.8012 - val_loss: 0.5274 - val_accuracy: 0.8419 - 8s/epoch - 5ms/step\n",
            "782/782 [==============================] - 2s 2ms/step - loss: 0.5368 - accuracy: 0.8386\n",
            "\n",
            "Epoch 1: saving model to ./weights_best.h5\n",
            "1563/1563 - 8s - loss: 0.6505 - accuracy: 0.8002 - val_loss: 0.5181 - val_accuracy: 0.8425 - 8s/epoch - 5ms/step\n",
            "782/782 [==============================] - 2s 2ms/step - loss: 0.5268 - accuracy: 0.8406\n",
            "\n",
            "Epoch 1: saving model to ./weights_best.h5\n",
            "1563/1563 - 8s - loss: 0.6519 - accuracy: 0.8000 - val_loss: 0.5237 - val_accuracy: 0.8406 - 8s/epoch - 5ms/step\n",
            "782/782 [==============================] - 2s 2ms/step - loss: 0.5295 - accuracy: 0.8389\n",
            "\n",
            "Epoch 1: saving model to ./weights_best.h5\n",
            "1563/1563 - 9s - loss: 0.6476 - accuracy: 0.8016 - val_loss: 0.5101 - val_accuracy: 0.8429 - 9s/epoch - 6ms/step\n",
            "782/782 [==============================] - 2s 2ms/step - loss: 0.5185 - accuracy: 0.8402\n",
            "\n",
            "Epoch 1: saving model to ./weights_best.h5\n",
            "1563/1563 - 9s - loss: 0.6478 - accuracy: 0.8007 - val_loss: 0.5406 - val_accuracy: 0.8343 - 9s/epoch - 6ms/step\n",
            "782/782 [==============================] - 2s 2ms/step - loss: 0.5525 - accuracy: 0.8283\n",
            "\n",
            "Epoch 1: saving model to ./weights_best.h5\n",
            "1563/1563 - 9s - loss: 0.6531 - accuracy: 0.7977 - val_loss: 0.5046 - val_accuracy: 0.8482 - 9s/epoch - 6ms/step\n",
            "782/782 [==============================] - 2s 3ms/step - loss: 0.5114 - accuracy: 0.8457\n",
            "\n",
            "Epoch 1: saving model to ./weights_best.h5\n",
            "1563/1563 - 9s - loss: 0.6491 - accuracy: 0.8015 - val_loss: 0.5060 - val_accuracy: 0.8496 - 9s/epoch - 6ms/step\n",
            "782/782 [==============================] - 2s 2ms/step - loss: 0.5179 - accuracy: 0.8447\n",
            "\n",
            "Epoch 1: saving model to ./weights_best.h5\n",
            "1563/1563 - 9s - loss: 0.6496 - accuracy: 0.7996 - val_loss: 0.4999 - val_accuracy: 0.8495 - 9s/epoch - 6ms/step\n",
            "782/782 [==============================] - 2s 2ms/step - loss: 0.5037 - accuracy: 0.8447\n",
            "\n",
            "Epoch 1: saving model to ./weights_best.h5\n",
            "1563/1563 - 9s - loss: 0.6563 - accuracy: 0.7969 - val_loss: 0.5152 - val_accuracy: 0.8426 - 9s/epoch - 6ms/step\n",
            "782/782 [==============================] - 2s 2ms/step - loss: 0.5184 - accuracy: 0.8416\n",
            "\n",
            "Epoch 1: saving model to ./weights_best.h5\n",
            "1563/1563 - 9s - loss: 0.6495 - accuracy: 0.8009 - val_loss: 0.5170 - val_accuracy: 0.8398 - 9s/epoch - 6ms/step\n",
            "782/782 [==============================] - 2s 2ms/step - loss: 0.5294 - accuracy: 0.8382\n",
            "\n",
            "Epoch 1: saving model to ./weights_best.h5\n",
            "1563/1563 - 10s - loss: 0.6717 - accuracy: 0.7939 - val_loss: 0.5156 - val_accuracy: 0.8418 - 10s/epoch - 6ms/step\n",
            "782/782 [==============================] - 3s 3ms/step - loss: 0.5230 - accuracy: 0.8405\n",
            "\n",
            "Epoch 1: saving model to ./weights_best.h5\n",
            "1563/1563 - 9s - loss: 0.6742 - accuracy: 0.7925 - val_loss: 0.5324 - val_accuracy: 0.8383 - 9s/epoch - 6ms/step\n",
            "782/782 [==============================] - 2s 3ms/step - loss: 0.5365 - accuracy: 0.8380\n",
            "\n",
            "Epoch 1: saving model to ./weights_best.h5\n",
            "1563/1563 - 9s - loss: 0.6717 - accuracy: 0.7962 - val_loss: 0.5223 - val_accuracy: 0.8397 - 9s/epoch - 6ms/step\n",
            "782/782 [==============================] - 2s 2ms/step - loss: 0.5328 - accuracy: 0.8359\n",
            "\n",
            "Epoch 1: saving model to ./weights_best.h5\n",
            "1563/1563 - 10s - loss: 0.6721 - accuracy: 0.7945 - val_loss: 0.5396 - val_accuracy: 0.8377 - 10s/epoch - 6ms/step\n",
            "782/782 [==============================] - 2s 2ms/step - loss: 0.5553 - accuracy: 0.8327\n",
            "\n",
            "Epoch 1: saving model to ./weights_best.h5\n",
            "1563/1563 - 10s - loss: 0.6768 - accuracy: 0.7909 - val_loss: 0.5295 - val_accuracy: 0.8362 - 10s/epoch - 6ms/step\n",
            "782/782 [==============================] - 2s 2ms/step - loss: 0.5375 - accuracy: 0.8329\n",
            "\n",
            "Epoch 1: saving model to ./weights_best.h5\n",
            "1563/1563 - 10s - loss: 0.6750 - accuracy: 0.7929 - val_loss: 0.5260 - val_accuracy: 0.8382 - 10s/epoch - 6ms/step\n",
            "782/782 [==============================] - 2s 2ms/step - loss: 0.5360 - accuracy: 0.8371\n",
            "\n",
            "Epoch 1: saving model to ./weights_best.h5\n",
            "1563/1563 - 9s - loss: 0.6780 - accuracy: 0.7926 - val_loss: 0.5079 - val_accuracy: 0.8428 - 9s/epoch - 5ms/step\n",
            "782/782 [==============================] - 2s 2ms/step - loss: 0.5143 - accuracy: 0.8420\n",
            "\n",
            "Epoch 1: saving model to ./weights_best.h5\n",
            "1563/1563 - 11s - loss: 0.6735 - accuracy: 0.7937 - val_loss: 0.5127 - val_accuracy: 0.8414 - 11s/epoch - 7ms/step\n",
            "782/782 [==============================] - 2s 2ms/step - loss: 0.5175 - accuracy: 0.8408\n",
            "\n",
            "Epoch 1: saving model to ./weights_best.h5\n",
            "1563/1563 - 10s - loss: 0.6703 - accuracy: 0.7965 - val_loss: 0.5108 - val_accuracy: 0.8448 - 10s/epoch - 6ms/step\n",
            "782/782 [==============================] - 2s 2ms/step - loss: 0.5213 - accuracy: 0.8427\n",
            "\n",
            "Epoch 1: saving model to ./weights_best.h5\n",
            "1563/1563 - 9s - loss: 0.6734 - accuracy: 0.7954 - val_loss: 0.5177 - val_accuracy: 0.8442 - 9s/epoch - 6ms/step\n",
            "782/782 [==============================] - 3s 3ms/step - loss: 0.5210 - accuracy: 0.8386\n",
            "\n",
            "Epoch 1: saving model to ./weights_best.h5\n",
            "1563/1563 - 9s - loss: 0.6772 - accuracy: 0.7909 - val_loss: 0.5207 - val_accuracy: 0.8429 - 9s/epoch - 6ms/step\n",
            "782/782 [==============================] - 2s 2ms/step - loss: 0.5298 - accuracy: 0.8411\n",
            "\n",
            "Epoch 1: saving model to ./weights_best.h5\n",
            "1563/1563 - 8s - loss: 0.6753 - accuracy: 0.7926 - val_loss: 0.5169 - val_accuracy: 0.8428 - 8s/epoch - 5ms/step\n",
            "782/782 [==============================] - 2s 2ms/step - loss: 0.5241 - accuracy: 0.8403\n",
            "\n",
            "Epoch 1: saving model to ./weights_best.h5\n",
            "1563/1563 - 9s - loss: 0.6700 - accuracy: 0.7936 - val_loss: 0.5037 - val_accuracy: 0.8471 - 9s/epoch - 6ms/step\n",
            "782/782 [==============================] - 2s 2ms/step - loss: 0.5143 - accuracy: 0.8431\n",
            "\n",
            "Epoch 1: saving model to ./weights_best.h5\n",
            "1563/1563 - 10s - loss: 0.6778 - accuracy: 0.7907 - val_loss: 0.5422 - val_accuracy: 0.8362 - 10s/epoch - 6ms/step\n",
            "782/782 [==============================] - 2s 2ms/step - loss: 0.5460 - accuracy: 0.8320\n",
            "\n",
            "Epoch 1: saving model to ./weights_best.h5\n",
            "1563/1563 - 9s - loss: 0.6725 - accuracy: 0.7926 - val_loss: 0.5153 - val_accuracy: 0.8468 - 9s/epoch - 6ms/step\n",
            "782/782 [==============================] - 2s 2ms/step - loss: 0.5273 - accuracy: 0.8401\n",
            "\n",
            "Epoch 1: saving model to ./weights_best.h5\n",
            "1563/1563 - 10s - loss: 0.6946 - accuracy: 0.7860 - val_loss: 0.5395 - val_accuracy: 0.8350 - 10s/epoch - 6ms/step\n",
            "782/782 [==============================] - 2s 3ms/step - loss: 0.5447 - accuracy: 0.8315\n",
            "\n",
            "Epoch 1: saving model to ./weights_best.h5\n",
            "1563/1563 - 10s - loss: 0.6988 - accuracy: 0.7856 - val_loss: 0.5384 - val_accuracy: 0.8339 - 10s/epoch - 6ms/step\n",
            "782/782 [==============================] - 2s 3ms/step - loss: 0.5464 - accuracy: 0.8316\n",
            "\n",
            "Epoch 1: saving model to ./weights_best.h5\n",
            "1563/1563 - 8s - loss: 0.7018 - accuracy: 0.7842 - val_loss: 0.5213 - val_accuracy: 0.8418 - 8s/epoch - 5ms/step\n",
            "782/782 [==============================] - 2s 2ms/step - loss: 0.5338 - accuracy: 0.8384\n",
            "\n",
            "Epoch 1: saving model to ./weights_best.h5\n",
            "1563/1563 - 9s - loss: 0.7006 - accuracy: 0.7851 - val_loss: 0.5220 - val_accuracy: 0.8406 - 9s/epoch - 6ms/step\n",
            "782/782 [==============================] - 2s 2ms/step - loss: 0.5343 - accuracy: 0.8358\n",
            "\n",
            "Epoch 1: saving model to ./weights_best.h5\n",
            "1563/1563 - 9s - loss: 0.6978 - accuracy: 0.7846 - val_loss: 0.5245 - val_accuracy: 0.8392 - 9s/epoch - 6ms/step\n",
            "782/782 [==============================] - 2s 2ms/step - loss: 0.5358 - accuracy: 0.8378\n",
            "\n",
            "Epoch 1: saving model to ./weights_best.h5\n",
            "1563/1563 - 8s - loss: 0.6985 - accuracy: 0.7843 - val_loss: 0.5312 - val_accuracy: 0.8385 - 8s/epoch - 5ms/step\n",
            "782/782 [==============================] - 2s 2ms/step - loss: 0.5422 - accuracy: 0.8350\n",
            "\n",
            "Epoch 1: saving model to ./weights_best.h5\n",
            "1563/1563 - 8s - loss: 0.6956 - accuracy: 0.7856 - val_loss: 0.5083 - val_accuracy: 0.8471 - 8s/epoch - 5ms/step\n",
            "782/782 [==============================] - 2s 2ms/step - loss: 0.5158 - accuracy: 0.8446\n",
            "\n",
            "Epoch 1: saving model to ./weights_best.h5\n",
            "1563/1563 - 9s - loss: 0.7011 - accuracy: 0.7845 - val_loss: 0.5319 - val_accuracy: 0.8377 - 9s/epoch - 6ms/step\n",
            "782/782 [==============================] - 2s 2ms/step - loss: 0.5306 - accuracy: 0.8394\n",
            "\n",
            "Epoch 1: saving model to ./weights_best.h5\n",
            "1563/1563 - 9s - loss: 0.6968 - accuracy: 0.7856 - val_loss: 0.5091 - val_accuracy: 0.8460 - 9s/epoch - 6ms/step\n",
            "782/782 [==============================] - 2s 2ms/step - loss: 0.5189 - accuracy: 0.8424\n",
            "\n",
            "Epoch 1: saving model to ./weights_best.h5\n",
            "1563/1563 - 9s - loss: 0.6967 - accuracy: 0.7840 - val_loss: 0.5165 - val_accuracy: 0.8418 - 9s/epoch - 6ms/step\n",
            "782/782 [==============================] - 2s 2ms/step - loss: 0.5205 - accuracy: 0.8395\n",
            "\n",
            "Epoch 1: saving model to ./weights_best.h5\n",
            "1563/1563 - 10s - loss: 0.7038 - accuracy: 0.7833 - val_loss: 0.5207 - val_accuracy: 0.8410 - 10s/epoch - 6ms/step\n",
            "782/782 [==============================] - 2s 3ms/step - loss: 0.5257 - accuracy: 0.8398\n",
            "\n",
            "Epoch 1: saving model to ./weights_best.h5\n",
            "1563/1563 - 8s - loss: 0.6970 - accuracy: 0.7856 - val_loss: 0.5345 - val_accuracy: 0.8380 - 8s/epoch - 5ms/step\n",
            "782/782 [==============================] - 2s 3ms/step - loss: 0.5453 - accuracy: 0.8325\n",
            "\n",
            "Epoch 1: saving model to ./weights_best.h5\n",
            "1563/1563 - 8s - loss: 0.6883 - accuracy: 0.7892 - val_loss: 0.5233 - val_accuracy: 0.8400 - 8s/epoch - 5ms/step\n",
            "782/782 [==============================] - 2s 3ms/step - loss: 0.5231 - accuracy: 0.8405\n",
            "\n",
            "Epoch 1: saving model to ./weights_best.h5\n",
            "1563/1563 - 8s - loss: 0.7017 - accuracy: 0.7845 - val_loss: 0.5301 - val_accuracy: 0.8382 - 8s/epoch - 5ms/step\n",
            "782/782 [==============================] - 2s 3ms/step - loss: 0.5320 - accuracy: 0.8368\n",
            "\n",
            "Epoch 1: saving model to ./weights_best.h5\n",
            "1563/1563 - 8s - loss: 0.6978 - accuracy: 0.7848 - val_loss: 0.5178 - val_accuracy: 0.8470 - 8s/epoch - 5ms/step\n",
            "782/782 [==============================] - 2s 2ms/step - loss: 0.5347 - accuracy: 0.8386\n",
            "\n",
            "Epoch 1: saving model to ./weights_best.h5\n",
            "1563/1563 - 10s - loss: 0.7237 - accuracy: 0.7776 - val_loss: 0.5368 - val_accuracy: 0.8366 - 10s/epoch - 6ms/step\n",
            "782/782 [==============================] - 2s 2ms/step - loss: 0.5398 - accuracy: 0.8361\n",
            "\n",
            "Epoch 1: saving model to ./weights_best.h5\n",
            "1563/1563 - 9s - loss: 0.7227 - accuracy: 0.7772 - val_loss: 0.5273 - val_accuracy: 0.8396 - 9s/epoch - 6ms/step\n",
            "782/782 [==============================] - 2s 2ms/step - loss: 0.5359 - accuracy: 0.8363\n",
            "\n",
            "Epoch 1: saving model to ./weights_best.h5\n",
            "1563/1563 - 10s - loss: 0.7237 - accuracy: 0.7768 - val_loss: 0.5448 - val_accuracy: 0.8367 - 10s/epoch - 6ms/step\n",
            "782/782 [==============================] - 2s 2ms/step - loss: 0.5562 - accuracy: 0.8302\n",
            "\n",
            "Epoch 1: saving model to ./weights_best.h5\n",
            "1563/1563 - 10s - loss: 0.7215 - accuracy: 0.7774 - val_loss: 0.5271 - val_accuracy: 0.8386 - 10s/epoch - 6ms/step\n",
            "782/782 [==============================] - 2s 2ms/step - loss: 0.5327 - accuracy: 0.8356\n",
            "\n",
            "Epoch 1: saving model to ./weights_best.h5\n",
            "1563/1563 - 8s - loss: 0.7254 - accuracy: 0.7744 - val_loss: 0.5383 - val_accuracy: 0.8335 - 8s/epoch - 5ms/step\n",
            "782/782 [==============================] - 2s 2ms/step - loss: 0.5491 - accuracy: 0.8316\n",
            "\n",
            "Epoch 1: saving model to ./weights_best.h5\n",
            "1563/1563 - 8s - loss: 0.7239 - accuracy: 0.7785 - val_loss: 0.5370 - val_accuracy: 0.8386 - 8s/epoch - 5ms/step\n",
            "782/782 [==============================] - 2s 3ms/step - loss: 0.5471 - accuracy: 0.8350\n",
            "\n",
            "Epoch 1: saving model to ./weights_best.h5\n",
            "1563/1563 - 9s - loss: 0.7283 - accuracy: 0.7745 - val_loss: 0.5491 - val_accuracy: 0.8326 - 9s/epoch - 6ms/step\n",
            "782/782 [==============================] - 3s 3ms/step - loss: 0.5586 - accuracy: 0.8281\n",
            "\n",
            "Epoch 1: saving model to ./weights_best.h5\n",
            "1563/1563 - 8s - loss: 0.7273 - accuracy: 0.7764 - val_loss: 0.5387 - val_accuracy: 0.8366 - 8s/epoch - 5ms/step\n",
            "782/782 [==============================] - 2s 3ms/step - loss: 0.5444 - accuracy: 0.8361\n",
            "\n",
            "Epoch 1: saving model to ./weights_best.h5\n",
            "1563/1563 - 9s - loss: 0.7219 - accuracy: 0.7781 - val_loss: 0.5283 - val_accuracy: 0.8399 - 9s/epoch - 6ms/step\n",
            "782/782 [==============================] - 2s 3ms/step - loss: 0.5409 - accuracy: 0.8347\n",
            "\n",
            "Epoch 1: saving model to ./weights_best.h5\n",
            "1563/1563 - 9s - loss: 0.7246 - accuracy: 0.7780 - val_loss: 0.5812 - val_accuracy: 0.8244 - 9s/epoch - 6ms/step\n",
            "782/782 [==============================] - 2s 2ms/step - loss: 0.5933 - accuracy: 0.8203\n",
            "\n",
            "Epoch 1: saving model to ./weights_best.h5\n",
            "1563/1563 - 9s - loss: 0.7229 - accuracy: 0.7787 - val_loss: 0.5410 - val_accuracy: 0.8356 - 9s/epoch - 6ms/step\n",
            "782/782 [==============================] - 2s 2ms/step - loss: 0.5488 - accuracy: 0.8316\n",
            "\n",
            "Epoch 1: saving model to ./weights_best.h5\n",
            "1563/1563 - 8s - loss: 0.7191 - accuracy: 0.7800 - val_loss: 0.5414 - val_accuracy: 0.8303 - 8s/epoch - 5ms/step\n",
            "782/782 [==============================] - 2s 2ms/step - loss: 0.5484 - accuracy: 0.8293\n",
            "\n",
            "Epoch 1: saving model to ./weights_best.h5\n",
            "1563/1563 - 10s - loss: 0.7232 - accuracy: 0.7787 - val_loss: 0.5220 - val_accuracy: 0.8412 - 10s/epoch - 6ms/step\n",
            "782/782 [==============================] - 3s 4ms/step - loss: 0.5298 - accuracy: 0.8394\n",
            "\n",
            "Epoch 1: saving model to ./weights_best.h5\n",
            "1563/1563 - 10s - loss: 0.7231 - accuracy: 0.7761 - val_loss: 0.5333 - val_accuracy: 0.8380 - 10s/epoch - 6ms/step\n",
            "782/782 [==============================] - 2s 2ms/step - loss: 0.5451 - accuracy: 0.8350\n",
            "\n",
            "Epoch 1: saving model to ./weights_best.h5\n",
            "1563/1563 - 10s - loss: 0.7201 - accuracy: 0.7784 - val_loss: 0.5418 - val_accuracy: 0.8335 - 10s/epoch - 6ms/step\n",
            "782/782 [==============================] - 3s 3ms/step - loss: 0.5544 - accuracy: 0.8316\n",
            "\n",
            "Epoch 1: saving model to ./weights_best.h5\n",
            "1563/1563 - 8s - loss: 0.7512 - accuracy: 0.7691 - val_loss: 0.5659 - val_accuracy: 0.8281 - 8s/epoch - 5ms/step\n",
            "782/782 [==============================] - 2s 3ms/step - loss: 0.5719 - accuracy: 0.8265\n",
            "\n",
            "Epoch 1: saving model to ./weights_best.h5\n",
            "1563/1563 - 9s - loss: 0.7517 - accuracy: 0.7684 - val_loss: 0.5810 - val_accuracy: 0.8230 - 9s/epoch - 6ms/step\n",
            "782/782 [==============================] - 2s 2ms/step - loss: 0.5872 - accuracy: 0.8208\n",
            "\n",
            "Epoch 1: saving model to ./weights_best.h5\n",
            "1563/1563 - 11s - loss: 0.7470 - accuracy: 0.7700 - val_loss: 0.5301 - val_accuracy: 0.8380 - 11s/epoch - 7ms/step\n",
            "782/782 [==============================] - 2s 2ms/step - loss: 0.5438 - accuracy: 0.8330\n",
            "\n",
            "Epoch 1: saving model to ./weights_best.h5\n",
            "1563/1563 - 9s - loss: 0.7551 - accuracy: 0.7665 - val_loss: 0.5408 - val_accuracy: 0.8366 - 9s/epoch - 5ms/step\n",
            "782/782 [==============================] - 2s 2ms/step - loss: 0.5494 - accuracy: 0.8318\n",
            "\n",
            "Epoch 1: saving model to ./weights_best.h5\n",
            "1563/1563 - 8s - loss: 0.7491 - accuracy: 0.7687 - val_loss: 0.5267 - val_accuracy: 0.8386 - 8s/epoch - 5ms/step\n",
            "782/782 [==============================] - 2s 2ms/step - loss: 0.5341 - accuracy: 0.8372\n",
            "\n",
            "Epoch 1: saving model to ./weights_best.h5\n",
            "1563/1563 - 10s - loss: 0.7473 - accuracy: 0.7699 - val_loss: 0.5387 - val_accuracy: 0.8387 - 10s/epoch - 6ms/step\n",
            "782/782 [==============================] - 2s 2ms/step - loss: 0.5498 - accuracy: 0.8305\n",
            "\n",
            "Epoch 1: saving model to ./weights_best.h5\n",
            "1563/1563 - 8s - loss: 0.7478 - accuracy: 0.7691 - val_loss: 0.5380 - val_accuracy: 0.8344 - 8s/epoch - 5ms/step\n",
            "782/782 [==============================] - 2s 2ms/step - loss: 0.5470 - accuracy: 0.8290\n",
            "\n",
            "Epoch 1: saving model to ./weights_best.h5\n",
            "1563/1563 - 8s - loss: 0.7546 - accuracy: 0.7685 - val_loss: 0.5640 - val_accuracy: 0.8277 - 8s/epoch - 5ms/step\n",
            "782/782 [==============================] - 2s 2ms/step - loss: 0.5688 - accuracy: 0.8258\n",
            "\n",
            "Epoch 1: saving model to ./weights_best.h5\n",
            "1563/1563 - 10s - loss: 0.7567 - accuracy: 0.7659 - val_loss: 0.5517 - val_accuracy: 0.8356 - 10s/epoch - 6ms/step\n",
            "782/782 [==============================] - 2s 2ms/step - loss: 0.5598 - accuracy: 0.8329\n",
            "\n",
            "Epoch 1: saving model to ./weights_best.h5\n",
            "1563/1563 - 8s - loss: 0.7517 - accuracy: 0.7673 - val_loss: 0.5324 - val_accuracy: 0.8383 - 8s/epoch - 5ms/step\n",
            "782/782 [==============================] - 2s 3ms/step - loss: 0.5447 - accuracy: 0.8340\n",
            "\n",
            "Epoch 1: saving model to ./weights_best.h5\n",
            "1563/1563 - 8s - loss: 0.7534 - accuracy: 0.7682 - val_loss: 0.5525 - val_accuracy: 0.8309 - 8s/epoch - 5ms/step\n",
            "782/782 [==============================] - 2s 2ms/step - loss: 0.5593 - accuracy: 0.8304\n",
            "\n",
            "Epoch 1: saving model to ./weights_best.h5\n",
            "1563/1563 - 9s - loss: 0.7427 - accuracy: 0.7701 - val_loss: 0.5332 - val_accuracy: 0.8378 - 9s/epoch - 6ms/step\n",
            "782/782 [==============================] - 2s 2ms/step - loss: 0.5446 - accuracy: 0.8338\n",
            "\n",
            "Epoch 1: saving model to ./weights_best.h5\n",
            "1563/1563 - 9s - loss: 0.7559 - accuracy: 0.7664 - val_loss: 0.5314 - val_accuracy: 0.8389 - 9s/epoch - 6ms/step\n",
            "782/782 [==============================] - 2s 2ms/step - loss: 0.5369 - accuracy: 0.8352\n",
            "\n",
            "Epoch 1: saving model to ./weights_best.h5\n",
            "1563/1563 - 10s - loss: 0.7531 - accuracy: 0.7668 - val_loss: 0.5452 - val_accuracy: 0.8370 - 10s/epoch - 6ms/step\n",
            "782/782 [==============================] - 2s 2ms/step - loss: 0.5521 - accuracy: 0.8343\n",
            "\n",
            "Epoch 1: saving model to ./weights_best.h5\n",
            "1563/1563 - 10s - loss: 0.7473 - accuracy: 0.7684 - val_loss: 0.5379 - val_accuracy: 0.8357 - 10s/epoch - 6ms/step\n",
            "782/782 [==============================] - 2s 3ms/step - loss: 0.5486 - accuracy: 0.8308\n",
            "\n",
            "Epoch 1: saving model to ./weights_best.h5\n",
            "2344/2344 - 11s - loss: 0.6014 - accuracy: 0.8164 - val_loss: 0.4840 - val_accuracy: 0.8542 - 11s/epoch - 5ms/step\n",
            "CPU times: user 16min 5s, sys: 1min 36s, total: 17min 42s\n",
            "Wall time: 16min 49s\n"
          ]
        }
      ]
    },
    {
      "cell_type": "code",
      "source": [
        "print(\"Gridsearch runtime {0:.3} mins\".format((end-start)/60))"
      ],
      "metadata": {
        "colab": {
          "base_uri": "https://localhost:8080/"
        },
        "id": "gV3dCBhCRbMI",
        "outputId": "229943e4-8d02-4130-d5f8-860547a2ee52"
      },
      "execution_count": null,
      "outputs": [
        {
          "output_type": "stream",
          "name": "stdout",
          "text": [
            "Gridsearch runtime 16.8 mins\n"
          ]
        }
      ]
    },
    {
      "cell_type": "code",
      "source": [
        "# Evaluate the model\n",
        "best_model = grid_result.best_estimator_\n",
        "test_acc = best_model.score(X_test, y_test)"
      ],
      "metadata": {
        "colab": {
          "base_uri": "https://localhost:8080/"
        },
        "id": "pJeUTiKkGfm_",
        "outputId": "e88900b7-1de6-41f5-9bc8-715e020bdcb5"
      },
      "execution_count": null,
      "outputs": [
        {
          "output_type": "stream",
          "name": "stdout",
          "text": [
            "782/782 [==============================] - 2s 2ms/step - loss: 0.4840 - accuracy: 0.8542\n"
          ]
        }
      ]
    },
    {
      "cell_type": "code",
      "source": [
        "# Load the saved model and the weights and biases\n",
        "saved_my_model = tf.keras.models.load_model(checkpoint_filepath)\n",
        "\n",
        "# Check that we retrieved the saved model architecture correctly\n",
        "saved_my_model.summary()\n",
        "\n",
        "# check that we get the original result using the saved weights\n",
        "saved_my_model.evaluate(X_test, y_test)"
      ],
      "metadata": {
        "colab": {
          "base_uri": "https://localhost:8080/"
        },
        "id": "ol-FHLwzHBUF",
        "outputId": "d9c1460c-df96-4d64-8dce-fc6fd697e33d"
      },
      "execution_count": null,
      "outputs": [
        {
          "output_type": "stream",
          "name": "stdout",
          "text": [
            "Model: \"sequential_249\"\n",
            "_________________________________________________________________\n",
            " Layer (type)                Output Shape              Param #   \n",
            "=================================================================\n",
            " dense_996 (Dense)           (None, 500)               392500    \n",
            "                                                                 \n",
            " re_lu_747 (ReLU)            (None, 500)               0         \n",
            "                                                                 \n",
            " dropout_747 (Dropout)       (None, 500)               0         \n",
            "                                                                 \n",
            " dense_997 (Dense)           (None, 250)               125250    \n",
            "                                                                 \n",
            " re_lu_748 (ReLU)            (None, 250)               0         \n",
            "                                                                 \n",
            " dropout_748 (Dropout)       (None, 250)               0         \n",
            "                                                                 \n",
            " dense_998 (Dense)           (None, 100)               25100     \n",
            "                                                                 \n",
            " re_lu_749 (ReLU)            (None, 100)               0         \n",
            "                                                                 \n",
            " dropout_749 (Dropout)       (None, 100)               0         \n",
            "                                                                 \n",
            " dense_999 (Dense)           (None, 10)                1010      \n",
            "                                                                 \n",
            "=================================================================\n",
            "Total params: 543,860\n",
            "Trainable params: 543,860\n",
            "Non-trainable params: 0\n",
            "_________________________________________________________________\n",
            "782/782 [==============================] - 4s 4ms/step - loss: 0.4840 - accuracy: 0.8542\n"
          ]
        },
        {
          "output_type": "execute_result",
          "data": {
            "text/plain": [
              "[0.4840383529663086, 0.8541600108146667]"
            ]
          },
          "metadata": {},
          "execution_count": 57
        }
      ]
    }
  ]
}